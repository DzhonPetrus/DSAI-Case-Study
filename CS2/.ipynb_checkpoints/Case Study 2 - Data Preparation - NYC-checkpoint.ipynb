{
 "cells": [
  {
   "cell_type": "markdown",
   "metadata": {},
   "source": [
    "# Data Preparation\n",
    "\n",
    "Dataset: <a href=\"https://www.kaggle.com/new-york-city/nyc-property-sales/downloads/nyc-property-sales.zip/1\">NYC Property Sales</a><br>\n",
    "Filename: nyc-rolling-sales.csv<br>\n",
    "Target Variable: SALE PRICE\n"
   ]
  },
  {
   "cell_type": "markdown",
   "metadata": {},
   "source": [
    "<table>\n",
    "  <tr>\n",
    "    <th>Feature_Name</th>\n",
    "    <th>Feature_Type</th>\n",
    "  </tr>\n",
    "  <tr>\n",
    "    <td>Unnamed: 0</td>\n",
    "    <td>Unknown</td>\n",
    "  </tr>\n",
    "  <tr>\n",
    "    <td>BOROUGH</td>\n",
    "    <td>CATEGORICAL</td>\n",
    "  </tr>\n",
    "  <tr>\n",
    "    <td>NEIGHBORHOOD</td>\n",
    "    <td>CATEGORICAL</td>\n",
    "  </tr>\n",
    "  <tr>\n",
    "    <td>BUILDING CLASS CATEGORY</td>\n",
    "    <td>CATEGORICAL</td>\n",
    "  </tr>\n",
    "  <tr>\n",
    "    <td>TAX CLASS AT PRESENT</td>\n",
    "    <td>CATEGORICAL</td>\n",
    "  </tr>\n",
    "  <tr>\n",
    "    <td>BLOCK</td>\n",
    "    <td>CATEGORICAL</td>\n",
    "  </tr>\n",
    "  <tr>\n",
    "    <td>LOT</td>\n",
    "    <td>CATEGORICAL</td>\n",
    "  </tr>\n",
    "  <tr>\n",
    "    <td>EASE-MENT</td>\n",
    "    <td>Unknown</td>\n",
    "  </tr>\n",
    "  <tr>\n",
    "    <td>BUILDING CLASS AT PRESENT</td>\n",
    "    <td>CATEGORICAL</td>\n",
    "  </tr>\n",
    "  <tr>\n",
    "    <td>ADDRESS</td>\n",
    "    <td>CATEGORICAL</td>\n",
    "  </tr>\n",
    "  <tr>\n",
    "    <td>APARTMENT NUMBER</td>\n",
    "    <td>CATEGORICAL</td>\n",
    "  </tr>\n",
    "  <tr>\n",
    "    <td>ZIP CODE</td>\n",
    "    <td>CATEGORICAL</td>\n",
    "  </tr>\n",
    "  <tr>\n",
    "    <td>RESIDENTIAL UNITS</td>\n",
    "    <td>NUMERICAL</td>\n",
    "  </tr>\n",
    "  <tr>\n",
    "    <td>COMMERCIAL UNITS</td>\n",
    "    <td>NUMERICAL</td>\n",
    "  </tr>\n",
    "  <tr>\n",
    "    <td>TOTAL UNITS</td>\n",
    "    <td>NUMERICAL</td>\n",
    "  </tr>\n",
    "  <tr>\n",
    "    <td>LAND SQUARE FEET</td>\n",
    "    <td>NUMERICAL</td>\n",
    "  </tr>\n",
    "  <tr>\n",
    "    <td>GROSS SQUARE FEET</td>\n",
    "    <td>NUMERICAL</td>\n",
    "  </tr>\n",
    "  <tr>\n",
    "    <td>YEAR BUILT</td>\n",
    "    <td>NUMERICAL</td>\n",
    "  </tr>\n",
    "  <tr>\n",
    "    <td>TAX CLASS AT TIME OF SALE</td>\n",
    "    <td>CATEGORICAL</td>\n",
    "  </tr>\n",
    "  <tr>\n",
    "    <td>BUILDING CLASS AT TIME OF SALE</td>\n",
    "    <td>CATEGORICAL</td>\n",
    "  </tr>\n",
    "  <tr>\n",
    "    <td>SALE PRICE</td>\n",
    "    <td>NUMERICAL (TARGET)</td>\n",
    "  </tr>\n",
    "  <tr>\n",
    "    <td>SALE DATE</td>\n",
    "    <td>DATETIME</td>\n",
    "  </tr>\n",
    "</table>"
   ]
  },
  {
   "cell_type": "markdown",
   "metadata": {},
   "source": [
    "## Import Libraries"
   ]
  },
  {
   "cell_type": "markdown",
   "metadata": {},
   "source": [
    "________"
   ]
  },
  {
   "cell_type": "markdown",
   "metadata": {},
   "source": [
    "## Load the Dataset\n",
    "* Specify the Parameters (Filepath, Index Column)\n",
    "* Check for Date-Time Columns to Parse Dates\n",
    "* Check Encoding if file does not load correctly"
   ]
  },
  {
   "cell_type": "code",
   "execution_count": null,
   "metadata": {},
   "outputs": [],
   "source": []
  },
  {
   "cell_type": "markdown",
   "metadata": {},
   "source": [
    "View the Dataset"
   ]
  },
  {
   "cell_type": "code",
   "execution_count": null,
   "metadata": {},
   "outputs": [],
   "source": []
  },
  {
   "cell_type": "markdown",
   "metadata": {},
   "source": [
    "Check the Shape"
   ]
  },
  {
   "cell_type": "code",
   "execution_count": null,
   "metadata": {},
   "outputs": [],
   "source": []
  },
  {
   "cell_type": "markdown",
   "metadata": {},
   "source": [
    "## Ensure Columns / Features have Proper Labels"
   ]
  },
  {
   "cell_type": "markdown",
   "metadata": {},
   "source": [
    "Remove any columns that have not been labelled properly or are of unknown feature type"
   ]
  },
  {
   "cell_type": "code",
   "execution_count": null,
   "metadata": {},
   "outputs": [],
   "source": []
  },
  {
   "cell_type": "markdown",
   "metadata": {},
   "source": [
    "## Ensure Correct Format of Values"
   ]
  },
  {
   "cell_type": "markdown",
   "metadata": {},
   "source": [
    "Use the table above as reference"
   ]
  },
  {
   "cell_type": "code",
   "execution_count": null,
   "metadata": {},
   "outputs": [],
   "source": []
  },
  {
   "cell_type": "markdown",
   "metadata": {},
   "source": [
    "## Remove Duplicates"
   ]
  },
  {
   "cell_type": "markdown",
   "metadata": {},
   "source": [
    "Check if there are duplicated rows\n"
   ]
  },
  {
   "cell_type": "code",
   "execution_count": null,
   "metadata": {},
   "outputs": [],
   "source": []
  },
  {
   "cell_type": "markdown",
   "metadata": {},
   "source": [
    "Remove the duplicates if any"
   ]
  },
  {
   "cell_type": "code",
   "execution_count": null,
   "metadata": {},
   "outputs": [],
   "source": []
  },
  {
   "cell_type": "markdown",
   "metadata": {},
   "source": [
    "Check if the rows are dropped"
   ]
  },
  {
   "cell_type": "code",
   "execution_count": null,
   "metadata": {},
   "outputs": [],
   "source": []
  },
  {
   "cell_type": "markdown",
   "metadata": {},
   "source": [
    "## Handle Missing Data"
   ]
  },
  {
   "cell_type": "markdown",
   "metadata": {},
   "source": [
    "Hint: You may have to use the describe function to properly handle missing values for this dataset\n",
    "<br>\n",
    "\n",
    "\n"
   ]
  },
  {
   "cell_type": "markdown",
   "metadata": {},
   "source": [
    "For the Target Variable:\n",
    "Many sales occur with a nonsensically small dollar amount: USD0 most commonly. These sales are actually transfers of deeds between parties: for example, parents transferring ownership to their home to a child after moving out for retirement. For our purposes, let's remove any sale price that is less than USD10,000.00"
   ]
  },
  {
   "cell_type": "code",
   "execution_count": null,
   "metadata": {},
   "outputs": [],
   "source": []
  },
  {
   "cell_type": "markdown",
   "metadata": {},
   "source": [
    "_______"
   ]
  },
  {
   "cell_type": "markdown",
   "metadata": {},
   "source": [
    "## Remove Outliers"
   ]
  },
  {
   "cell_type": "markdown",
   "metadata": {},
   "source": [
    "### Univariate"
   ]
  },
  {
   "cell_type": "markdown",
   "metadata": {},
   "source": [
    "Check the Distribution of the Target Column"
   ]
  },
  {
   "cell_type": "code",
   "execution_count": null,
   "metadata": {},
   "outputs": [],
   "source": []
  },
  {
   "cell_type": "markdown",
   "metadata": {},
   "source": [
    "Remove outliers using any value, which is beyond the range of -1.5 x IQR to 1.5 x IQR\n",
    "\n"
   ]
  },
  {
   "cell_type": "markdown",
   "metadata": {},
   "source": [
    "*The interquartile range (IQR), is equal to the difference between 75th and 25th percentiles \n",
    "IQR = Q3 − Q1.*\n",
    "\n",
    "<a href=\"https://en.wikipedia.org/wiki/Interquartile_range\">More information</a>"
   ]
  },
  {
   "cell_type": "markdown",
   "metadata": {},
   "source": [
    "View the changes in distribution after removing the outliers"
   ]
  },
  {
   "cell_type": "code",
   "execution_count": null,
   "metadata": {},
   "outputs": [],
   "source": []
  },
  {
   "cell_type": "markdown",
   "metadata": {},
   "source": [
    "______"
   ]
  },
  {
   "cell_type": "markdown",
   "metadata": {},
   "source": [
    "## Split into Numerical, Categorical, and Target"
   ]
  },
  {
   "cell_type": "code",
   "execution_count": null,
   "metadata": {},
   "outputs": [],
   "source": []
  },
  {
   "cell_type": "markdown",
   "metadata": {},
   "source": [
    "_______"
   ]
  },
  {
   "cell_type": "markdown",
   "metadata": {},
   "source": [
    "## Scale the Numerical Features"
   ]
  },
  {
   "cell_type": "markdown",
   "metadata": {},
   "source": [
    "Scale using the Robust Scaler"
   ]
  },
  {
   "cell_type": "code",
   "execution_count": null,
   "metadata": {},
   "outputs": [],
   "source": []
  },
  {
   "cell_type": "markdown",
   "metadata": {},
   "source": [
    "_______"
   ]
  },
  {
   "cell_type": "markdown",
   "metadata": {},
   "source": [
    "## Manage Categorical Variables"
   ]
  },
  {
   "cell_type": "markdown",
   "metadata": {},
   "source": [
    "Get the statistics for Categorical columns\n",
    "* Drop those with more than 1000 unique values.\n",
    "* Drop also the features that would not be known at the time of sale. \n",
    "    * Features with \"AT PRESENT\" tags"
   ]
  },
  {
   "cell_type": "code",
   "execution_count": null,
   "metadata": {},
   "outputs": [],
   "source": []
  },
  {
   "cell_type": "markdown",
   "metadata": {},
   "source": [
    " Convert Categories to Number "
   ]
  },
  {
   "cell_type": "code",
   "execution_count": null,
   "metadata": {},
   "outputs": [],
   "source": []
  },
  {
   "cell_type": "markdown",
   "metadata": {},
   "source": [
    "_______"
   ]
  },
  {
   "cell_type": "markdown",
   "metadata": {},
   "source": [
    "# Save the final dataset as a CSV File"
   ]
  },
  {
   "cell_type": "code",
   "execution_count": null,
   "metadata": {},
   "outputs": [],
   "source": []
  },
  {
   "cell_type": "markdown",
   "metadata": {},
   "source": [
    "### Check if it loads correctly"
   ]
  },
  {
   "cell_type": "code",
   "execution_count": null,
   "metadata": {},
   "outputs": [],
   "source": []
  }
 ],
 "metadata": {
  "kernelspec": {
   "display_name": "Python 3",
   "language": "python",
   "name": "python3"
  },
  "language_info": {
   "codemirror_mode": {
    "name": "ipython",
    "version": 3
   },
   "file_extension": ".py",
   "mimetype": "text/x-python",
   "name": "python",
   "nbconvert_exporter": "python",
   "pygments_lexer": "ipython3",
   "version": "3.8.5"
  }
 },
 "nbformat": 4,
 "nbformat_minor": 2
}
