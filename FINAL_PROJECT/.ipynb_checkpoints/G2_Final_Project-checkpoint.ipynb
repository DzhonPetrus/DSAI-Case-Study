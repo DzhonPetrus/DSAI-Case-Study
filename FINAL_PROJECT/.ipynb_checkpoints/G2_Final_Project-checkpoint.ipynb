{
 "cells": [
  {
   "cell_type": "markdown",
   "metadata": {},
   "source": [
    "# Data Preparation\n",
    "\n",
    "Dataset: <a href=\"https://archive.ics.uci.edu/ml/datasets/wine+quality\">Wine Quality</a><br>\n",
    "Filename: winequality-red.csv & winequality-white.csv\n"
   ]
  },
  {
   "cell_type": "markdown",
   "metadata": {},
   "source": [
    "## Import Libraries"
   ]
  },
  {
   "cell_type": "code",
   "execution_count": 1,
   "metadata": {},
   "outputs": [],
   "source": [
    "import pandas as pd\n",
    "import matplotlib.pyplot as plt\n",
    "import seaborn as sns\n",
    "import numpy as np\n",
    "\n",
    "\n",
    "# %matplotlib inline"
   ]
  },
  {
   "cell_type": "code",
   "execution_count": 2,
   "metadata": {},
   "outputs": [],
   "source": [
    "# Set Options for display\n",
    "pd.options.display.max_rows = 100\n",
    "pd.options.display.max_columns = 100\n",
    "pd.options.display.float_format = '{:.2f}'.format\n",
    "\n",
    "#Filter Warnings\n",
    "import warnings\n",
    "warnings.filterwarnings('ignore')"
   ]
  },
  {
   "cell_type": "code",
   "execution_count": 3,
   "metadata": {},
   "outputs": [],
   "source": [
    "# from scipy.stats import norm\n",
    "# from scipy import stats"
   ]
  },
  {
   "cell_type": "code",
   "execution_count": 4,
   "metadata": {},
   "outputs": [],
   "source": [
    "from sklearn.preprocessing import StandardScaler\n",
    "from sklearn.model_selection import train_test_split\n",
    "from sklearn.metrics import classification_report, confusion_matrix\n",
    "from sklearn.tree import DecisionTreeClassifier\n",
    "from sklearn.ensemble import RandomForestClassifier"
   ]
  },
  {
   "cell_type": "markdown",
   "metadata": {},
   "source": [
    "________"
   ]
  },
  {
   "cell_type": "markdown",
   "metadata": {},
   "source": [
    "# Part 2 - Data Quality Assessment"
   ]
  },
  {
   "cell_type": "markdown",
   "metadata": {},
   "source": [
    "## Load the Dataset\n",
    "* Specify the Parameters (Filepath, Index Column)\n",
    "* Check for Date-Time Columns to Parse Dates\n",
    "* Check Encoding if file does not load correctly"
   ]
  },
  {
   "cell_type": "code",
   "execution_count": 5,
   "metadata": {},
   "outputs": [],
   "source": [
    "df_red = pd.read_csv(\"./winequality-red.csv\", sep=\";\")\n",
    "df_white = pd.read_csv(\"./winequality-white.csv\", sep=\";\")"
   ]
  },
  {
   "cell_type": "markdown",
   "metadata": {},
   "source": [
    "View the Dataset"
   ]
  },
  {
   "cell_type": "code",
   "execution_count": 6,
   "metadata": {},
   "outputs": [],
   "source": [
    "# ADDING wine_color to red wines as 0\n",
    "wine_color = []\n",
    "for i in range(0,df_red.quality.count()):\n",
    "    wine_color.append(0)\n",
    "df_red['wine_color'] = wine_color\n",
    "\n",
    "# ADDING wine_color to white wines as 1\n",
    "wine_color = []\n",
    "for i in range(0,df_white.quality.count()):\n",
    "    wine_color.append(1)\n",
    "df_white['wine_color'] = wine_color"
   ]
  },
  {
   "cell_type": "markdown",
   "metadata": {},
   "source": [
    "Check the Shape"
   ]
  },
  {
   "cell_type": "code",
   "execution_count": 7,
   "metadata": {},
   "outputs": [
    {
     "data": {
      "text/plain": [
       "(3198, 13)"
      ]
     },
     "execution_count": 7,
     "metadata": {},
     "output_type": "execute_result"
    }
   ],
   "source": [
    "df_white = df_white[0:df_red.quality.count()]\n",
    "\n",
    "\n",
    "df = pd.concat([df_red,df_white])\n",
    "df.shape"
   ]
  },
  {
   "cell_type": "markdown",
   "metadata": {},
   "source": [
    "Set the correct index"
   ]
  },
  {
   "cell_type": "code",
   "execution_count": 8,
   "metadata": {},
   "outputs": [],
   "source": [
    "# df.set_index('Id', inplace=True)"
   ]
  },
  {
   "cell_type": "markdown",
   "metadata": {},
   "source": [
    "## Ensure Columns / Features have Proper Labels"
   ]
  },
  {
   "cell_type": "code",
   "execution_count": 9,
   "metadata": {},
   "outputs": [
    {
     "data": {
      "text/plain": [
       "Index(['fixed acidity', 'volatile acidity', 'citric acid', 'residual sugar',\n",
       "       'chlorides', 'free sulfur dioxide', 'total sulfur dioxide', 'density',\n",
       "       'pH', 'sulphates', 'alcohol', 'quality', 'wine_color'],\n",
       "      dtype='object')"
      ]
     },
     "execution_count": 9,
     "metadata": {},
     "output_type": "execute_result"
    }
   ],
   "source": [
    "df.columns"
   ]
  },
  {
   "cell_type": "code",
   "execution_count": 10,
   "metadata": {},
   "outputs": [],
   "source": [
    "correct_col_names = []\n",
    "\n",
    "# REPLACING SPACE WITH _ FOR PROPER LABEL\n",
    "for col_name in df.columns:\n",
    "    splitted_name = col_name.split(' ')\n",
    "    if len(splitted_name) == 1:\n",
    "        correct_col_names.append(col_name)\n",
    "    else:\n",
    "        joined_name = '_'.join(splitted_name)\n",
    "        correct_col_names.append(joined_name)\n",
    "\n",
    "# REASSIGN COLUMN HEADERS\n",
    "df.columns = correct_col_names"
   ]
  },
  {
   "cell_type": "markdown",
   "metadata": {},
   "source": [
    "## Ensure Correct Format of Values"
   ]
  },
  {
   "cell_type": "code",
   "execution_count": 11,
   "metadata": {},
   "outputs": [
    {
     "data": {
      "text/plain": [
       "fixed_acidity           float64\n",
       "volatile_acidity        float64\n",
       "citric_acid             float64\n",
       "residual_sugar          float64\n",
       "chlorides               float64\n",
       "free_sulfur_dioxide     float64\n",
       "total_sulfur_dioxide    float64\n",
       "density                 float64\n",
       "pH                      float64\n",
       "sulphates               float64\n",
       "alcohol                 float64\n",
       "quality                   int64\n",
       "wine_color                int64\n",
       "dtype: object"
      ]
     },
     "execution_count": 11,
     "metadata": {},
     "output_type": "execute_result"
    }
   ],
   "source": [
    "df.dtypes"
   ]
  },
  {
   "cell_type": "markdown",
   "metadata": {},
   "source": [
    "## Remove Duplicates"
   ]
  },
  {
   "cell_type": "markdown",
   "metadata": {},
   "source": [
    "Check if Index is duplicated"
   ]
  },
  {
   "cell_type": "code",
   "execution_count": 12,
   "metadata": {},
   "outputs": [
    {
     "data": {
      "text/plain": [
       "491"
      ]
     },
     "execution_count": 12,
     "metadata": {},
     "output_type": "execute_result"
    }
   ],
   "source": [
    "df.duplicated().sum()"
   ]
  },
  {
   "cell_type": "markdown",
   "metadata": {},
   "source": [
    "Check if there are duplicated rows\n"
   ]
  },
  {
   "cell_type": "code",
   "execution_count": 13,
   "metadata": {},
   "outputs": [
    {
     "data": {
      "text/html": [
       "<div>\n",
       "<style scoped>\n",
       "    .dataframe tbody tr th:only-of-type {\n",
       "        vertical-align: middle;\n",
       "    }\n",
       "\n",
       "    .dataframe tbody tr th {\n",
       "        vertical-align: top;\n",
       "    }\n",
       "\n",
       "    .dataframe thead th {\n",
       "        text-align: right;\n",
       "    }\n",
       "</style>\n",
       "<table border=\"1\" class=\"dataframe\">\n",
       "  <thead>\n",
       "    <tr style=\"text-align: right;\">\n",
       "      <th></th>\n",
       "      <th>fixed_acidity</th>\n",
       "      <th>volatile_acidity</th>\n",
       "      <th>citric_acid</th>\n",
       "      <th>residual_sugar</th>\n",
       "      <th>chlorides</th>\n",
       "      <th>free_sulfur_dioxide</th>\n",
       "      <th>total_sulfur_dioxide</th>\n",
       "      <th>density</th>\n",
       "      <th>pH</th>\n",
       "      <th>sulphates</th>\n",
       "      <th>alcohol</th>\n",
       "      <th>quality</th>\n",
       "      <th>wine_color</th>\n",
       "    </tr>\n",
       "  </thead>\n",
       "  <tbody>\n",
       "    <tr>\n",
       "      <th>4</th>\n",
       "      <td>7.40</td>\n",
       "      <td>0.70</td>\n",
       "      <td>0.00</td>\n",
       "      <td>1.90</td>\n",
       "      <td>0.08</td>\n",
       "      <td>11.00</td>\n",
       "      <td>34.00</td>\n",
       "      <td>1.00</td>\n",
       "      <td>3.51</td>\n",
       "      <td>0.56</td>\n",
       "      <td>9.40</td>\n",
       "      <td>5</td>\n",
       "      <td>0</td>\n",
       "    </tr>\n",
       "    <tr>\n",
       "      <th>11</th>\n",
       "      <td>7.50</td>\n",
       "      <td>0.50</td>\n",
       "      <td>0.36</td>\n",
       "      <td>6.10</td>\n",
       "      <td>0.07</td>\n",
       "      <td>17.00</td>\n",
       "      <td>102.00</td>\n",
       "      <td>1.00</td>\n",
       "      <td>3.35</td>\n",
       "      <td>0.80</td>\n",
       "      <td>10.50</td>\n",
       "      <td>5</td>\n",
       "      <td>0</td>\n",
       "    </tr>\n",
       "    <tr>\n",
       "      <th>27</th>\n",
       "      <td>7.90</td>\n",
       "      <td>0.43</td>\n",
       "      <td>0.21</td>\n",
       "      <td>1.60</td>\n",
       "      <td>0.11</td>\n",
       "      <td>10.00</td>\n",
       "      <td>37.00</td>\n",
       "      <td>1.00</td>\n",
       "      <td>3.17</td>\n",
       "      <td>0.91</td>\n",
       "      <td>9.50</td>\n",
       "      <td>5</td>\n",
       "      <td>0</td>\n",
       "    </tr>\n",
       "    <tr>\n",
       "      <th>40</th>\n",
       "      <td>7.30</td>\n",
       "      <td>0.45</td>\n",
       "      <td>0.36</td>\n",
       "      <td>5.90</td>\n",
       "      <td>0.07</td>\n",
       "      <td>12.00</td>\n",
       "      <td>87.00</td>\n",
       "      <td>1.00</td>\n",
       "      <td>3.33</td>\n",
       "      <td>0.83</td>\n",
       "      <td>10.50</td>\n",
       "      <td>5</td>\n",
       "      <td>0</td>\n",
       "    </tr>\n",
       "    <tr>\n",
       "      <th>65</th>\n",
       "      <td>7.20</td>\n",
       "      <td>0.72</td>\n",
       "      <td>0.05</td>\n",
       "      <td>4.65</td>\n",
       "      <td>0.09</td>\n",
       "      <td>4.00</td>\n",
       "      <td>11.00</td>\n",
       "      <td>1.00</td>\n",
       "      <td>3.41</td>\n",
       "      <td>0.39</td>\n",
       "      <td>10.90</td>\n",
       "      <td>5</td>\n",
       "      <td>0</td>\n",
       "    </tr>\n",
       "    <tr>\n",
       "      <th>...</th>\n",
       "      <td>...</td>\n",
       "      <td>...</td>\n",
       "      <td>...</td>\n",
       "      <td>...</td>\n",
       "      <td>...</td>\n",
       "      <td>...</td>\n",
       "      <td>...</td>\n",
       "      <td>...</td>\n",
       "      <td>...</td>\n",
       "      <td>...</td>\n",
       "      <td>...</td>\n",
       "      <td>...</td>\n",
       "      <td>...</td>\n",
       "    </tr>\n",
       "    <tr>\n",
       "      <th>1571</th>\n",
       "      <td>7.40</td>\n",
       "      <td>0.30</td>\n",
       "      <td>0.49</td>\n",
       "      <td>8.20</td>\n",
       "      <td>0.06</td>\n",
       "      <td>49.00</td>\n",
       "      <td>188.00</td>\n",
       "      <td>1.00</td>\n",
       "      <td>3.52</td>\n",
       "      <td>0.58</td>\n",
       "      <td>9.70</td>\n",
       "      <td>6</td>\n",
       "      <td>1</td>\n",
       "    </tr>\n",
       "    <tr>\n",
       "      <th>1583</th>\n",
       "      <td>6.40</td>\n",
       "      <td>0.18</td>\n",
       "      <td>0.74</td>\n",
       "      <td>11.90</td>\n",
       "      <td>0.05</td>\n",
       "      <td>54.00</td>\n",
       "      <td>168.00</td>\n",
       "      <td>1.00</td>\n",
       "      <td>3.58</td>\n",
       "      <td>0.68</td>\n",
       "      <td>10.10</td>\n",
       "      <td>5</td>\n",
       "      <td>1</td>\n",
       "    </tr>\n",
       "    <tr>\n",
       "      <th>1587</th>\n",
       "      <td>6.40</td>\n",
       "      <td>0.25</td>\n",
       "      <td>0.74</td>\n",
       "      <td>7.80</td>\n",
       "      <td>0.04</td>\n",
       "      <td>52.00</td>\n",
       "      <td>209.00</td>\n",
       "      <td>1.00</td>\n",
       "      <td>3.21</td>\n",
       "      <td>0.42</td>\n",
       "      <td>9.20</td>\n",
       "      <td>6</td>\n",
       "      <td>1</td>\n",
       "    </tr>\n",
       "    <tr>\n",
       "      <th>1588</th>\n",
       "      <td>7.30</td>\n",
       "      <td>0.30</td>\n",
       "      <td>0.74</td>\n",
       "      <td>13.50</td>\n",
       "      <td>0.04</td>\n",
       "      <td>46.00</td>\n",
       "      <td>165.00</td>\n",
       "      <td>1.00</td>\n",
       "      <td>3.02</td>\n",
       "      <td>0.40</td>\n",
       "      <td>8.70</td>\n",
       "      <td>5</td>\n",
       "      <td>1</td>\n",
       "    </tr>\n",
       "    <tr>\n",
       "      <th>1597</th>\n",
       "      <td>6.40</td>\n",
       "      <td>0.27</td>\n",
       "      <td>0.49</td>\n",
       "      <td>7.30</td>\n",
       "      <td>0.05</td>\n",
       "      <td>53.00</td>\n",
       "      <td>206.00</td>\n",
       "      <td>1.00</td>\n",
       "      <td>3.24</td>\n",
       "      <td>0.43</td>\n",
       "      <td>9.20</td>\n",
       "      <td>6</td>\n",
       "      <td>1</td>\n",
       "    </tr>\n",
       "  </tbody>\n",
       "</table>\n",
       "<p>491 rows × 13 columns</p>\n",
       "</div>"
      ],
      "text/plain": [
       "      fixed_acidity  volatile_acidity  citric_acid  residual_sugar  chlorides  \\\n",
       "4              7.40              0.70         0.00            1.90       0.08   \n",
       "11             7.50              0.50         0.36            6.10       0.07   \n",
       "27             7.90              0.43         0.21            1.60       0.11   \n",
       "40             7.30              0.45         0.36            5.90       0.07   \n",
       "65             7.20              0.72         0.05            4.65       0.09   \n",
       "...             ...               ...          ...             ...        ...   \n",
       "1571           7.40              0.30         0.49            8.20       0.06   \n",
       "1583           6.40              0.18         0.74           11.90       0.05   \n",
       "1587           6.40              0.25         0.74            7.80       0.04   \n",
       "1588           7.30              0.30         0.74           13.50       0.04   \n",
       "1597           6.40              0.27         0.49            7.30       0.05   \n",
       "\n",
       "      free_sulfur_dioxide  total_sulfur_dioxide  density   pH  sulphates  \\\n",
       "4                   11.00                 34.00     1.00 3.51       0.56   \n",
       "11                  17.00                102.00     1.00 3.35       0.80   \n",
       "27                  10.00                 37.00     1.00 3.17       0.91   \n",
       "40                  12.00                 87.00     1.00 3.33       0.83   \n",
       "65                   4.00                 11.00     1.00 3.41       0.39   \n",
       "...                   ...                   ...      ...  ...        ...   \n",
       "1571                49.00                188.00     1.00 3.52       0.58   \n",
       "1583                54.00                168.00     1.00 3.58       0.68   \n",
       "1587                52.00                209.00     1.00 3.21       0.42   \n",
       "1588                46.00                165.00     1.00 3.02       0.40   \n",
       "1597                53.00                206.00     1.00 3.24       0.43   \n",
       "\n",
       "      alcohol  quality  wine_color  \n",
       "4        9.40        5           0  \n",
       "11      10.50        5           0  \n",
       "27       9.50        5           0  \n",
       "40      10.50        5           0  \n",
       "65      10.90        5           0  \n",
       "...       ...      ...         ...  \n",
       "1571     9.70        6           1  \n",
       "1583    10.10        5           1  \n",
       "1587     9.20        6           1  \n",
       "1588     8.70        5           1  \n",
       "1597     9.20        6           1  \n",
       "\n",
       "[491 rows x 13 columns]"
      ]
     },
     "execution_count": 13,
     "metadata": {},
     "output_type": "execute_result"
    }
   ],
   "source": [
    "df[df.duplicated()]"
   ]
  },
  {
   "cell_type": "markdown",
   "metadata": {},
   "source": [
    "Remove the duplicates if any"
   ]
  },
  {
   "cell_type": "code",
   "execution_count": 14,
   "metadata": {},
   "outputs": [],
   "source": [
    "df.drop_duplicates(inplace=True)"
   ]
  },
  {
   "cell_type": "markdown",
   "metadata": {},
   "source": [
    "## Handle Missing Data"
   ]
  },
  {
   "cell_type": "markdown",
   "metadata": {},
   "source": [
    "Check for missing data"
   ]
  },
  {
   "cell_type": "code",
   "execution_count": 15,
   "metadata": {},
   "outputs": [],
   "source": [
    "#Gets the total number of missing data\n",
    "total = df.isnull().sum().sort_values(ascending=False)\n"
   ]
  },
  {
   "cell_type": "code",
   "execution_count": 16,
   "metadata": {},
   "outputs": [],
   "source": [
    "#Get % of Null\n",
    "percent = (df.isnull().sum()/df.isnull().count()).sort_values(ascending=False)"
   ]
  },
  {
   "cell_type": "code",
   "execution_count": 17,
   "metadata": {},
   "outputs": [
    {
     "data": {
      "text/html": [
       "<div>\n",
       "<style scoped>\n",
       "    .dataframe tbody tr th:only-of-type {\n",
       "        vertical-align: middle;\n",
       "    }\n",
       "\n",
       "    .dataframe tbody tr th {\n",
       "        vertical-align: top;\n",
       "    }\n",
       "\n",
       "    .dataframe thead th {\n",
       "        text-align: right;\n",
       "    }\n",
       "</style>\n",
       "<table border=\"1\" class=\"dataframe\">\n",
       "  <thead>\n",
       "    <tr style=\"text-align: right;\">\n",
       "      <th></th>\n",
       "      <th>Total</th>\n",
       "      <th>Percent</th>\n",
       "    </tr>\n",
       "  </thead>\n",
       "  <tbody>\n",
       "    <tr>\n",
       "      <th>fixed_acidity</th>\n",
       "      <td>0</td>\n",
       "      <td>0.00</td>\n",
       "    </tr>\n",
       "    <tr>\n",
       "      <th>volatile_acidity</th>\n",
       "      <td>0</td>\n",
       "      <td>0.00</td>\n",
       "    </tr>\n",
       "    <tr>\n",
       "      <th>citric_acid</th>\n",
       "      <td>0</td>\n",
       "      <td>0.00</td>\n",
       "    </tr>\n",
       "    <tr>\n",
       "      <th>residual_sugar</th>\n",
       "      <td>0</td>\n",
       "      <td>0.00</td>\n",
       "    </tr>\n",
       "    <tr>\n",
       "      <th>chlorides</th>\n",
       "      <td>0</td>\n",
       "      <td>0.00</td>\n",
       "    </tr>\n",
       "    <tr>\n",
       "      <th>free_sulfur_dioxide</th>\n",
       "      <td>0</td>\n",
       "      <td>0.00</td>\n",
       "    </tr>\n",
       "    <tr>\n",
       "      <th>total_sulfur_dioxide</th>\n",
       "      <td>0</td>\n",
       "      <td>0.00</td>\n",
       "    </tr>\n",
       "    <tr>\n",
       "      <th>density</th>\n",
       "      <td>0</td>\n",
       "      <td>0.00</td>\n",
       "    </tr>\n",
       "    <tr>\n",
       "      <th>pH</th>\n",
       "      <td>0</td>\n",
       "      <td>0.00</td>\n",
       "    </tr>\n",
       "    <tr>\n",
       "      <th>sulphates</th>\n",
       "      <td>0</td>\n",
       "      <td>0.00</td>\n",
       "    </tr>\n",
       "    <tr>\n",
       "      <th>alcohol</th>\n",
       "      <td>0</td>\n",
       "      <td>0.00</td>\n",
       "    </tr>\n",
       "    <tr>\n",
       "      <th>quality</th>\n",
       "      <td>0</td>\n",
       "      <td>0.00</td>\n",
       "    </tr>\n",
       "    <tr>\n",
       "      <th>wine_color</th>\n",
       "      <td>0</td>\n",
       "      <td>0.00</td>\n",
       "    </tr>\n",
       "  </tbody>\n",
       "</table>\n",
       "</div>"
      ],
      "text/plain": [
       "                      Total  Percent\n",
       "fixed_acidity             0     0.00\n",
       "volatile_acidity          0     0.00\n",
       "citric_acid               0     0.00\n",
       "residual_sugar            0     0.00\n",
       "chlorides                 0     0.00\n",
       "free_sulfur_dioxide       0     0.00\n",
       "total_sulfur_dioxide      0     0.00\n",
       "density                   0     0.00\n",
       "pH                        0     0.00\n",
       "sulphates                 0     0.00\n",
       "alcohol                   0     0.00\n",
       "quality                   0     0.00\n",
       "wine_color                0     0.00"
      ]
     },
     "execution_count": 17,
     "metadata": {},
     "output_type": "execute_result"
    }
   ],
   "source": [
    "missing_data = pd.concat([total, percent], axis=1, keys=['Total', 'Percent'])\n",
    "\n",
    "missing_data.head(20)"
   ]
  },
  {
   "cell_type": "code",
   "execution_count": 18,
   "metadata": {},
   "outputs": [
    {
     "data": {
      "text/html": [
       "<div>\n",
       "<style scoped>\n",
       "    .dataframe tbody tr th:only-of-type {\n",
       "        vertical-align: middle;\n",
       "    }\n",
       "\n",
       "    .dataframe tbody tr th {\n",
       "        vertical-align: top;\n",
       "    }\n",
       "\n",
       "    .dataframe thead th {\n",
       "        text-align: right;\n",
       "    }\n",
       "</style>\n",
       "<table border=\"1\" class=\"dataframe\">\n",
       "  <thead>\n",
       "    <tr style=\"text-align: right;\">\n",
       "      <th></th>\n",
       "      <th>fixed_acidity</th>\n",
       "      <th>volatile_acidity</th>\n",
       "      <th>citric_acid</th>\n",
       "      <th>residual_sugar</th>\n",
       "      <th>chlorides</th>\n",
       "      <th>free_sulfur_dioxide</th>\n",
       "      <th>total_sulfur_dioxide</th>\n",
       "      <th>density</th>\n",
       "      <th>pH</th>\n",
       "      <th>sulphates</th>\n",
       "      <th>alcohol</th>\n",
       "      <th>quality</th>\n",
       "      <th>wine_color</th>\n",
       "    </tr>\n",
       "  </thead>\n",
       "  <tbody>\n",
       "    <tr>\n",
       "      <th>count</th>\n",
       "      <td>2707.00</td>\n",
       "      <td>2707.00</td>\n",
       "      <td>2707.00</td>\n",
       "      <td>2707.00</td>\n",
       "      <td>2707.00</td>\n",
       "      <td>2707.00</td>\n",
       "      <td>2707.00</td>\n",
       "      <td>2707.00</td>\n",
       "      <td>2707.00</td>\n",
       "      <td>2707.00</td>\n",
       "      <td>2707.00</td>\n",
       "      <td>2707.00</td>\n",
       "      <td>2707.00</td>\n",
       "    </tr>\n",
       "    <tr>\n",
       "      <th>mean</th>\n",
       "      <td>7.66</td>\n",
       "      <td>0.41</td>\n",
       "      <td>0.32</td>\n",
       "      <td>4.13</td>\n",
       "      <td>0.07</td>\n",
       "      <td>25.19</td>\n",
       "      <td>94.67</td>\n",
       "      <td>1.00</td>\n",
       "      <td>3.26</td>\n",
       "      <td>0.57</td>\n",
       "      <td>10.38</td>\n",
       "      <td>5.74</td>\n",
       "      <td>0.50</td>\n",
       "    </tr>\n",
       "    <tr>\n",
       "      <th>std</th>\n",
       "      <td>1.53</td>\n",
       "      <td>0.19</td>\n",
       "      <td>0.18</td>\n",
       "      <td>3.89</td>\n",
       "      <td>0.04</td>\n",
       "      <td>16.75</td>\n",
       "      <td>62.26</td>\n",
       "      <td>0.00</td>\n",
       "      <td>0.16</td>\n",
       "      <td>0.17</td>\n",
       "      <td>1.10</td>\n",
       "      <td>0.90</td>\n",
       "      <td>0.50</td>\n",
       "    </tr>\n",
       "    <tr>\n",
       "      <th>min</th>\n",
       "      <td>4.60</td>\n",
       "      <td>0.08</td>\n",
       "      <td>0.00</td>\n",
       "      <td>0.80</td>\n",
       "      <td>0.01</td>\n",
       "      <td>1.00</td>\n",
       "      <td>6.00</td>\n",
       "      <td>0.99</td>\n",
       "      <td>2.74</td>\n",
       "      <td>0.25</td>\n",
       "      <td>8.40</td>\n",
       "      <td>3.00</td>\n",
       "      <td>0.00</td>\n",
       "    </tr>\n",
       "    <tr>\n",
       "      <th>25%</th>\n",
       "      <td>6.70</td>\n",
       "      <td>0.26</td>\n",
       "      <td>0.21</td>\n",
       "      <td>1.80</td>\n",
       "      <td>0.04</td>\n",
       "      <td>12.00</td>\n",
       "      <td>37.00</td>\n",
       "      <td>0.99</td>\n",
       "      <td>3.15</td>\n",
       "      <td>0.46</td>\n",
       "      <td>9.50</td>\n",
       "      <td>5.00</td>\n",
       "      <td>0.00</td>\n",
       "    </tr>\n",
       "    <tr>\n",
       "      <th>50%</th>\n",
       "      <td>7.30</td>\n",
       "      <td>0.36</td>\n",
       "      <td>0.32</td>\n",
       "      <td>2.30</td>\n",
       "      <td>0.06</td>\n",
       "      <td>22.00</td>\n",
       "      <td>89.00</td>\n",
       "      <td>1.00</td>\n",
       "      <td>3.26</td>\n",
       "      <td>0.55</td>\n",
       "      <td>10.10</td>\n",
       "      <td>6.00</td>\n",
       "      <td>0.00</td>\n",
       "    </tr>\n",
       "    <tr>\n",
       "      <th>75%</th>\n",
       "      <td>8.30</td>\n",
       "      <td>0.54</td>\n",
       "      <td>0.43</td>\n",
       "      <td>5.00</td>\n",
       "      <td>0.08</td>\n",
       "      <td>35.00</td>\n",
       "      <td>143.00</td>\n",
       "      <td>1.00</td>\n",
       "      <td>3.37</td>\n",
       "      <td>0.65</td>\n",
       "      <td>11.10</td>\n",
       "      <td>6.00</td>\n",
       "      <td>1.00</td>\n",
       "    </tr>\n",
       "    <tr>\n",
       "      <th>max</th>\n",
       "      <td>15.90</td>\n",
       "      <td>1.58</td>\n",
       "      <td>1.66</td>\n",
       "      <td>22.00</td>\n",
       "      <td>0.61</td>\n",
       "      <td>131.00</td>\n",
       "      <td>366.50</td>\n",
       "      <td>1.00</td>\n",
       "      <td>4.01</td>\n",
       "      <td>2.00</td>\n",
       "      <td>14.90</td>\n",
       "      <td>9.00</td>\n",
       "      <td>1.00</td>\n",
       "    </tr>\n",
       "  </tbody>\n",
       "</table>\n",
       "</div>"
      ],
      "text/plain": [
       "       fixed_acidity  volatile_acidity  citric_acid  residual_sugar  \\\n",
       "count        2707.00           2707.00      2707.00         2707.00   \n",
       "mean            7.66              0.41         0.32            4.13   \n",
       "std             1.53              0.19         0.18            3.89   \n",
       "min             4.60              0.08         0.00            0.80   \n",
       "25%             6.70              0.26         0.21            1.80   \n",
       "50%             7.30              0.36         0.32            2.30   \n",
       "75%             8.30              0.54         0.43            5.00   \n",
       "max            15.90              1.58         1.66           22.00   \n",
       "\n",
       "       chlorides  free_sulfur_dioxide  total_sulfur_dioxide  density      pH  \\\n",
       "count    2707.00              2707.00               2707.00  2707.00 2707.00   \n",
       "mean        0.07                25.19                 94.67     1.00    3.26   \n",
       "std         0.04                16.75                 62.26     0.00    0.16   \n",
       "min         0.01                 1.00                  6.00     0.99    2.74   \n",
       "25%         0.04                12.00                 37.00     0.99    3.15   \n",
       "50%         0.06                22.00                 89.00     1.00    3.26   \n",
       "75%         0.08                35.00                143.00     1.00    3.37   \n",
       "max         0.61               131.00                366.50     1.00    4.01   \n",
       "\n",
       "       sulphates  alcohol  quality  wine_color  \n",
       "count    2707.00  2707.00  2707.00     2707.00  \n",
       "mean        0.57    10.38     5.74        0.50  \n",
       "std         0.17     1.10     0.90        0.50  \n",
       "min         0.25     8.40     3.00        0.00  \n",
       "25%         0.46     9.50     5.00        0.00  \n",
       "50%         0.55    10.10     6.00        0.00  \n",
       "75%         0.65    11.10     6.00        1.00  \n",
       "max         2.00    14.90     9.00        1.00  "
      ]
     },
     "execution_count": 18,
     "metadata": {},
     "output_type": "execute_result"
    }
   ],
   "source": [
    "df.describe()"
   ]
  },
  {
   "cell_type": "code",
   "execution_count": 19,
   "metadata": {},
   "outputs": [
    {
     "data": {
      "text/plain": [
       "(2707, 13)"
      ]
     },
     "execution_count": 19,
     "metadata": {},
     "output_type": "execute_result"
    }
   ],
   "source": [
    "df.shape"
   ]
  },
  {
   "cell_type": "markdown",
   "metadata": {},
   "source": [
    "_______"
   ]
  },
  {
   "cell_type": "markdown",
   "metadata": {},
   "source": [
    "# Part 3 - Exploratory Data Analysis"
   ]
  },
  {
   "cell_type": "markdown",
   "metadata": {},
   "source": [
    "Get the statistics for numerical data"
   ]
  },
  {
   "cell_type": "code",
   "execution_count": 20,
   "metadata": {},
   "outputs": [
    {
     "data": {
      "text/html": [
       "<div>\n",
       "<style scoped>\n",
       "    .dataframe tbody tr th:only-of-type {\n",
       "        vertical-align: middle;\n",
       "    }\n",
       "\n",
       "    .dataframe tbody tr th {\n",
       "        vertical-align: top;\n",
       "    }\n",
       "\n",
       "    .dataframe thead th {\n",
       "        text-align: right;\n",
       "    }\n",
       "</style>\n",
       "<table border=\"1\" class=\"dataframe\">\n",
       "  <thead>\n",
       "    <tr style=\"text-align: right;\">\n",
       "      <th></th>\n",
       "      <th>fixed_acidity</th>\n",
       "      <th>volatile_acidity</th>\n",
       "      <th>citric_acid</th>\n",
       "      <th>residual_sugar</th>\n",
       "      <th>chlorides</th>\n",
       "      <th>free_sulfur_dioxide</th>\n",
       "      <th>total_sulfur_dioxide</th>\n",
       "      <th>density</th>\n",
       "      <th>pH</th>\n",
       "      <th>sulphates</th>\n",
       "      <th>alcohol</th>\n",
       "      <th>quality</th>\n",
       "      <th>wine_color</th>\n",
       "    </tr>\n",
       "  </thead>\n",
       "  <tbody>\n",
       "    <tr>\n",
       "      <th>0</th>\n",
       "      <td>7.40</td>\n",
       "      <td>0.70</td>\n",
       "      <td>0.00</td>\n",
       "      <td>1.90</td>\n",
       "      <td>0.08</td>\n",
       "      <td>11.00</td>\n",
       "      <td>34.00</td>\n",
       "      <td>1.00</td>\n",
       "      <td>3.51</td>\n",
       "      <td>0.56</td>\n",
       "      <td>9.40</td>\n",
       "      <td>5</td>\n",
       "      <td>0</td>\n",
       "    </tr>\n",
       "    <tr>\n",
       "      <th>1</th>\n",
       "      <td>7.80</td>\n",
       "      <td>0.88</td>\n",
       "      <td>0.00</td>\n",
       "      <td>2.60</td>\n",
       "      <td>0.10</td>\n",
       "      <td>25.00</td>\n",
       "      <td>67.00</td>\n",
       "      <td>1.00</td>\n",
       "      <td>3.20</td>\n",
       "      <td>0.68</td>\n",
       "      <td>9.80</td>\n",
       "      <td>5</td>\n",
       "      <td>0</td>\n",
       "    </tr>\n",
       "    <tr>\n",
       "      <th>2</th>\n",
       "      <td>7.80</td>\n",
       "      <td>0.76</td>\n",
       "      <td>0.04</td>\n",
       "      <td>2.30</td>\n",
       "      <td>0.09</td>\n",
       "      <td>15.00</td>\n",
       "      <td>54.00</td>\n",
       "      <td>1.00</td>\n",
       "      <td>3.26</td>\n",
       "      <td>0.65</td>\n",
       "      <td>9.80</td>\n",
       "      <td>5</td>\n",
       "      <td>0</td>\n",
       "    </tr>\n",
       "    <tr>\n",
       "      <th>3</th>\n",
       "      <td>11.20</td>\n",
       "      <td>0.28</td>\n",
       "      <td>0.56</td>\n",
       "      <td>1.90</td>\n",
       "      <td>0.07</td>\n",
       "      <td>17.00</td>\n",
       "      <td>60.00</td>\n",
       "      <td>1.00</td>\n",
       "      <td>3.16</td>\n",
       "      <td>0.58</td>\n",
       "      <td>9.80</td>\n",
       "      <td>6</td>\n",
       "      <td>0</td>\n",
       "    </tr>\n",
       "    <tr>\n",
       "      <th>5</th>\n",
       "      <td>7.40</td>\n",
       "      <td>0.66</td>\n",
       "      <td>0.00</td>\n",
       "      <td>1.80</td>\n",
       "      <td>0.07</td>\n",
       "      <td>13.00</td>\n",
       "      <td>40.00</td>\n",
       "      <td>1.00</td>\n",
       "      <td>3.51</td>\n",
       "      <td>0.56</td>\n",
       "      <td>9.40</td>\n",
       "      <td>5</td>\n",
       "      <td>0</td>\n",
       "    </tr>\n",
       "  </tbody>\n",
       "</table>\n",
       "</div>"
      ],
      "text/plain": [
       "   fixed_acidity  volatile_acidity  citric_acid  residual_sugar  chlorides  \\\n",
       "0           7.40              0.70         0.00            1.90       0.08   \n",
       "1           7.80              0.88         0.00            2.60       0.10   \n",
       "2           7.80              0.76         0.04            2.30       0.09   \n",
       "3          11.20              0.28         0.56            1.90       0.07   \n",
       "5           7.40              0.66         0.00            1.80       0.07   \n",
       "\n",
       "   free_sulfur_dioxide  total_sulfur_dioxide  density   pH  sulphates  \\\n",
       "0                11.00                 34.00     1.00 3.51       0.56   \n",
       "1                25.00                 67.00     1.00 3.20       0.68   \n",
       "2                15.00                 54.00     1.00 3.26       0.65   \n",
       "3                17.00                 60.00     1.00 3.16       0.58   \n",
       "5                13.00                 40.00     1.00 3.51       0.56   \n",
       "\n",
       "   alcohol  quality  wine_color  \n",
       "0     9.40        5           0  \n",
       "1     9.80        5           0  \n",
       "2     9.80        5           0  \n",
       "3     9.80        6           0  \n",
       "5     9.40        5           0  "
      ]
     },
     "execution_count": 20,
     "metadata": {},
     "output_type": "execute_result"
    }
   ],
   "source": [
    "df.head()"
   ]
  },
  {
   "cell_type": "code",
   "execution_count": 21,
   "metadata": {},
   "outputs": [
    {
     "data": {
      "text/plain": [
       "6    1106\n",
       "5     982\n",
       "7     406\n",
       "4     116\n",
       "8      73\n",
       "3      20\n",
       "9       4\n",
       "Name: quality, dtype: int64"
      ]
     },
     "execution_count": 21,
     "metadata": {},
     "output_type": "execute_result"
    }
   ],
   "source": [
    "#Quality\n",
    "df['quality'].value_counts()"
   ]
  },
  {
   "cell_type": "markdown",
   "metadata": {},
   "source": [
    "______"
   ]
  },
  {
   "cell_type": "code",
   "execution_count": 22,
   "metadata": {},
   "outputs": [
    {
     "data": {
      "text/plain": [
       "<AxesSubplot:>"
      ]
     },
     "execution_count": 22,
     "metadata": {},
     "output_type": "execute_result"
    },
    {
     "data": {
      "image/png": "[encoded data removed]",
      "text/plain": [
       "<Figure size 1080x720 with 2 Axes>"
      ]
     },
     "metadata": {
      "needs_background": "light"
     },
     "output_type": "display_data"
    }
   ],
   "source": [
    "corr = df.corr()\n",
    "plt.subplots(figsize=(15,10))\n",
    "sns.heatmap(corr, xticklabels=corr.columns, yticklabels=corr.columns, annot=True, cmap=sns.diverging_palette(220, 20, as_cmap=True))"
   ]
  },
  {
   "cell_type": "code",
   "execution_count": 23,
   "metadata": {},
   "outputs": [
    {
     "data": {
      "text/plain": [
       "<seaborn.axisgrid.FacetGrid at 0x7f9d44d6dd90>"
      ]
     },
     "execution_count": 23,
     "metadata": {},
     "output_type": "execute_result"
    },
    {
     "data": {
      "image/png": "[encoded data removed]",
      "text/plain": [
       "<Figure size 360x360 with 1 Axes>"
      ]
     },
     "metadata": {
      "needs_background": "light"
     },
     "output_type": "display_data"
    }
   ],
   "source": [
    "sns.displot(df['quality'])"
   ]
  },
  {
   "cell_type": "code",
   "execution_count": 24,
   "metadata": {},
   "outputs": [
    {
     "data": {
      "text/plain": [
       "<AxesSubplot:xlabel='quality'>"
      ]
     },
     "execution_count": 24,
     "metadata": {},
     "output_type": "execute_result"
    },
    {
     "data": {
      "image/png": "[encoded data removed]",
      "text/plain": [
       "<Figure size 432x288 with 1 Axes>"
      ]
     },
     "metadata": {
      "needs_background": "light"
     },
     "output_type": "display_data"
    }
   ],
   "source": [
    "sns.boxplot(df['quality'])"
   ]
  },
  {
   "cell_type": "code",
   "execution_count": 25,
   "metadata": {},
   "outputs": [
    {
     "data": {
      "image/png": "[encoded data removed]",
      "text/plain": [
       "<Figure size 1080x1440 with 13 Axes>"
      ]
     },
     "metadata": {
      "needs_background": "light"
     },
     "output_type": "display_data"
    }
   ],
   "source": [
    "fig = plt.figure(figsize= [15, 20])\n",
    "cols = df.columns\n",
    "cnt = 1\n",
    "for col in cols:\n",
    "    plt.subplot(7,2,cnt)\n",
    "    sns.distplot(df[col],hist_kws=dict(edgecolor='k', linewidth=1, color='blue'), color='red')\n",
    "    cnt+=1\n",
    "plt.tight_layout()\n",
    "plt.show()"
   ]
  },
  {
   "cell_type": "code",
   "execution_count": 26,
   "metadata": {},
   "outputs": [],
   "source": [
    "def isGoodQuality(quality):\n",
    "    return 1 if quality >= 7 else 0\n",
    "\n",
    "\n",
    "# Create Classification version of target variable\n",
    "df['good_quality'] = df['quality'].apply(isGoodQuality)\n",
    "df.good_quality.value_counts()\n",
    "\n",
    "# Separate feature variables and target variable\n",
    "X_quality = df.drop(['quality', 'good_quality'], axis = 1)\n",
    "y_quality = df['good_quality']\n"
   ]
  },
  {
   "cell_type": "code",
   "execution_count": 27,
   "metadata": {},
   "outputs": [
    {
     "data": {
      "text/html": [
       "<div>\n",
       "<style scoped>\n",
       "    .dataframe tbody tr th:only-of-type {\n",
       "        vertical-align: middle;\n",
       "    }\n",
       "\n",
       "    .dataframe tbody tr th {\n",
       "        vertical-align: top;\n",
       "    }\n",
       "\n",
       "    .dataframe thead th {\n",
       "        text-align: right;\n",
       "    }\n",
       "</style>\n",
       "<table border=\"1\" class=\"dataframe\">\n",
       "  <thead>\n",
       "    <tr style=\"text-align: right;\">\n",
       "      <th></th>\n",
       "      <th>fixed_acidity</th>\n",
       "      <th>volatile_acidity</th>\n",
       "      <th>citric_acid</th>\n",
       "      <th>residual_sugar</th>\n",
       "      <th>chlorides</th>\n",
       "      <th>free_sulfur_dioxide</th>\n",
       "      <th>total_sulfur_dioxide</th>\n",
       "      <th>density</th>\n",
       "      <th>pH</th>\n",
       "      <th>sulphates</th>\n",
       "      <th>alcohol</th>\n",
       "      <th>wine_color</th>\n",
       "    </tr>\n",
       "  </thead>\n",
       "  <tbody>\n",
       "    <tr>\n",
       "      <th>0</th>\n",
       "      <td>7.40</td>\n",
       "      <td>0.70</td>\n",
       "      <td>0.00</td>\n",
       "      <td>1.90</td>\n",
       "      <td>0.08</td>\n",
       "      <td>11.00</td>\n",
       "      <td>34.00</td>\n",
       "      <td>1.00</td>\n",
       "      <td>3.51</td>\n",
       "      <td>0.56</td>\n",
       "      <td>9.40</td>\n",
       "      <td>0</td>\n",
       "    </tr>\n",
       "    <tr>\n",
       "      <th>1</th>\n",
       "      <td>7.80</td>\n",
       "      <td>0.88</td>\n",
       "      <td>0.00</td>\n",
       "      <td>2.60</td>\n",
       "      <td>0.10</td>\n",
       "      <td>25.00</td>\n",
       "      <td>67.00</td>\n",
       "      <td>1.00</td>\n",
       "      <td>3.20</td>\n",
       "      <td>0.68</td>\n",
       "      <td>9.80</td>\n",
       "      <td>0</td>\n",
       "    </tr>\n",
       "    <tr>\n",
       "      <th>2</th>\n",
       "      <td>7.80</td>\n",
       "      <td>0.76</td>\n",
       "      <td>0.04</td>\n",
       "      <td>2.30</td>\n",
       "      <td>0.09</td>\n",
       "      <td>15.00</td>\n",
       "      <td>54.00</td>\n",
       "      <td>1.00</td>\n",
       "      <td>3.26</td>\n",
       "      <td>0.65</td>\n",
       "      <td>9.80</td>\n",
       "      <td>0</td>\n",
       "    </tr>\n",
       "    <tr>\n",
       "      <th>3</th>\n",
       "      <td>11.20</td>\n",
       "      <td>0.28</td>\n",
       "      <td>0.56</td>\n",
       "      <td>1.90</td>\n",
       "      <td>0.07</td>\n",
       "      <td>17.00</td>\n",
       "      <td>60.00</td>\n",
       "      <td>1.00</td>\n",
       "      <td>3.16</td>\n",
       "      <td>0.58</td>\n",
       "      <td>9.80</td>\n",
       "      <td>0</td>\n",
       "    </tr>\n",
       "    <tr>\n",
       "      <th>5</th>\n",
       "      <td>7.40</td>\n",
       "      <td>0.66</td>\n",
       "      <td>0.00</td>\n",
       "      <td>1.80</td>\n",
       "      <td>0.07</td>\n",
       "      <td>13.00</td>\n",
       "      <td>40.00</td>\n",
       "      <td>1.00</td>\n",
       "      <td>3.51</td>\n",
       "      <td>0.56</td>\n",
       "      <td>9.40</td>\n",
       "      <td>0</td>\n",
       "    </tr>\n",
       "    <tr>\n",
       "      <th>...</th>\n",
       "      <td>...</td>\n",
       "      <td>...</td>\n",
       "      <td>...</td>\n",
       "      <td>...</td>\n",
       "      <td>...</td>\n",
       "      <td>...</td>\n",
       "      <td>...</td>\n",
       "      <td>...</td>\n",
       "      <td>...</td>\n",
       "      <td>...</td>\n",
       "      <td>...</td>\n",
       "      <td>...</td>\n",
       "    </tr>\n",
       "    <tr>\n",
       "      <th>1593</th>\n",
       "      <td>8.60</td>\n",
       "      <td>0.16</td>\n",
       "      <td>0.49</td>\n",
       "      <td>7.30</td>\n",
       "      <td>0.04</td>\n",
       "      <td>9.00</td>\n",
       "      <td>63.00</td>\n",
       "      <td>1.00</td>\n",
       "      <td>3.13</td>\n",
       "      <td>0.59</td>\n",
       "      <td>10.50</td>\n",
       "      <td>1</td>\n",
       "    </tr>\n",
       "    <tr>\n",
       "      <th>1594</th>\n",
       "      <td>7.00</td>\n",
       "      <td>0.29</td>\n",
       "      <td>0.49</td>\n",
       "      <td>3.80</td>\n",
       "      <td>0.05</td>\n",
       "      <td>37.00</td>\n",
       "      <td>136.00</td>\n",
       "      <td>0.99</td>\n",
       "      <td>2.95</td>\n",
       "      <td>0.40</td>\n",
       "      <td>9.40</td>\n",
       "      <td>1</td>\n",
       "    </tr>\n",
       "    <tr>\n",
       "      <th>1595</th>\n",
       "      <td>6.40</td>\n",
       "      <td>0.27</td>\n",
       "      <td>0.49</td>\n",
       "      <td>7.30</td>\n",
       "      <td>0.05</td>\n",
       "      <td>53.00</td>\n",
       "      <td>206.00</td>\n",
       "      <td>1.00</td>\n",
       "      <td>3.24</td>\n",
       "      <td>0.43</td>\n",
       "      <td>9.20</td>\n",
       "      <td>1</td>\n",
       "    </tr>\n",
       "    <tr>\n",
       "      <th>1596</th>\n",
       "      <td>6.60</td>\n",
       "      <td>0.55</td>\n",
       "      <td>0.01</td>\n",
       "      <td>2.70</td>\n",
       "      <td>0.03</td>\n",
       "      <td>56.00</td>\n",
       "      <td>122.00</td>\n",
       "      <td>0.99</td>\n",
       "      <td>3.15</td>\n",
       "      <td>0.30</td>\n",
       "      <td>11.90</td>\n",
       "      <td>1</td>\n",
       "    </tr>\n",
       "    <tr>\n",
       "      <th>1598</th>\n",
       "      <td>6.30</td>\n",
       "      <td>0.24</td>\n",
       "      <td>0.74</td>\n",
       "      <td>1.40</td>\n",
       "      <td>0.17</td>\n",
       "      <td>24.00</td>\n",
       "      <td>108.00</td>\n",
       "      <td>0.99</td>\n",
       "      <td>3.27</td>\n",
       "      <td>0.39</td>\n",
       "      <td>9.90</td>\n",
       "      <td>1</td>\n",
       "    </tr>\n",
       "  </tbody>\n",
       "</table>\n",
       "<p>2707 rows × 12 columns</p>\n",
       "</div>"
      ],
      "text/plain": [
       "      fixed_acidity  volatile_acidity  citric_acid  residual_sugar  chlorides  \\\n",
       "0              7.40              0.70         0.00            1.90       0.08   \n",
       "1              7.80              0.88         0.00            2.60       0.10   \n",
       "2              7.80              0.76         0.04            2.30       0.09   \n",
       "3             11.20              0.28         0.56            1.90       0.07   \n",
       "5              7.40              0.66         0.00            1.80       0.07   \n",
       "...             ...               ...          ...             ...        ...   \n",
       "1593           8.60              0.16         0.49            7.30       0.04   \n",
       "1594           7.00              0.29         0.49            3.80       0.05   \n",
       "1595           6.40              0.27         0.49            7.30       0.05   \n",
       "1596           6.60              0.55         0.01            2.70       0.03   \n",
       "1598           6.30              0.24         0.74            1.40       0.17   \n",
       "\n",
       "      free_sulfur_dioxide  total_sulfur_dioxide  density   pH  sulphates  \\\n",
       "0                   11.00                 34.00     1.00 3.51       0.56   \n",
       "1                   25.00                 67.00     1.00 3.20       0.68   \n",
       "2                   15.00                 54.00     1.00 3.26       0.65   \n",
       "3                   17.00                 60.00     1.00 3.16       0.58   \n",
       "5                   13.00                 40.00     1.00 3.51       0.56   \n",
       "...                   ...                   ...      ...  ...        ...   \n",
       "1593                 9.00                 63.00     1.00 3.13       0.59   \n",
       "1594                37.00                136.00     0.99 2.95       0.40   \n",
       "1595                53.00                206.00     1.00 3.24       0.43   \n",
       "1596                56.00                122.00     0.99 3.15       0.30   \n",
       "1598                24.00                108.00     0.99 3.27       0.39   \n",
       "\n",
       "      alcohol  wine_color  \n",
       "0        9.40           0  \n",
       "1        9.80           0  \n",
       "2        9.80           0  \n",
       "3        9.80           0  \n",
       "5        9.40           0  \n",
       "...       ...         ...  \n",
       "1593    10.50           1  \n",
       "1594     9.40           1  \n",
       "1595     9.20           1  \n",
       "1596    11.90           1  \n",
       "1598     9.90           1  \n",
       "\n",
       "[2707 rows x 12 columns]"
      ]
     },
     "execution_count": 27,
     "metadata": {},
     "output_type": "execute_result"
    }
   ],
   "source": [
    "X_quality"
   ]
  },
  {
   "cell_type": "code",
   "execution_count": 28,
   "metadata": {},
   "outputs": [
    {
     "data": {
      "text/plain": [
       "0    2224\n",
       "1     483\n",
       "Name: good_quality, dtype: int64"
      ]
     },
     "execution_count": 28,
     "metadata": {},
     "output_type": "execute_result"
    }
   ],
   "source": [
    "y_quality.value_counts()"
   ]
  },
  {
   "cell_type": "code",
   "execution_count": 29,
   "metadata": {},
   "outputs": [],
   "source": [
    "# Normalize feature variables\n",
    "X_features = X_quality\n",
    "X = StandardScaler().fit_transform(X_quality)"
   ]
  },
  {
   "cell_type": "code",
   "execution_count": 30,
   "metadata": {},
   "outputs": [],
   "source": [
    "# Splitting the data\n",
    "X_train, X_test, y_train, y_test = train_test_split(X, y_quality, test_size=.3, random_state=25)"
   ]
  },
  {
   "cell_type": "code",
   "execution_count": 32,
   "metadata": {},
   "outputs": [
    {
     "name": "stdout",
     "output_type": "stream",
     "text": [
      "              precision    recall  f1-score   support\n",
      "\n",
      "           0       0.89      0.86      0.88       673\n",
      "           1       0.43      0.51      0.47       140\n",
      "\n",
      "    accuracy                           0.80       813\n",
      "   macro avg       0.66      0.68      0.67       813\n",
      "weighted avg       0.81      0.80      0.81       813\n",
      "\n"
     ]
    }
   ],
   "source": [
    "#decsion tree\n",
    "dtc_model = DecisionTreeClassifier(random_state=25)\n",
    "dtc_model.fit(X_train, y_train)\n",
    "dtc_pred = dtc_model.predict(X_test)\n",
    "print(classification_report(y_test, dtc_pred))"
   ]
  },
  {
   "cell_type": "code",
   "execution_count": 33,
   "metadata": {},
   "outputs": [
    {
     "name": "stdout",
     "output_type": "stream",
     "text": [
      "Confusion matrix:\n",
      "[[580  93]\n",
      " [ 69  71]]\n"
     ]
    }
   ],
   "source": [
    "print(\"Confusion matrix:\\n%s\" % confusion_matrix(y_test, dtc_pred))"
   ]
  },
  {
   "cell_type": "code",
   "execution_count": 51,
   "metadata": {},
   "outputs": [
    {
     "data": {
      "text/plain": [
       "Text(0.5, 42.0, 'Predicted label')"
      ]
     },
     "execution_count": 51,
     "metadata": {},
     "output_type": "execute_result"
    },
    {
     "data": {
      "image/png": "[encoded data removed]",
      "text/plain": [
       "<Figure size 720x504 with 2 Axes>"
      ]
     },
     "metadata": {
      "needs_background": "light"
     },
     "output_type": "display_data"
    }
   ],
   "source": [
    "#dito natin makikita yung confusion matrix \n",
    "\n",
    "#Plot the confusion matrix for easier viewing\n",
    "cm = confusion_matrix(y_test, dtc_pred)\n",
    "\n",
    "df_cm = pd.DataFrame(cm, index=[0,1], columns=[0,1])\n",
    "\n",
    "fig = plt.figure(figsize= (10,7))\n",
    "cmap = sns.diverging_palette(220, 10, as_cmap=True)\n",
    "heatmap = sns.heatmap(df_cm,annot=True, fmt=\"d\", cmap=cmap)\n",
    "heatmap.yaxis.set_ticklabels(heatmap.yaxis.get_ticklabels(), rotation=0, ha='right', fontsize=16)\n",
    "heatmap.xaxis.set_ticklabels(heatmap.xaxis.get_ticklabels(), rotation=0, ha='right', fontsize=16)\n",
    "plt.ylabel('True label')\n",
    "plt.xlabel('Predicted label')"
   ]
  },
  {
   "cell_type": "code",
   "execution_count": 35,
   "metadata": {},
   "outputs": [
    {
     "name": "stdout",
     "output_type": "stream",
     "text": [
      "              precision    recall  f1-score   support\n",
      "\n",
      "           0       0.89      0.96      0.93       673\n",
      "           1       0.72      0.45      0.56       140\n",
      "\n",
      "    accuracy                           0.88       813\n",
      "   macro avg       0.81      0.71      0.74       813\n",
      "weighted avg       0.86      0.88      0.86       813\n",
      "\n"
     ]
    }
   ],
   "source": [
    "#random forest\n",
    "rfc_model = RandomForestClassifier(random_state=1)\n",
    "rfc_model.fit(X_train, y_train)\n",
    "rfc_pred = rfc_model.predict(X_test)\n",
    "print(classification_report(y_test, rfc_pred))"
   ]
  },
  {
   "cell_type": "code",
   "execution_count": 36,
   "metadata": {},
   "outputs": [
    {
     "data": {
      "text/plain": [
       "Text(0.5, 42.0, 'Predicted label')"
      ]
     },
     "execution_count": 36,
     "metadata": {},
     "output_type": "execute_result"
    },
    {
     "data": {
      "image/png": "[encoded data removed]",
      "text/plain": [
       "<Figure size 720x504 with 2 Axes>"
      ]
     },
     "metadata": {
      "needs_background": "light"
     },
     "output_type": "display_data"
    }
   ],
   "source": [
    "#dito natin makikita yung confusion matrix \n",
    "\n",
    "#Plot the confusion matrix for easier viewing\n",
    "cm = confusion_matrix(y_test, rfc_pred)\n",
    "\n",
    "df_cm = pd.DataFrame(cm, index=[0,1], columns=[0,1])\n",
    "\n",
    "fig = plt.figure(figsize= (10,7))\n",
    "cmap = sns.diverging_palette(220, 10, as_cmap=True)\n",
    "heatmap = sns.heatmap(df_cm,annot=True, fmt=\"d\", cmap=cmap)\n",
    "heatmap.yaxis.set_ticklabels(heatmap.yaxis.get_ticklabels(), rotation=0, ha='right', fontsize=16)\n",
    "heatmap.xaxis.set_ticklabels(heatmap.xaxis.get_ticklabels(), rotation=0, ha='right', fontsize=16)\n",
    "plt.ylabel('True label')\n",
    "plt.xlabel('Predicted label')"
   ]
  },
  {
   "cell_type": "markdown",
   "metadata": {},
   "source": [
    "## Feature Importance"
   ]
  },
  {
   "cell_type": "code",
   "execution_count": 37,
   "metadata": {},
   "outputs": [
    {
     "name": "stdout",
     "output_type": "stream",
     "text": [
      "Decision Tree Classifier Feature Importance\n"
     ]
    },
    {
     "data": {
      "text/plain": [
       "<AxesSubplot:>"
      ]
     },
     "execution_count": 37,
     "metadata": {},
     "output_type": "execute_result"
    },
    {
     "data": {
      "image/png": "[encoded data removed]",
      "text/plain": [
       "<Figure size 720x720 with 1 Axes>"
      ]
     },
     "metadata": {
      "needs_background": "light"
     },
     "output_type": "display_data"
    }
   ],
   "source": [
    "print('Decision Tree Classifier Feature Importance')\n",
    "feat_importances = pd.Series(dtc_model.feature_importances_, index=X_features.columns)\n",
    "feat_importances.nlargest(25).plot(kind='barh',figsize=(10,10))"
   ]
  },
  {
   "cell_type": "code",
   "execution_count": 38,
   "metadata": {},
   "outputs": [
    {
     "name": "stdout",
     "output_type": "stream",
     "text": [
      "Random Tree Classifier Feature Importance\n"
     ]
    },
    {
     "data": {
      "text/plain": [
       "<AxesSubplot:>"
      ]
     },
     "execution_count": 38,
     "metadata": {},
     "output_type": "execute_result"
    },
    {
     "data": {
      "image/png": "[encoded data removed]",
      "text/plain": [
       "<Figure size 720x720 with 1 Axes>"
      ]
     },
     "metadata": {
      "needs_background": "light"
     },
     "output_type": "display_data"
    }
   ],
   "source": [
    "print('Random Tree Classifier Feature Importance')\n",
    "feat_importances = pd.Series(rfc_model.feature_importances_, index=X_features.columns)\n",
    "feat_importances.nlargest(25).plot(kind='barh',figsize=(10,10))"
   ]
  },
  {
   "cell_type": "code",
   "execution_count": 39,
   "metadata": {},
   "outputs": [
    {
     "name": "stdout",
     "output_type": "stream",
     "text": [
      "Decision Tree\n",
      "              precision    recall  f1-score   support\n",
      "\n",
      "           0       0.89      0.86      0.88       673\n",
      "           1       0.43      0.51      0.47       140\n",
      "\n",
      "    accuracy                           0.80       813\n",
      "   macro avg       0.66      0.68      0.67       813\n",
      "weighted avg       0.81      0.80      0.81       813\n",
      "\n",
      "---------------------------------------------------------------------------------\n",
      "Random Forest\n",
      "              precision    recall  f1-score   support\n",
      "\n",
      "           0       0.89      0.96      0.93       673\n",
      "           1       0.72      0.45      0.56       140\n",
      "\n",
      "    accuracy                           0.88       813\n",
      "   macro avg       0.81      0.71      0.74       813\n",
      "weighted avg       0.86      0.88      0.86       813\n",
      "\n"
     ]
    }
   ],
   "source": [
    "print('Decision Tree')\n",
    "print(classification_report(y_test, dtc_pred))\n",
    "\n",
    "print('---------------------------------------------------------------------------------')\n",
    "print('Random Forest')\n",
    "print(classification_report(y_test, rfc_pred))"
   ]
  },
  {
   "cell_type": "code",
   "execution_count": 40,
   "metadata": {},
   "outputs": [
    {
     "name": "stdout",
     "output_type": "stream",
     "text": [
      "Good Quality Wines\n"
     ]
    },
    {
     "data": {
      "text/html": [
       "<div>\n",
       "<style scoped>\n",
       "    .dataframe tbody tr th:only-of-type {\n",
       "        vertical-align: middle;\n",
       "    }\n",
       "\n",
       "    .dataframe tbody tr th {\n",
       "        vertical-align: top;\n",
       "    }\n",
       "\n",
       "    .dataframe thead th {\n",
       "        text-align: right;\n",
       "    }\n",
       "</style>\n",
       "<table border=\"1\" class=\"dataframe\">\n",
       "  <thead>\n",
       "    <tr style=\"text-align: right;\">\n",
       "      <th></th>\n",
       "      <th>fixed_acidity</th>\n",
       "      <th>volatile_acidity</th>\n",
       "      <th>citric_acid</th>\n",
       "      <th>residual_sugar</th>\n",
       "      <th>chlorides</th>\n",
       "      <th>free_sulfur_dioxide</th>\n",
       "      <th>total_sulfur_dioxide</th>\n",
       "      <th>density</th>\n",
       "      <th>pH</th>\n",
       "      <th>sulphates</th>\n",
       "      <th>alcohol</th>\n",
       "      <th>quality</th>\n",
       "      <th>wine_color</th>\n",
       "      <th>good_quality</th>\n",
       "    </tr>\n",
       "  </thead>\n",
       "  <tbody>\n",
       "    <tr>\n",
       "      <th>count</th>\n",
       "      <td>483.00</td>\n",
       "      <td>483.00</td>\n",
       "      <td>483.00</td>\n",
       "      <td>483.00</td>\n",
       "      <td>483.00</td>\n",
       "      <td>483.00</td>\n",
       "      <td>483.00</td>\n",
       "      <td>483.00</td>\n",
       "      <td>483.00</td>\n",
       "      <td>483.00</td>\n",
       "      <td>483.00</td>\n",
       "      <td>483.00</td>\n",
       "      <td>483.00</td>\n",
       "      <td>483.00</td>\n",
       "    </tr>\n",
       "    <tr>\n",
       "      <th>mean</th>\n",
       "      <td>7.65</td>\n",
       "      <td>0.32</td>\n",
       "      <td>0.36</td>\n",
       "      <td>3.71</td>\n",
       "      <td>0.05</td>\n",
       "      <td>26.03</td>\n",
       "      <td>92.57</td>\n",
       "      <td>0.99</td>\n",
       "      <td>3.27</td>\n",
       "      <td>0.59</td>\n",
       "      <td>11.37</td>\n",
       "      <td>7.17</td>\n",
       "      <td>0.62</td>\n",
       "      <td>1.00</td>\n",
       "    </tr>\n",
       "    <tr>\n",
       "      <th>std</th>\n",
       "      <td>1.65</td>\n",
       "      <td>0.13</td>\n",
       "      <td>0.14</td>\n",
       "      <td>3.12</td>\n",
       "      <td>0.03</td>\n",
       "      <td>15.46</td>\n",
       "      <td>55.64</td>\n",
       "      <td>0.00</td>\n",
       "      <td>0.15</td>\n",
       "      <td>0.18</td>\n",
       "      <td>1.10</td>\n",
       "      <td>0.40</td>\n",
       "      <td>0.49</td>\n",
       "      <td>0.00</td>\n",
       "    </tr>\n",
       "    <tr>\n",
       "      <th>min</th>\n",
       "      <td>4.90</td>\n",
       "      <td>0.08</td>\n",
       "      <td>0.00</td>\n",
       "      <td>0.90</td>\n",
       "      <td>0.01</td>\n",
       "      <td>3.00</td>\n",
       "      <td>7.00</td>\n",
       "      <td>0.99</td>\n",
       "      <td>2.88</td>\n",
       "      <td>0.25</td>\n",
       "      <td>8.50</td>\n",
       "      <td>7.00</td>\n",
       "      <td>0.00</td>\n",
       "      <td>1.00</td>\n",
       "    </tr>\n",
       "    <tr>\n",
       "      <th>25%</th>\n",
       "      <td>6.60</td>\n",
       "      <td>0.23</td>\n",
       "      <td>0.31</td>\n",
       "      <td>1.77</td>\n",
       "      <td>0.04</td>\n",
       "      <td>12.00</td>\n",
       "      <td>35.00</td>\n",
       "      <td>0.99</td>\n",
       "      <td>3.16</td>\n",
       "      <td>0.44</td>\n",
       "      <td>10.60</td>\n",
       "      <td>7.00</td>\n",
       "      <td>0.00</td>\n",
       "      <td>1.00</td>\n",
       "    </tr>\n",
       "    <tr>\n",
       "      <th>50%</th>\n",
       "      <td>7.30</td>\n",
       "      <td>0.30</td>\n",
       "      <td>0.36</td>\n",
       "      <td>2.40</td>\n",
       "      <td>0.04</td>\n",
       "      <td>25.00</td>\n",
       "      <td>101.00</td>\n",
       "      <td>0.99</td>\n",
       "      <td>3.27</td>\n",
       "      <td>0.57</td>\n",
       "      <td>11.40</td>\n",
       "      <td>7.00</td>\n",
       "      <td>1.00</td>\n",
       "      <td>1.00</td>\n",
       "    </tr>\n",
       "    <tr>\n",
       "      <th>75%</th>\n",
       "      <td>8.25</td>\n",
       "      <td>0.38</td>\n",
       "      <td>0.44</td>\n",
       "      <td>4.72</td>\n",
       "      <td>0.07</td>\n",
       "      <td>36.00</td>\n",
       "      <td>133.00</td>\n",
       "      <td>1.00</td>\n",
       "      <td>3.37</td>\n",
       "      <td>0.73</td>\n",
       "      <td>12.30</td>\n",
       "      <td>7.00</td>\n",
       "      <td>1.00</td>\n",
       "      <td>1.00</td>\n",
       "    </tr>\n",
       "    <tr>\n",
       "      <th>max</th>\n",
       "      <td>15.60</td>\n",
       "      <td>0.92</td>\n",
       "      <td>0.76</td>\n",
       "      <td>17.00</td>\n",
       "      <td>0.36</td>\n",
       "      <td>82.00</td>\n",
       "      <td>289.00</td>\n",
       "      <td>1.00</td>\n",
       "      <td>3.82</td>\n",
       "      <td>1.36</td>\n",
       "      <td>14.00</td>\n",
       "      <td>9.00</td>\n",
       "      <td>1.00</td>\n",
       "      <td>1.00</td>\n",
       "    </tr>\n",
       "  </tbody>\n",
       "</table>\n",
       "</div>"
      ],
      "text/plain": [
       "       fixed_acidity  volatile_acidity  citric_acid  residual_sugar  \\\n",
       "count         483.00            483.00       483.00          483.00   \n",
       "mean            7.65              0.32         0.36            3.71   \n",
       "std             1.65              0.13         0.14            3.12   \n",
       "min             4.90              0.08         0.00            0.90   \n",
       "25%             6.60              0.23         0.31            1.77   \n",
       "50%             7.30              0.30         0.36            2.40   \n",
       "75%             8.25              0.38         0.44            4.72   \n",
       "max            15.60              0.92         0.76           17.00   \n",
       "\n",
       "       chlorides  free_sulfur_dioxide  total_sulfur_dioxide  density     pH  \\\n",
       "count     483.00               483.00                483.00   483.00 483.00   \n",
       "mean        0.05                26.03                 92.57     0.99   3.27   \n",
       "std         0.03                15.46                 55.64     0.00   0.15   \n",
       "min         0.01                 3.00                  7.00     0.99   2.88   \n",
       "25%         0.04                12.00                 35.00     0.99   3.16   \n",
       "50%         0.04                25.00                101.00     0.99   3.27   \n",
       "75%         0.07                36.00                133.00     1.00   3.37   \n",
       "max         0.36                82.00                289.00     1.00   3.82   \n",
       "\n",
       "       sulphates  alcohol  quality  wine_color  good_quality  \n",
       "count     483.00   483.00   483.00      483.00        483.00  \n",
       "mean        0.59    11.37     7.17        0.62          1.00  \n",
       "std         0.18     1.10     0.40        0.49          0.00  \n",
       "min         0.25     8.50     7.00        0.00          1.00  \n",
       "25%         0.44    10.60     7.00        0.00          1.00  \n",
       "50%         0.57    11.40     7.00        1.00          1.00  \n",
       "75%         0.73    12.30     7.00        1.00          1.00  \n",
       "max         1.36    14.00     9.00        1.00          1.00  "
      ]
     },
     "execution_count": 40,
     "metadata": {},
     "output_type": "execute_result"
    }
   ],
   "source": [
    "# Filtering df for only good quality\n",
    "df_temp = df[df['good_quality']==1]\n",
    "print('Good Quality Wines')\n",
    "df_temp.describe()"
   ]
  },
  {
   "cell_type": "code",
   "execution_count": 41,
   "metadata": {},
   "outputs": [
    {
     "name": "stdout",
     "output_type": "stream",
     "text": [
      "Bad Quality Wines\n"
     ]
    },
    {
     "data": {
      "text/html": [
       "<div>\n",
       "<style scoped>\n",
       "    .dataframe tbody tr th:only-of-type {\n",
       "        vertical-align: middle;\n",
       "    }\n",
       "\n",
       "    .dataframe tbody tr th {\n",
       "        vertical-align: top;\n",
       "    }\n",
       "\n",
       "    .dataframe thead th {\n",
       "        text-align: right;\n",
       "    }\n",
       "</style>\n",
       "<table border=\"1\" class=\"dataframe\">\n",
       "  <thead>\n",
       "    <tr style=\"text-align: right;\">\n",
       "      <th></th>\n",
       "      <th>fixed_acidity</th>\n",
       "      <th>volatile_acidity</th>\n",
       "      <th>citric_acid</th>\n",
       "      <th>residual_sugar</th>\n",
       "      <th>chlorides</th>\n",
       "      <th>free_sulfur_dioxide</th>\n",
       "      <th>total_sulfur_dioxide</th>\n",
       "      <th>density</th>\n",
       "      <th>pH</th>\n",
       "      <th>sulphates</th>\n",
       "      <th>alcohol</th>\n",
       "      <th>quality</th>\n",
       "      <th>wine_color</th>\n",
       "      <th>good_quality</th>\n",
       "    </tr>\n",
       "  </thead>\n",
       "  <tbody>\n",
       "    <tr>\n",
       "      <th>count</th>\n",
       "      <td>2224.00</td>\n",
       "      <td>2224.00</td>\n",
       "      <td>2224.00</td>\n",
       "      <td>2224.00</td>\n",
       "      <td>2224.00</td>\n",
       "      <td>2224.00</td>\n",
       "      <td>2224.00</td>\n",
       "      <td>2224.00</td>\n",
       "      <td>2224.00</td>\n",
       "      <td>2224.00</td>\n",
       "      <td>2224.00</td>\n",
       "      <td>2224.00</td>\n",
       "      <td>2224.00</td>\n",
       "      <td>2224.00</td>\n",
       "    </tr>\n",
       "    <tr>\n",
       "      <th>mean</th>\n",
       "      <td>7.66</td>\n",
       "      <td>0.42</td>\n",
       "      <td>0.31</td>\n",
       "      <td>4.22</td>\n",
       "      <td>0.07</td>\n",
       "      <td>25.01</td>\n",
       "      <td>95.13</td>\n",
       "      <td>1.00</td>\n",
       "      <td>3.26</td>\n",
       "      <td>0.57</td>\n",
       "      <td>10.17</td>\n",
       "      <td>5.43</td>\n",
       "      <td>0.47</td>\n",
       "      <td>0.00</td>\n",
       "    </tr>\n",
       "    <tr>\n",
       "      <th>std</th>\n",
       "      <td>1.51</td>\n",
       "      <td>0.20</td>\n",
       "      <td>0.18</td>\n",
       "      <td>4.04</td>\n",
       "      <td>0.05</td>\n",
       "      <td>17.02</td>\n",
       "      <td>63.61</td>\n",
       "      <td>0.00</td>\n",
       "      <td>0.16</td>\n",
       "      <td>0.17</td>\n",
       "      <td>0.97</td>\n",
       "      <td>0.63</td>\n",
       "      <td>0.50</td>\n",
       "      <td>0.00</td>\n",
       "    </tr>\n",
       "    <tr>\n",
       "      <th>min</th>\n",
       "      <td>4.60</td>\n",
       "      <td>0.08</td>\n",
       "      <td>0.00</td>\n",
       "      <td>0.80</td>\n",
       "      <td>0.02</td>\n",
       "      <td>1.00</td>\n",
       "      <td>6.00</td>\n",
       "      <td>0.99</td>\n",
       "      <td>2.74</td>\n",
       "      <td>0.25</td>\n",
       "      <td>8.40</td>\n",
       "      <td>3.00</td>\n",
       "      <td>0.00</td>\n",
       "      <td>0.00</td>\n",
       "    </tr>\n",
       "    <tr>\n",
       "      <th>25%</th>\n",
       "      <td>6.70</td>\n",
       "      <td>0.26</td>\n",
       "      <td>0.19</td>\n",
       "      <td>1.80</td>\n",
       "      <td>0.04</td>\n",
       "      <td>12.00</td>\n",
       "      <td>38.00</td>\n",
       "      <td>0.99</td>\n",
       "      <td>3.14</td>\n",
       "      <td>0.46</td>\n",
       "      <td>9.40</td>\n",
       "      <td>5.00</td>\n",
       "      <td>0.00</td>\n",
       "      <td>0.00</td>\n",
       "    </tr>\n",
       "    <tr>\n",
       "      <th>50%</th>\n",
       "      <td>7.30</td>\n",
       "      <td>0.39</td>\n",
       "      <td>0.30</td>\n",
       "      <td>2.30</td>\n",
       "      <td>0.06</td>\n",
       "      <td>21.00</td>\n",
       "      <td>86.00</td>\n",
       "      <td>1.00</td>\n",
       "      <td>3.26</td>\n",
       "      <td>0.55</td>\n",
       "      <td>10.00</td>\n",
       "      <td>5.00</td>\n",
       "      <td>0.00</td>\n",
       "      <td>0.00</td>\n",
       "    </tr>\n",
       "    <tr>\n",
       "      <th>75%</th>\n",
       "      <td>8.30</td>\n",
       "      <td>0.57</td>\n",
       "      <td>0.43</td>\n",
       "      <td>5.10</td>\n",
       "      <td>0.08</td>\n",
       "      <td>34.00</td>\n",
       "      <td>146.00</td>\n",
       "      <td>1.00</td>\n",
       "      <td>3.36</td>\n",
       "      <td>0.64</td>\n",
       "      <td>10.80</td>\n",
       "      <td>6.00</td>\n",
       "      <td>1.00</td>\n",
       "      <td>0.00</td>\n",
       "    </tr>\n",
       "    <tr>\n",
       "      <th>max</th>\n",
       "      <td>15.90</td>\n",
       "      <td>1.58</td>\n",
       "      <td>1.66</td>\n",
       "      <td>22.00</td>\n",
       "      <td>0.61</td>\n",
       "      <td>131.00</td>\n",
       "      <td>366.50</td>\n",
       "      <td>1.00</td>\n",
       "      <td>4.01</td>\n",
       "      <td>2.00</td>\n",
       "      <td>14.90</td>\n",
       "      <td>6.00</td>\n",
       "      <td>1.00</td>\n",
       "      <td>0.00</td>\n",
       "    </tr>\n",
       "  </tbody>\n",
       "</table>\n",
       "</div>"
      ],
      "text/plain": [
       "       fixed_acidity  volatile_acidity  citric_acid  residual_sugar  \\\n",
       "count        2224.00           2224.00      2224.00         2224.00   \n",
       "mean            7.66              0.42         0.31            4.22   \n",
       "std             1.51              0.20         0.18            4.04   \n",
       "min             4.60              0.08         0.00            0.80   \n",
       "25%             6.70              0.26         0.19            1.80   \n",
       "50%             7.30              0.39         0.30            2.30   \n",
       "75%             8.30              0.57         0.43            5.10   \n",
       "max            15.90              1.58         1.66           22.00   \n",
       "\n",
       "       chlorides  free_sulfur_dioxide  total_sulfur_dioxide  density      pH  \\\n",
       "count    2224.00              2224.00               2224.00  2224.00 2224.00   \n",
       "mean        0.07                25.01                 95.13     1.00    3.26   \n",
       "std         0.05                17.02                 63.61     0.00    0.16   \n",
       "min         0.02                 1.00                  6.00     0.99    2.74   \n",
       "25%         0.04                12.00                 38.00     0.99    3.14   \n",
       "50%         0.06                21.00                 86.00     1.00    3.26   \n",
       "75%         0.08                34.00                146.00     1.00    3.36   \n",
       "max         0.61               131.00                366.50     1.00    4.01   \n",
       "\n",
       "       sulphates  alcohol  quality  wine_color  good_quality  \n",
       "count    2224.00  2224.00  2224.00     2224.00       2224.00  \n",
       "mean        0.57    10.17     5.43        0.47          0.00  \n",
       "std         0.17     0.97     0.63        0.50          0.00  \n",
       "min         0.25     8.40     3.00        0.00          0.00  \n",
       "25%         0.46     9.40     5.00        0.00          0.00  \n",
       "50%         0.55    10.00     5.00        0.00          0.00  \n",
       "75%         0.64    10.80     6.00        1.00          0.00  \n",
       "max         2.00    14.90     6.00        1.00          0.00  "
      ]
     },
     "execution_count": 41,
     "metadata": {},
     "output_type": "execute_result"
    }
   ],
   "source": [
    "# Filtering df for only bad quality\n",
    "df_temp2 = df[df['good_quality']==0]\n",
    "print('Bad Quality Wines')\n",
    "df_temp2.describe()"
   ]
  },
  {
   "cell_type": "code",
   "execution_count": 42,
   "metadata": {
    "scrolled": false
   },
   "outputs": [
    {
     "data": {
      "text/html": [
       "<div>\n",
       "<style scoped>\n",
       "    .dataframe tbody tr th:only-of-type {\n",
       "        vertical-align: middle;\n",
       "    }\n",
       "\n",
       "    .dataframe tbody tr th {\n",
       "        vertical-align: top;\n",
       "    }\n",
       "\n",
       "    .dataframe thead th {\n",
       "        text-align: right;\n",
       "    }\n",
       "</style>\n",
       "<table border=\"1\" class=\"dataframe\">\n",
       "  <thead>\n",
       "    <tr style=\"text-align: right;\">\n",
       "      <th></th>\n",
       "      <th>self</th>\n",
       "      <th>other</th>\n",
       "    </tr>\n",
       "  </thead>\n",
       "  <tbody>\n",
       "    <tr>\n",
       "      <th>fixed_acidity</th>\n",
       "      <td>7.65</td>\n",
       "      <td>7.66</td>\n",
       "    </tr>\n",
       "    <tr>\n",
       "      <th>volatile_acidity</th>\n",
       "      <td>0.32</td>\n",
       "      <td>0.42</td>\n",
       "    </tr>\n",
       "    <tr>\n",
       "      <th>citric_acid</th>\n",
       "      <td>0.36</td>\n",
       "      <td>0.31</td>\n",
       "    </tr>\n",
       "    <tr>\n",
       "      <th>residual_sugar</th>\n",
       "      <td>3.71</td>\n",
       "      <td>4.22</td>\n",
       "    </tr>\n",
       "    <tr>\n",
       "      <th>chlorides</th>\n",
       "      <td>0.05</td>\n",
       "      <td>0.07</td>\n",
       "    </tr>\n",
       "    <tr>\n",
       "      <th>free_sulfur_dioxide</th>\n",
       "      <td>26.03</td>\n",
       "      <td>25.01</td>\n",
       "    </tr>\n",
       "    <tr>\n",
       "      <th>total_sulfur_dioxide</th>\n",
       "      <td>92.57</td>\n",
       "      <td>95.13</td>\n",
       "    </tr>\n",
       "    <tr>\n",
       "      <th>density</th>\n",
       "      <td>0.99</td>\n",
       "      <td>1.00</td>\n",
       "    </tr>\n",
       "    <tr>\n",
       "      <th>pH</th>\n",
       "      <td>3.27</td>\n",
       "      <td>3.26</td>\n",
       "    </tr>\n",
       "    <tr>\n",
       "      <th>sulphates</th>\n",
       "      <td>0.59</td>\n",
       "      <td>0.57</td>\n",
       "    </tr>\n",
       "    <tr>\n",
       "      <th>alcohol</th>\n",
       "      <td>11.37</td>\n",
       "      <td>10.17</td>\n",
       "    </tr>\n",
       "    <tr>\n",
       "      <th>quality</th>\n",
       "      <td>7.17</td>\n",
       "      <td>5.43</td>\n",
       "    </tr>\n",
       "    <tr>\n",
       "      <th>wine_color</th>\n",
       "      <td>0.62</td>\n",
       "      <td>0.47</td>\n",
       "    </tr>\n",
       "    <tr>\n",
       "      <th>good_quality</th>\n",
       "      <td>1.00</td>\n",
       "      <td>0.00</td>\n",
       "    </tr>\n",
       "  </tbody>\n",
       "</table>\n",
       "</div>"
      ],
      "text/plain": [
       "                      self  other\n",
       "fixed_acidity         7.65   7.66\n",
       "volatile_acidity      0.32   0.42\n",
       "citric_acid           0.36   0.31\n",
       "residual_sugar        3.71   4.22\n",
       "chlorides             0.05   0.07\n",
       "free_sulfur_dioxide  26.03  25.01\n",
       "total_sulfur_dioxide 92.57  95.13\n",
       "density               0.99   1.00\n",
       "pH                    3.27   3.26\n",
       "sulphates             0.59   0.57\n",
       "alcohol              11.37  10.17\n",
       "quality               7.17   5.43\n",
       "wine_color            0.62   0.47\n",
       "good_quality          1.00   0.00"
      ]
     },
     "execution_count": 42,
     "metadata": {},
     "output_type": "execute_result"
    }
   ],
   "source": [
    "df_temp.mean().compare(df_temp2.mean())"
   ]
  },
  {
   "cell_type": "markdown",
   "metadata": {},
   "source": [
    "_______"
   ]
  }
 ],
 "metadata": {
  "kernelspec": {
   "display_name": "Python 3",
   "language": "python",
   "name": "python3"
  },
  "language_info": {
   "codemirror_mode": {
    "name": "ipython",
    "version": 3
   },
   "file_extension": ".py",
   "mimetype": "text/x-python",
   "name": "python",
   "nbconvert_exporter": "python",
   "pygments_lexer": "ipython3",
   "version": "3.8.8"
  }
 },
 "nbformat": 4,
 "nbformat_minor": 2
}
