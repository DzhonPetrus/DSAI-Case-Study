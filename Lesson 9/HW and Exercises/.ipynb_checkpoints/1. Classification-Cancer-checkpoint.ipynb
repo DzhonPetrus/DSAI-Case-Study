{
 "cells": [
  {
   "cell_type": "markdown",
   "metadata": {},
   "source": [
    "# Cervical Cancer Risk Factors for Biopsy"
   ]
  },
  {
   "cell_type": "markdown",
   "metadata": {},
   "source": [
    "<b>Dataset:</b> <i>kag_risk_factors_cervical_cancer_cleaned.csv</i> <br>\n",
    "\n",
    "<b><a href=\"https://archive.ics.uci.edu/ml/datasets/Cervical+cancer+%28Risk+Factors%29\">Description</b></a><br>\n",
    "    \n",
    "<b>Objectives:</b>\n",
    "- Load and Explore the Dataset\n",
    "- Split into Training and Test Set (see guidelines below)\n",
    "- Build the following models using the Training Set (using default parameters):\n",
    "    - KNN\n",
    "    - Logistic Regression\n",
    "    - Decision Tree\n",
    "    - Random Forest\n",
    "- Print the Accuracy Score of each model using the Test Set\n",
    "\n",
    "<b>Guidelines:</b><br>\n",
    "- Target Column: Biopsy\n",
    "- Train Test Split Parameters:\n",
    "    - test_size = 0.30\n",
    "    - random_state = 12\n",
    "- For models that have a random_state parameter:\n",
    "    - random_state=12"
   ]
  },
  {
   "cell_type": "code",
   "execution_count": null,
   "metadata": {},
   "outputs": [],
   "source": []
  }
 ],
 "metadata": {
  "kernelspec": {
   "display_name": "Python 3",
   "language": "python",
   "name": "python3"
  },
  "language_info": {
   "codemirror_mode": {
    "name": "ipython",
    "version": 3
   },
   "file_extension": ".py",
   "mimetype": "text/x-python",
   "name": "python",
   "nbconvert_exporter": "python",
   "pygments_lexer": "ipython3",
   "version": "3.8.5"
  }
 },
 "nbformat": 4,
 "nbformat_minor": 2
}
