{
 "cells": [
  {
   "cell_type": "markdown",
   "metadata": {},
   "source": [
    "# Data Preparation\n",
    "\n",
    "Dataset: <a href=\"https://www.kaggle.com/vishalmane10/anime-dataset-2022\">Anime Dataset 2022</a><br>\n",
    "Filename: Anime.csv<br>\n"
   ]
  },
  {
   "cell_type": "markdown",
   "metadata": {},
   "source": [
    "<table>\n",
    "  <tr>\n",
    "    <th>Feature_Name</th>\n",
    "    <th>Feature_Type</th>\n",
    "  </tr><tr>\n",
    "    <th></th>\n",
    "    <th></th>\n",
    "  </tr>\n",
    "</table>"
   ]
  },
  {
   "cell_type": "markdown",
   "metadata": {},
   "source": [
    "## Import Libraries"
   ]
  },
  {
   "cell_type": "code",
   "execution_count": 1,
   "metadata": {},
   "outputs": [],
   "source": [
    "import pandas as pd\n",
    "import matplotlib.pyplot as plt\n",
    "import seaborn as sns\n",
    "import numpy as np\n",
    "\n",
    "%matplotlib inline"
   ]
  },
  {
   "cell_type": "code",
   "execution_count": 2,
   "metadata": {},
   "outputs": [],
   "source": [
    "# Set Options for display\n",
    "pd.options.display.max_rows = 100\n",
    "pd.options.display.max_columns = 100\n",
    "pd.options.display.float_format = '{:.2f}'.format\n",
    "\n",
    "#Filter Warnings\n",
    "import warnings\n",
    "warnings.filterwarnings('ignore')"
   ]
  },
  {
   "cell_type": "code",
   "execution_count": 3,
   "metadata": {},
   "outputs": [],
   "source": [
    "from scipy.stats import norm\n",
    "from scipy import stats"
   ]
  },
  {
   "cell_type": "markdown",
   "metadata": {},
   "source": [
    "________"
   ]
  },
  {
   "cell_type": "markdown",
   "metadata": {},
   "source": [
    "## Load the Dataset\n",
    "* Specify the Parameters (Filepath, Index Column)\n",
    "* Check for Date-Time Columns to Parse Dates\n",
    "* Check Encoding if file does not load correctly"
   ]
  },
  {
   "cell_type": "code",
   "execution_count": 4,
   "metadata": {},
   "outputs": [],
   "source": [
    "df = pd.read_csv(\"./Anime.csv\")"
   ]
  },
  {
   "cell_type": "markdown",
   "metadata": {},
   "source": [
    "View the Dataset"
   ]
  },
  {
   "cell_type": "code",
   "execution_count": 5,
   "metadata": {},
   "outputs": [
    {
     "data": {
      "text/html": [
       "<div>\n",
       "<style scoped>\n",
       "    .dataframe tbody tr th:only-of-type {\n",
       "        vertical-align: middle;\n",
       "    }\n",
       "\n",
       "    .dataframe tbody tr th {\n",
       "        vertical-align: top;\n",
       "    }\n",
       "\n",
       "    .dataframe thead th {\n",
       "        text-align: right;\n",
       "    }\n",
       "</style>\n",
       "<table border=\"1\" class=\"dataframe\">\n",
       "  <thead>\n",
       "    <tr style=\"text-align: right;\">\n",
       "      <th></th>\n",
       "      <th>Rank</th>\n",
       "      <th>Name</th>\n",
       "      <th>Japanese_name</th>\n",
       "      <th>Type</th>\n",
       "      <th>Episodes</th>\n",
       "      <th>Studio</th>\n",
       "      <th>Release_season</th>\n",
       "      <th>Tags</th>\n",
       "      <th>Rating</th>\n",
       "      <th>Release_year</th>\n",
       "      <th>End_year</th>\n",
       "      <th>Description</th>\n",
       "      <th>Content_Warning</th>\n",
       "      <th>Related_Mange</th>\n",
       "      <th>Related_anime</th>\n",
       "      <th>Voice_actors</th>\n",
       "      <th>staff</th>\n",
       "    </tr>\n",
       "  </thead>\n",
       "  <tbody>\n",
       "    <tr>\n",
       "      <th>0</th>\n",
       "      <td>1</td>\n",
       "      <td>Demon Slayer: Kimetsu no Yaiba - Entertainment...</td>\n",
       "      <td>Kimetsu no Yaiba: Yuukaku-hen</td>\n",
       "      <td>TV</td>\n",
       "      <td>NaN</td>\n",
       "      <td>ufotable</td>\n",
       "      <td>Fall</td>\n",
       "      <td>Action, Adventure, Fantasy, Shounen, Demons, H...</td>\n",
       "      <td>4.60</td>\n",
       "      <td>2021.00</td>\n",
       "      <td>NaN</td>\n",
       "      <td>'Tanjiro and his friends accompany the Hashira...</td>\n",
       "      <td>Explicit Violence</td>\n",
       "      <td>Demon Slayer: Kimetsu no Yaiba</td>\n",
       "      <td>Demon Slayer: Kimetsu no Yaiba, Demon Slayer: ...</td>\n",
       "      <td>Inosuke Hashibira : Yoshitsugu Matsuoka, Nezuk...</td>\n",
       "      <td>Koyoharu Gotouge : Original Creator, Haruo Sot...</td>\n",
       "    </tr>\n",
       "    <tr>\n",
       "      <th>1</th>\n",
       "      <td>2</td>\n",
       "      <td>Fruits Basket the Final Season</td>\n",
       "      <td>Fruits Basket the Final</td>\n",
       "      <td>TV</td>\n",
       "      <td>13.00</td>\n",
       "      <td>TMS Entertainment</td>\n",
       "      <td>Spring</td>\n",
       "      <td>Drama, Fantasy, Romance, Shoujo, Animal Transf...</td>\n",
       "      <td>4.60</td>\n",
       "      <td>2021.00</td>\n",
       "      <td>NaN</td>\n",
       "      <td>'The final arc of Fruits Basket.'</td>\n",
       "      <td>Emotional Abuse,, Mature Themes,, Physical Abu...</td>\n",
       "      <td>Fruits Basket, Fruits Basket Another</td>\n",
       "      <td>Fruits Basket 1st Season, Fruits Basket 2nd Se...</td>\n",
       "      <td>Akito Sohma : Maaya Sakamoto, Kyo Sohma : Yuum...</td>\n",
       "      <td>Natsuki Takaya : Original Creator, Yoshihide I...</td>\n",
       "    </tr>\n",
       "    <tr>\n",
       "      <th>2</th>\n",
       "      <td>3</td>\n",
       "      <td>Mo Dao Zu Shi 3</td>\n",
       "      <td>The Founder of Diabolism 3</td>\n",
       "      <td>Web</td>\n",
       "      <td>12.00</td>\n",
       "      <td>B.C MAY PICTURES</td>\n",
       "      <td>NaN</td>\n",
       "      <td>Fantasy, Ancient China, Chinese Animation, Cul...</td>\n",
       "      <td>4.58</td>\n",
       "      <td>2021.00</td>\n",
       "      <td>NaN</td>\n",
       "      <td>'The third season of Mo Dao Zu Shi.'</td>\n",
       "      <td>NaN</td>\n",
       "      <td>Grandmaster of Demonic Cultivation: Mo Dao Zu ...</td>\n",
       "      <td>Mo Dao Zu Shi 2, Mo Dao Zu Shi Q</td>\n",
       "      <td>Lan Wangji, Wei Wuxian, Jiang Cheng, Jin Guang...</td>\n",
       "      <td>Mo Xiang Tong Xiu : Original Creator, Xiong Ke...</td>\n",
       "    </tr>\n",
       "    <tr>\n",
       "      <th>3</th>\n",
       "      <td>4</td>\n",
       "      <td>Fullmetal Alchemist: Brotherhood</td>\n",
       "      <td>Hagane no Renkinjutsushi: Full Metal Alchemist</td>\n",
       "      <td>TV</td>\n",
       "      <td>64.00</td>\n",
       "      <td>Bones</td>\n",
       "      <td>Spring</td>\n",
       "      <td>Action, Adventure, Drama, Fantasy, Mystery, Sh...</td>\n",
       "      <td>4.58</td>\n",
       "      <td>2009.00</td>\n",
       "      <td>2010.00</td>\n",
       "      <td>\"The foundation of alchemy is based on the law...</td>\n",
       "      <td>Animal Abuse,, Mature Themes,, Violence,, Dome...</td>\n",
       "      <td>Fullmetal Alchemist, Fullmetal Alchemist (Ligh...</td>\n",
       "      <td>Fullmetal Alchemist: Brotherhood Specials, Ful...</td>\n",
       "      <td>Alphonse Elric : Rie Kugimiya, Edward Elric : ...</td>\n",
       "      <td>Hiromu Arakawa : Original Creator, Yasuhiro Ir...</td>\n",
       "    </tr>\n",
       "    <tr>\n",
       "      <th>4</th>\n",
       "      <td>5</td>\n",
       "      <td>Attack on Titan 3rd Season: Part II</td>\n",
       "      <td>Shingeki no Kyojin Season 3: Part II</td>\n",
       "      <td>TV</td>\n",
       "      <td>10.00</td>\n",
       "      <td>WIT Studio</td>\n",
       "      <td>Spring</td>\n",
       "      <td>Action, Fantasy, Horror, Shounen, Dark Fantasy...</td>\n",
       "      <td>4.57</td>\n",
       "      <td>2019.00</td>\n",
       "      <td>NaN</td>\n",
       "      <td>'The battle to retake Wall Maria begins now! W...</td>\n",
       "      <td>Cannibalism,, Explicit Violence</td>\n",
       "      <td>Attack on Titan, Attack on Titan: End of the W...</td>\n",
       "      <td>Attack on Titan, Attack on Titan 2nd Season, A...</td>\n",
       "      <td>Armin Arlelt : Marina Inoue, Eren Jaeger : Yuu...</td>\n",
       "      <td>Hajime Isayama : Original Creator, Tetsurou Ar...</td>\n",
       "    </tr>\n",
       "  </tbody>\n",
       "</table>\n",
       "</div>"
      ],
      "text/plain": [
       "   Rank                                               Name  \\\n",
       "0     1  Demon Slayer: Kimetsu no Yaiba - Entertainment...   \n",
       "1     2                     Fruits Basket the Final Season   \n",
       "2     3                                    Mo Dao Zu Shi 3   \n",
       "3     4                   Fullmetal Alchemist: Brotherhood   \n",
       "4     5                Attack on Titan 3rd Season: Part II   \n",
       "\n",
       "                                     Japanese_name   Type  Episodes  \\\n",
       "0                    Kimetsu no Yaiba: Yuukaku-hen  TV          NaN   \n",
       "1                          Fruits Basket the Final  TV        13.00   \n",
       "2                       The Founder of Diabolism 3  Web       12.00   \n",
       "3   Hagane no Renkinjutsushi: Full Metal Alchemist  TV        64.00   \n",
       "4             Shingeki no Kyojin Season 3: Part II  TV        10.00   \n",
       "\n",
       "              Studio Release_season  \\\n",
       "0           ufotable          Fall    \n",
       "1  TMS Entertainment         Spring   \n",
       "2   B.C MAY PICTURES            NaN   \n",
       "3              Bones         Spring   \n",
       "4         WIT Studio         Spring   \n",
       "\n",
       "                                                Tags  Rating  Release_year  \\\n",
       "0  Action, Adventure, Fantasy, Shounen, Demons, H...    4.60       2021.00   \n",
       "1  Drama, Fantasy, Romance, Shoujo, Animal Transf...    4.60       2021.00   \n",
       "2  Fantasy, Ancient China, Chinese Animation, Cul...    4.58       2021.00   \n",
       "3  Action, Adventure, Drama, Fantasy, Mystery, Sh...    4.58       2009.00   \n",
       "4  Action, Fantasy, Horror, Shounen, Dark Fantasy...    4.57       2019.00   \n",
       "\n",
       "   End_year                                        Description  \\\n",
       "0       NaN  'Tanjiro and his friends accompany the Hashira...   \n",
       "1       NaN                  'The final arc of Fruits Basket.'   \n",
       "2       NaN               'The third season of Mo Dao Zu Shi.'   \n",
       "3   2010.00  \"The foundation of alchemy is based on the law...   \n",
       "4       NaN  'The battle to retake Wall Maria begins now! W...   \n",
       "\n",
       "                                     Content_Warning  \\\n",
       "0                                  Explicit Violence   \n",
       "1  Emotional Abuse,, Mature Themes,, Physical Abu...   \n",
       "2                                                NaN   \n",
       "3  Animal Abuse,, Mature Themes,, Violence,, Dome...   \n",
       "4                    Cannibalism,, Explicit Violence   \n",
       "\n",
       "                                       Related_Mange  \\\n",
       "0                     Demon Slayer: Kimetsu no Yaiba   \n",
       "1               Fruits Basket, Fruits Basket Another   \n",
       "2  Grandmaster of Demonic Cultivation: Mo Dao Zu ...   \n",
       "3  Fullmetal Alchemist, Fullmetal Alchemist (Ligh...   \n",
       "4  Attack on Titan, Attack on Titan: End of the W...   \n",
       "\n",
       "                                       Related_anime  \\\n",
       "0  Demon Slayer: Kimetsu no Yaiba, Demon Slayer: ...   \n",
       "1  Fruits Basket 1st Season, Fruits Basket 2nd Se...   \n",
       "2                   Mo Dao Zu Shi 2, Mo Dao Zu Shi Q   \n",
       "3  Fullmetal Alchemist: Brotherhood Specials, Ful...   \n",
       "4  Attack on Titan, Attack on Titan 2nd Season, A...   \n",
       "\n",
       "                                        Voice_actors  \\\n",
       "0  Inosuke Hashibira : Yoshitsugu Matsuoka, Nezuk...   \n",
       "1  Akito Sohma : Maaya Sakamoto, Kyo Sohma : Yuum...   \n",
       "2  Lan Wangji, Wei Wuxian, Jiang Cheng, Jin Guang...   \n",
       "3  Alphonse Elric : Rie Kugimiya, Edward Elric : ...   \n",
       "4  Armin Arlelt : Marina Inoue, Eren Jaeger : Yuu...   \n",
       "\n",
       "                                               staff  \n",
       "0  Koyoharu Gotouge : Original Creator, Haruo Sot...  \n",
       "1  Natsuki Takaya : Original Creator, Yoshihide I...  \n",
       "2  Mo Xiang Tong Xiu : Original Creator, Xiong Ke...  \n",
       "3  Hiromu Arakawa : Original Creator, Yasuhiro Ir...  \n",
       "4  Hajime Isayama : Original Creator, Tetsurou Ar...  "
      ]
     },
     "execution_count": 5,
     "metadata": {},
     "output_type": "execute_result"
    }
   ],
   "source": [
    "df.head()"
   ]
  },
  {
   "cell_type": "markdown",
   "metadata": {},
   "source": [
    "Check the Shape"
   ]
  },
  {
   "cell_type": "code",
   "execution_count": 6,
   "metadata": {},
   "outputs": [
    {
     "data": {
      "text/plain": [
       "(18495, 17)"
      ]
     },
     "execution_count": 6,
     "metadata": {},
     "output_type": "execute_result"
    }
   ],
   "source": [
    "df.shape"
   ]
  },
  {
   "cell_type": "markdown",
   "metadata": {},
   "source": [
    "## Ensure Columns / Features have Proper Labels"
   ]
  },
  {
   "cell_type": "markdown",
   "metadata": {},
   "source": [
    "Remove any columns that have not been labelled properly or are of unknown feature type"
   ]
  },
  {
   "cell_type": "code",
   "execution_count": 7,
   "metadata": {},
   "outputs": [
    {
     "data": {
      "text/plain": [
       "Index(['Rank', 'Name', 'Japanese_name', 'Type', 'Episodes', 'Studio',\n",
       "       'Release_season', 'Tags', 'Rating', 'Release_year', 'End_year',\n",
       "       'Description', 'Content_Warning', 'Related_Mange', 'Related_anime',\n",
       "       'Voice_actors', 'staff'],\n",
       "      dtype='object')"
      ]
     },
     "execution_count": 7,
     "metadata": {},
     "output_type": "execute_result"
    }
   ],
   "source": [
    "df.columns"
   ]
  },
  {
   "cell_type": "markdown",
   "metadata": {},
   "source": [
    "## Ensure Correct Format of Values"
   ]
  },
  {
   "cell_type": "markdown",
   "metadata": {},
   "source": [
    "Use the table above as reference"
   ]
  },
  {
   "cell_type": "code",
   "execution_count": 8,
   "metadata": {},
   "outputs": [
    {
     "data": {
      "text/plain": [
       "Rank                 int64\n",
       "Name                object\n",
       "Japanese_name       object\n",
       "Type                object\n",
       "Episodes           float64\n",
       "Studio              object\n",
       "Release_season      object\n",
       "Tags                object\n",
       "Rating             float64\n",
       "Release_year       float64\n",
       "End_year           float64\n",
       "Description         object\n",
       "Content_Warning     object\n",
       "Related_Mange       object\n",
       "Related_anime       object\n",
       "Voice_actors        object\n",
       "staff               object\n",
       "dtype: object"
      ]
     },
     "execution_count": 8,
     "metadata": {},
     "output_type": "execute_result"
    }
   ],
   "source": [
    "df.dtypes"
   ]
  },
  {
   "cell_type": "markdown",
   "metadata": {},
   "source": [
    "## Remove Duplicates"
   ]
  },
  {
   "cell_type": "markdown",
   "metadata": {},
   "source": [
    "Check if there are duplicated rows\n"
   ]
  },
  {
   "cell_type": "code",
   "execution_count": 9,
   "metadata": {},
   "outputs": [],
   "source": [
    "# df.duplicated().sum()"
   ]
  },
  {
   "cell_type": "markdown",
   "metadata": {},
   "source": [
    "Remove the duplicates if any"
   ]
  },
  {
   "cell_type": "code",
   "execution_count": 10,
   "metadata": {},
   "outputs": [],
   "source": [
    "# df.drop_duplicates(inplace=True)"
   ]
  },
  {
   "cell_type": "markdown",
   "metadata": {},
   "source": [
    "Check if the rows are dropped"
   ]
  },
  {
   "cell_type": "code",
   "execution_count": 11,
   "metadata": {},
   "outputs": [],
   "source": [
    "# df.shape"
   ]
  },
  {
   "cell_type": "markdown",
   "metadata": {},
   "source": [
    "## Handle Missing Data"
   ]
  },
  {
   "cell_type": "markdown",
   "metadata": {},
   "source": [
    "Hint: You may have to use the describe function to properly handle missing values for this dataset\n",
    "<br>\n",
    "\n",
    "\n"
   ]
  },
  {
   "cell_type": "markdown",
   "metadata": {},
   "source": [
    "For the Target Variable:\n",
    "Many sales occur with a nonsensically small dollar amount: USD0 most commonly. These sales are actually transfers of deeds between parties: for example, parents transferring ownership to their home to a child after moving out for retirement. For our purposes, let's remove any sale price that is less than USD10,000.00"
   ]
  },
  {
   "cell_type": "code",
   "execution_count": 12,
   "metadata": {},
   "outputs": [
    {
     "data": {
      "text/html": [
       "<div>\n",
       "<style scoped>\n",
       "    .dataframe tbody tr th:only-of-type {\n",
       "        vertical-align: middle;\n",
       "    }\n",
       "\n",
       "    .dataframe tbody tr th {\n",
       "        vertical-align: top;\n",
       "    }\n",
       "\n",
       "    .dataframe thead th {\n",
       "        text-align: right;\n",
       "    }\n",
       "</style>\n",
       "<table border=\"1\" class=\"dataframe\">\n",
       "  <thead>\n",
       "    <tr style=\"text-align: right;\">\n",
       "      <th></th>\n",
       "      <th>Rank</th>\n",
       "      <th>Name</th>\n",
       "      <th>Japanese_name</th>\n",
       "      <th>Type</th>\n",
       "      <th>Episodes</th>\n",
       "      <th>Studio</th>\n",
       "      <th>Release_season</th>\n",
       "      <th>Tags</th>\n",
       "      <th>Rating</th>\n",
       "      <th>Release_year</th>\n",
       "      <th>End_year</th>\n",
       "      <th>Description</th>\n",
       "      <th>Content_Warning</th>\n",
       "      <th>Related_Mange</th>\n",
       "      <th>Related_anime</th>\n",
       "      <th>Voice_actors</th>\n",
       "      <th>staff</th>\n",
       "    </tr>\n",
       "  </thead>\n",
       "  <tbody>\n",
       "    <tr>\n",
       "      <th>0</th>\n",
       "      <td>1</td>\n",
       "      <td>Demon Slayer: Kimetsu no Yaiba - Entertainment...</td>\n",
       "      <td>Kimetsu no Yaiba: Yuukaku-hen</td>\n",
       "      <td>TV</td>\n",
       "      <td>NaN</td>\n",
       "      <td>ufotable</td>\n",
       "      <td>Fall</td>\n",
       "      <td>Action, Adventure, Fantasy, Shounen, Demons, H...</td>\n",
       "      <td>4.60</td>\n",
       "      <td>2021.00</td>\n",
       "      <td>NaN</td>\n",
       "      <td>'Tanjiro and his friends accompany the Hashira...</td>\n",
       "      <td>Explicit Violence</td>\n",
       "      <td>Demon Slayer: Kimetsu no Yaiba</td>\n",
       "      <td>Demon Slayer: Kimetsu no Yaiba, Demon Slayer: ...</td>\n",
       "      <td>Inosuke Hashibira : Yoshitsugu Matsuoka, Nezuk...</td>\n",
       "      <td>Koyoharu Gotouge : Original Creator, Haruo Sot...</td>\n",
       "    </tr>\n",
       "    <tr>\n",
       "      <th>1</th>\n",
       "      <td>2</td>\n",
       "      <td>Fruits Basket the Final Season</td>\n",
       "      <td>Fruits Basket the Final</td>\n",
       "      <td>TV</td>\n",
       "      <td>13.00</td>\n",
       "      <td>TMS Entertainment</td>\n",
       "      <td>Spring</td>\n",
       "      <td>Drama, Fantasy, Romance, Shoujo, Animal Transf...</td>\n",
       "      <td>4.60</td>\n",
       "      <td>2021.00</td>\n",
       "      <td>NaN</td>\n",
       "      <td>'The final arc of Fruits Basket.'</td>\n",
       "      <td>Emotional Abuse,, Mature Themes,, Physical Abu...</td>\n",
       "      <td>Fruits Basket, Fruits Basket Another</td>\n",
       "      <td>Fruits Basket 1st Season, Fruits Basket 2nd Se...</td>\n",
       "      <td>Akito Sohma : Maaya Sakamoto, Kyo Sohma : Yuum...</td>\n",
       "      <td>Natsuki Takaya : Original Creator, Yoshihide I...</td>\n",
       "    </tr>\n",
       "    <tr>\n",
       "      <th>2</th>\n",
       "      <td>3</td>\n",
       "      <td>Mo Dao Zu Shi 3</td>\n",
       "      <td>The Founder of Diabolism 3</td>\n",
       "      <td>Web</td>\n",
       "      <td>12.00</td>\n",
       "      <td>B.C MAY PICTURES</td>\n",
       "      <td>NaN</td>\n",
       "      <td>Fantasy, Ancient China, Chinese Animation, Cul...</td>\n",
       "      <td>4.58</td>\n",
       "      <td>2021.00</td>\n",
       "      <td>NaN</td>\n",
       "      <td>'The third season of Mo Dao Zu Shi.'</td>\n",
       "      <td>NaN</td>\n",
       "      <td>Grandmaster of Demonic Cultivation: Mo Dao Zu ...</td>\n",
       "      <td>Mo Dao Zu Shi 2, Mo Dao Zu Shi Q</td>\n",
       "      <td>Lan Wangji, Wei Wuxian, Jiang Cheng, Jin Guang...</td>\n",
       "      <td>Mo Xiang Tong Xiu : Original Creator, Xiong Ke...</td>\n",
       "    </tr>\n",
       "    <tr>\n",
       "      <th>3</th>\n",
       "      <td>4</td>\n",
       "      <td>Fullmetal Alchemist: Brotherhood</td>\n",
       "      <td>Hagane no Renkinjutsushi: Full Metal Alchemist</td>\n",
       "      <td>TV</td>\n",
       "      <td>64.00</td>\n",
       "      <td>Bones</td>\n",
       "      <td>Spring</td>\n",
       "      <td>Action, Adventure, Drama, Fantasy, Mystery, Sh...</td>\n",
       "      <td>4.58</td>\n",
       "      <td>2009.00</td>\n",
       "      <td>2010.00</td>\n",
       "      <td>\"The foundation of alchemy is based on the law...</td>\n",
       "      <td>Animal Abuse,, Mature Themes,, Violence,, Dome...</td>\n",
       "      <td>Fullmetal Alchemist, Fullmetal Alchemist (Ligh...</td>\n",
       "      <td>Fullmetal Alchemist: Brotherhood Specials, Ful...</td>\n",
       "      <td>Alphonse Elric : Rie Kugimiya, Edward Elric : ...</td>\n",
       "      <td>Hiromu Arakawa : Original Creator, Yasuhiro Ir...</td>\n",
       "    </tr>\n",
       "    <tr>\n",
       "      <th>4</th>\n",
       "      <td>5</td>\n",
       "      <td>Attack on Titan 3rd Season: Part II</td>\n",
       "      <td>Shingeki no Kyojin Season 3: Part II</td>\n",
       "      <td>TV</td>\n",
       "      <td>10.00</td>\n",
       "      <td>WIT Studio</td>\n",
       "      <td>Spring</td>\n",
       "      <td>Action, Fantasy, Horror, Shounen, Dark Fantasy...</td>\n",
       "      <td>4.57</td>\n",
       "      <td>2019.00</td>\n",
       "      <td>NaN</td>\n",
       "      <td>'The battle to retake Wall Maria begins now! W...</td>\n",
       "      <td>Cannibalism,, Explicit Violence</td>\n",
       "      <td>Attack on Titan, Attack on Titan: End of the W...</td>\n",
       "      <td>Attack on Titan, Attack on Titan 2nd Season, A...</td>\n",
       "      <td>Armin Arlelt : Marina Inoue, Eren Jaeger : Yuu...</td>\n",
       "      <td>Hajime Isayama : Original Creator, Tetsurou Ar...</td>\n",
       "    </tr>\n",
       "    <tr>\n",
       "      <th>...</th>\n",
       "      <td>...</td>\n",
       "      <td>...</td>\n",
       "      <td>...</td>\n",
       "      <td>...</td>\n",
       "      <td>...</td>\n",
       "      <td>...</td>\n",
       "      <td>...</td>\n",
       "      <td>...</td>\n",
       "      <td>...</td>\n",
       "      <td>...</td>\n",
       "      <td>...</td>\n",
       "      <td>...</td>\n",
       "      <td>...</td>\n",
       "      <td>...</td>\n",
       "      <td>...</td>\n",
       "      <td>...</td>\n",
       "      <td>...</td>\n",
       "    </tr>\n",
       "    <tr>\n",
       "      <th>18490</th>\n",
       "      <td>18491</td>\n",
       "      <td>Qin Shi Mingyue: Canghai Hengliu Xiaomeng Spec...</td>\n",
       "      <td>NaN</td>\n",
       "      <td>Web</td>\n",
       "      <td>2.00</td>\n",
       "      <td>Sparkly Key Animation Studio</td>\n",
       "      <td>NaN</td>\n",
       "      <td>Action, Ancient China, Chinese Animation, Hist...</td>\n",
       "      <td>NaN</td>\n",
       "      <td>2020.00</td>\n",
       "      <td>NaN</td>\n",
       "      <td>Special episodes of Qin Shi Mingyue: Canghai H...</td>\n",
       "      <td>NaN</td>\n",
       "      <td>NaN</td>\n",
       "      <td>Qin Shi Mingyue: Canghai Hengliu</td>\n",
       "      <td>NaN</td>\n",
       "      <td>NaN</td>\n",
       "    </tr>\n",
       "    <tr>\n",
       "      <th>18491</th>\n",
       "      <td>18492</td>\n",
       "      <td>Yi Tang Juchang: Sanguo Yanyi</td>\n",
       "      <td>NaN</td>\n",
       "      <td>TV</td>\n",
       "      <td>108.00</td>\n",
       "      <td>NaN</td>\n",
       "      <td>NaN</td>\n",
       "      <td>Chinese Animation</td>\n",
       "      <td>NaN</td>\n",
       "      <td>2010.00</td>\n",
       "      <td>NaN</td>\n",
       "      <td>No synopsis yet - check back soon!</td>\n",
       "      <td>NaN</td>\n",
       "      <td>NaN</td>\n",
       "      <td>NaN</td>\n",
       "      <td>NaN</td>\n",
       "      <td>NaN</td>\n",
       "    </tr>\n",
       "    <tr>\n",
       "      <th>18492</th>\n",
       "      <td>18493</td>\n",
       "      <td>Fenghuang Ji Xiang Yu Qingming Shanghe Tu</td>\n",
       "      <td>NaN</td>\n",
       "      <td>TV</td>\n",
       "      <td>13.00</td>\n",
       "      <td>NaN</td>\n",
       "      <td>NaN</td>\n",
       "      <td>Chinese Animation, Family Friendly, Short Epis...</td>\n",
       "      <td>NaN</td>\n",
       "      <td>2020.00</td>\n",
       "      <td>NaN</td>\n",
       "      <td>No synopsis yet - check back soon!</td>\n",
       "      <td>NaN</td>\n",
       "      <td>NaN</td>\n",
       "      <td>NaN</td>\n",
       "      <td>NaN</td>\n",
       "      <td>NaN</td>\n",
       "    </tr>\n",
       "    <tr>\n",
       "      <th>18493</th>\n",
       "      <td>18494</td>\n",
       "      <td>Chengshi Jiyi Wo Men de Jieri</td>\n",
       "      <td>NaN</td>\n",
       "      <td>TV</td>\n",
       "      <td>NaN</td>\n",
       "      <td>NaN</td>\n",
       "      <td>NaN</td>\n",
       "      <td>Chinese Animation, Family Friendly, Short Epis...</td>\n",
       "      <td>NaN</td>\n",
       "      <td>2020.00</td>\n",
       "      <td>NaN</td>\n",
       "      <td>No synopsis yet - check back soon!</td>\n",
       "      <td>NaN</td>\n",
       "      <td>NaN</td>\n",
       "      <td>NaN</td>\n",
       "      <td>NaN</td>\n",
       "      <td>NaN</td>\n",
       "    </tr>\n",
       "    <tr>\n",
       "      <th>18494</th>\n",
       "      <td>18495</td>\n",
       "      <td>Heisei Inu Monogatari Bow: Genshi Inu Monogata...</td>\n",
       "      <td>NaN</td>\n",
       "      <td>Movie</td>\n",
       "      <td>NaN</td>\n",
       "      <td>Nippon Animation</td>\n",
       "      <td>NaN</td>\n",
       "      <td>Comedy, Slice of Life, Dogs</td>\n",
       "      <td>NaN</td>\n",
       "      <td>1994.00</td>\n",
       "      <td>NaN</td>\n",
       "      <td>No synopsis yet - check back soon!</td>\n",
       "      <td>NaN</td>\n",
       "      <td>NaN</td>\n",
       "      <td>Heisei Inu Monogatari Bow</td>\n",
       "      <td>NaN</td>\n",
       "      <td>NaN</td>\n",
       "    </tr>\n",
       "  </tbody>\n",
       "</table>\n",
       "<p>18495 rows × 17 columns</p>\n",
       "</div>"
      ],
      "text/plain": [
       "        Rank                                               Name  \\\n",
       "0          1  Demon Slayer: Kimetsu no Yaiba - Entertainment...   \n",
       "1          2                     Fruits Basket the Final Season   \n",
       "2          3                                    Mo Dao Zu Shi 3   \n",
       "3          4                   Fullmetal Alchemist: Brotherhood   \n",
       "4          5                Attack on Titan 3rd Season: Part II   \n",
       "...      ...                                                ...   \n",
       "18490  18491  Qin Shi Mingyue: Canghai Hengliu Xiaomeng Spec...   \n",
       "18491  18492                      Yi Tang Juchang: Sanguo Yanyi   \n",
       "18492  18493          Fenghuang Ji Xiang Yu Qingming Shanghe Tu   \n",
       "18493  18494                      Chengshi Jiyi Wo Men de Jieri   \n",
       "18494  18495  Heisei Inu Monogatari Bow: Genshi Inu Monogata...   \n",
       "\n",
       "                                         Japanese_name   Type  Episodes  \\\n",
       "0                        Kimetsu no Yaiba: Yuukaku-hen  TV          NaN   \n",
       "1                              Fruits Basket the Final  TV        13.00   \n",
       "2                           The Founder of Diabolism 3  Web       12.00   \n",
       "3       Hagane no Renkinjutsushi: Full Metal Alchemist  TV        64.00   \n",
       "4                 Shingeki no Kyojin Season 3: Part II  TV        10.00   \n",
       "...                                                ...    ...       ...   \n",
       "18490                                              NaN  Web        2.00   \n",
       "18491                                              NaN  TV       108.00   \n",
       "18492                                              NaN  TV        13.00   \n",
       "18493                                              NaN  TV          NaN   \n",
       "18494                                              NaN  Movie       NaN   \n",
       "\n",
       "                             Studio Release_season  \\\n",
       "0                          ufotable          Fall    \n",
       "1                 TMS Entertainment         Spring   \n",
       "2                  B.C MAY PICTURES            NaN   \n",
       "3                             Bones         Spring   \n",
       "4                        WIT Studio         Spring   \n",
       "...                             ...            ...   \n",
       "18490  Sparkly Key Animation Studio            NaN   \n",
       "18491                           NaN            NaN   \n",
       "18492                           NaN            NaN   \n",
       "18493                           NaN            NaN   \n",
       "18494              Nippon Animation            NaN   \n",
       "\n",
       "                                                    Tags  Rating  \\\n",
       "0      Action, Adventure, Fantasy, Shounen, Demons, H...    4.60   \n",
       "1      Drama, Fantasy, Romance, Shoujo, Animal Transf...    4.60   \n",
       "2      Fantasy, Ancient China, Chinese Animation, Cul...    4.58   \n",
       "3      Action, Adventure, Drama, Fantasy, Mystery, Sh...    4.58   \n",
       "4      Action, Fantasy, Horror, Shounen, Dark Fantasy...    4.57   \n",
       "...                                                  ...     ...   \n",
       "18490  Action, Ancient China, Chinese Animation, Hist...     NaN   \n",
       "18491                                  Chinese Animation     NaN   \n",
       "18492  Chinese Animation, Family Friendly, Short Epis...     NaN   \n",
       "18493  Chinese Animation, Family Friendly, Short Epis...     NaN   \n",
       "18494                        Comedy, Slice of Life, Dogs     NaN   \n",
       "\n",
       "       Release_year  End_year  \\\n",
       "0           2021.00       NaN   \n",
       "1           2021.00       NaN   \n",
       "2           2021.00       NaN   \n",
       "3           2009.00   2010.00   \n",
       "4           2019.00       NaN   \n",
       "...             ...       ...   \n",
       "18490       2020.00       NaN   \n",
       "18491       2010.00       NaN   \n",
       "18492       2020.00       NaN   \n",
       "18493       2020.00       NaN   \n",
       "18494       1994.00       NaN   \n",
       "\n",
       "                                             Description  \\\n",
       "0      'Tanjiro and his friends accompany the Hashira...   \n",
       "1                      'The final arc of Fruits Basket.'   \n",
       "2                   'The third season of Mo Dao Zu Shi.'   \n",
       "3      \"The foundation of alchemy is based on the law...   \n",
       "4      'The battle to retake Wall Maria begins now! W...   \n",
       "...                                                  ...   \n",
       "18490  Special episodes of Qin Shi Mingyue: Canghai H...   \n",
       "18491                 No synopsis yet - check back soon!   \n",
       "18492                 No synopsis yet - check back soon!   \n",
       "18493                 No synopsis yet - check back soon!   \n",
       "18494                 No synopsis yet - check back soon!   \n",
       "\n",
       "                                         Content_Warning  \\\n",
       "0                                      Explicit Violence   \n",
       "1      Emotional Abuse,, Mature Themes,, Physical Abu...   \n",
       "2                                                    NaN   \n",
       "3      Animal Abuse,, Mature Themes,, Violence,, Dome...   \n",
       "4                        Cannibalism,, Explicit Violence   \n",
       "...                                                  ...   \n",
       "18490                                                NaN   \n",
       "18491                                                NaN   \n",
       "18492                                                NaN   \n",
       "18493                                                NaN   \n",
       "18494                                                NaN   \n",
       "\n",
       "                                           Related_Mange  \\\n",
       "0                         Demon Slayer: Kimetsu no Yaiba   \n",
       "1                   Fruits Basket, Fruits Basket Another   \n",
       "2      Grandmaster of Demonic Cultivation: Mo Dao Zu ...   \n",
       "3      Fullmetal Alchemist, Fullmetal Alchemist (Ligh...   \n",
       "4      Attack on Titan, Attack on Titan: End of the W...   \n",
       "...                                                  ...   \n",
       "18490                                                NaN   \n",
       "18491                                                NaN   \n",
       "18492                                                NaN   \n",
       "18493                                                NaN   \n",
       "18494                                                NaN   \n",
       "\n",
       "                                           Related_anime  \\\n",
       "0      Demon Slayer: Kimetsu no Yaiba, Demon Slayer: ...   \n",
       "1      Fruits Basket 1st Season, Fruits Basket 2nd Se...   \n",
       "2                       Mo Dao Zu Shi 2, Mo Dao Zu Shi Q   \n",
       "3      Fullmetal Alchemist: Brotherhood Specials, Ful...   \n",
       "4      Attack on Titan, Attack on Titan 2nd Season, A...   \n",
       "...                                                  ...   \n",
       "18490                   Qin Shi Mingyue: Canghai Hengliu   \n",
       "18491                                                NaN   \n",
       "18492                                                NaN   \n",
       "18493                                                NaN   \n",
       "18494                          Heisei Inu Monogatari Bow   \n",
       "\n",
       "                                            Voice_actors  \\\n",
       "0      Inosuke Hashibira : Yoshitsugu Matsuoka, Nezuk...   \n",
       "1      Akito Sohma : Maaya Sakamoto, Kyo Sohma : Yuum...   \n",
       "2      Lan Wangji, Wei Wuxian, Jiang Cheng, Jin Guang...   \n",
       "3      Alphonse Elric : Rie Kugimiya, Edward Elric : ...   \n",
       "4      Armin Arlelt : Marina Inoue, Eren Jaeger : Yuu...   \n",
       "...                                                  ...   \n",
       "18490                                                NaN   \n",
       "18491                                                NaN   \n",
       "18492                                                NaN   \n",
       "18493                                                NaN   \n",
       "18494                                                NaN   \n",
       "\n",
       "                                                   staff  \n",
       "0      Koyoharu Gotouge : Original Creator, Haruo Sot...  \n",
       "1      Natsuki Takaya : Original Creator, Yoshihide I...  \n",
       "2      Mo Xiang Tong Xiu : Original Creator, Xiong Ke...  \n",
       "3      Hiromu Arakawa : Original Creator, Yasuhiro Ir...  \n",
       "4      Hajime Isayama : Original Creator, Tetsurou Ar...  \n",
       "...                                                  ...  \n",
       "18490                                                NaN  \n",
       "18491                                                NaN  \n",
       "18492                                                NaN  \n",
       "18493                                                NaN  \n",
       "18494                                                NaN  \n",
       "\n",
       "[18495 rows x 17 columns]"
      ]
     },
     "execution_count": 12,
     "metadata": {},
     "output_type": "execute_result"
    }
   ],
   "source": [
    "df.head()"
   ]
  },
  {
   "cell_type": "markdown",
   "metadata": {},
   "source": [
    "_______"
   ]
  },
  {
   "cell_type": "markdown",
   "metadata": {},
   "source": [
    "## Remove Outliers"
   ]
  },
  {
   "cell_type": "markdown",
   "metadata": {},
   "source": [
    "### Univariate"
   ]
  },
  {
   "cell_type": "markdown",
   "metadata": {},
   "source": [
    "Check the Distribution of the Target Column"
   ]
  },
  {
   "cell_type": "code",
   "execution_count": 13,
   "metadata": {},
   "outputs": [],
   "source": [
    "# sns.boxplot(df['SALE_PRICE'], orient='v')"
   ]
  },
  {
   "cell_type": "markdown",
   "metadata": {},
   "source": [
    "Remove outliers using any value, which is beyond the range of -1.5 x IQR to 1.5 x IQR\n",
    "\n"
   ]
  },
  {
   "cell_type": "markdown",
   "metadata": {},
   "source": [
    "*The interquartile range (IQR), is equal to the difference between 75th and 25th percentiles \n",
    "IQR = Q3 − Q1.*\n",
    "\n",
    "<a href=\"https://en.wikipedia.org/wiki/Interquartile_range\">More information</a>"
   ]
  },
  {
   "cell_type": "markdown",
   "metadata": {},
   "source": [
    "View the changes in distribution after removing the outliers"
   ]
  },
  {
   "cell_type": "code",
   "execution_count": 14,
   "metadata": {},
   "outputs": [],
   "source": [
    "# Q1 = df['SALE_PRICE'].quantile(0.25)\n",
    "# Q1"
   ]
  },
  {
   "cell_type": "code",
   "execution_count": 15,
   "metadata": {},
   "outputs": [],
   "source": [
    "# Q3 = df['SALE_PRICE'].quantile(0.75)\n",
    "# Q3"
   ]
  },
  {
   "cell_type": "code",
   "execution_count": 16,
   "metadata": {},
   "outputs": [],
   "source": [
    "# IQR = Q3 - Q1"
   ]
  },
  {
   "cell_type": "code",
   "execution_count": 17,
   "metadata": {},
   "outputs": [],
   "source": [
    "# print(\"Q1 : %i\" %Q1)\n",
    "# print(\"Q3 : %i\" %Q3)\n",
    "# print(\"IQR : %i\" %IQR)"
   ]
  },
  {
   "cell_type": "code",
   "execution_count": 18,
   "metadata": {},
   "outputs": [],
   "source": [
    "# (Q1 - 1.5 * IQR)"
   ]
  },
  {
   "cell_type": "code",
   "execution_count": 19,
   "metadata": {},
   "outputs": [],
   "source": [
    "# (Q3 + 1.5 * IQR)"
   ]
  },
  {
   "cell_type": "code",
   "execution_count": 20,
   "metadata": {},
   "outputs": [],
   "source": [
    "# df_out = df[~((df['SALE_PRICE'] < (Q1 - 1.5 * IQR)) | (df['SALE_PRICE'] > (Q3 + 1.5 * IQR)))]"
   ]
  },
  {
   "cell_type": "code",
   "execution_count": 21,
   "metadata": {},
   "outputs": [],
   "source": [
    "# df_out.shape"
   ]
  },
  {
   "cell_type": "code",
   "execution_count": 22,
   "metadata": {},
   "outputs": [],
   "source": [
    "# df.shape[0] - df_out.shape[0]"
   ]
  },
  {
   "cell_type": "code",
   "execution_count": 23,
   "metadata": {},
   "outputs": [],
   "source": [
    "# sns.boxplot(df_out['SALE_PRICE'], orient='v')"
   ]
  },
  {
   "cell_type": "code",
   "execution_count": 24,
   "metadata": {},
   "outputs": [],
   "source": [
    "# sns.distplot(df_out['SALE_PRICE'])"
   ]
  },
  {
   "cell_type": "markdown",
   "metadata": {},
   "source": [
    "______"
   ]
  },
  {
   "cell_type": "markdown",
   "metadata": {},
   "source": [
    "# Save the final dataset as a CSV File"
   ]
  },
  {
   "cell_type": "code",
   "execution_count": 25,
   "metadata": {},
   "outputs": [],
   "source": [
    "# df_final.to_csv('./Output/c2_NYC_Output2.csv')"
   ]
  },
  {
   "cell_type": "markdown",
   "metadata": {},
   "source": [
    "### Check if it loads correctly"
   ]
  },
  {
   "cell_type": "code",
   "execution_count": 26,
   "metadata": {},
   "outputs": [],
   "source": [
    "# df_check = pd.read_csv('./Output/c2_NYC_Output2.csv', index_col='Unnamed: 0')"
   ]
  },
  {
   "cell_type": "code",
   "execution_count": 27,
   "metadata": {},
   "outputs": [],
   "source": [
    "# df_check.head()"
   ]
  }
 ],
 "metadata": {
  "kernelspec": {
   "display_name": "Python 3",
   "language": "python",
   "name": "python3"
  },
  "language_info": {
   "codemirror_mode": {
    "name": "ipython",
    "version": 3
   },
   "file_extension": ".py",
   "mimetype": "text/x-python",
   "name": "python",
   "nbconvert_exporter": "python",
   "pygments_lexer": "ipython3",
   "version": "3.9.7"
  }
 },
 "nbformat": 4,
 "nbformat_minor": 2
}
