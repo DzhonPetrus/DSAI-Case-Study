{
 "cells": [
  {
   "cell_type": "markdown",
   "metadata": {},
   "source": [
    "# CASE STUDY 1 - GROUP 2\n",
    "### Members\n",
    "- Bautista, Millette\n",
    "- Dano, Jomari\n",
    "- Narzoles, John Peter\n",
    "- Roranes, Raven Rain\n",
    "- Siaotong, Danica"
   ]
  },
  {
   "cell_type": "markdown",
   "metadata": {},
   "source": [
    "---"
   ]
  },
  {
   "cell_type": "markdown",
   "metadata": {},
   "source": [
    "### SETUP"
   ]
  },
  {
   "cell_type": "code",
   "execution_count": 75,
   "metadata": {},
   "outputs": [],
   "source": [
    "import requests\n",
    "from requests.adapters import HTTPAdapter\n",
    "from requests.packages.urllib3.util.retry import Retry\n",
    "import pandas as pd\n",
    "from bs4 import BeautifulSoup\n",
    "import re\n",
    "\n",
    "\n",
    "base_url = \"https://philatlas.com/\""
   ]
  },
  {
   "cell_type": "markdown",
   "metadata": {},
   "source": [
    "---"
   ]
  },
  {
   "cell_type": "markdown",
   "metadata": {},
   "source": [
    "### FUNCTIONS"
   ]
  },
  {
   "cell_type": "code",
   "execution_count": 234,
   "metadata": {},
   "outputs": [],
   "source": [
    "def requests_retry_session(\n",
    "    retries=5,\n",
    "    backoff_factor=0.3,\n",
    "    status_forcelist=(500, 502, 504),\n",
    "    session=None,\n",
    "):\n",
    "    session = session or requests.Session()\n",
    "    retry = Retry(\n",
    "        total=retries,\n",
    "        read=retries,\n",
    "        connect=retries,\n",
    "        backoff_factor=backoff_factor,\n",
    "        status_forcelist=status_forcelist,\n",
    "    )\n",
    "    adapter = HTTPAdapter(max_retries=retry)\n",
    "    session.mount('http://', adapter)\n",
    "    session.mount('https://', adapter)\n",
    "    return session\n",
    "\n",
    "\n",
    "# url = webpage\n",
    "# element = target element\n",
    "# element_class = class of target element\n",
    "def get_specific_element(url, element, element_class=\"\", _id=\"\"):\n",
    "    # page = requests.get(url)\n",
    "    page = requests_retry_session().get(url)\n",
    "    if page.status_code != 200:\n",
    "        return \"Error on accessing Webpage\"\n",
    "    soup = BeautifulSoup(page.content, 'html.parser')\n",
    "\n",
    "    if element_class == \"\":\n",
    "        return soup.find(element, id=_id)\n",
    "\n",
    "    if _id == \"\":\n",
    "        return soup.find(element, class_=element_class)\n",
    "\n",
    "    return soup.find(element, class_=element_class, id=_id)"
   ]
  },
  {
   "cell_type": "markdown",
   "metadata": {},
   "source": [
    "---"
   ]
  },
  {
   "cell_type": "markdown",
   "metadata": {},
   "source": [
    "### Output 1: Island Group, Region"
   ]
  },
  {
   "cell_type": "code",
   "execution_count": 29,
   "metadata": {},
   "outputs": [],
   "source": [
    "# VARIABLES\n",
    "\n",
    "# OUTPUT 1\n",
    "island_groups = []\n",
    "regions = []\n",
    "url = f\"{base_url}island-groups.html\"\n",
    "\n",
    "# OUTPUT 2\n",
    "REGIONS = {}"
   ]
  },
  {
   "cell_type": "code",
   "execution_count": 30,
   "metadata": {},
   "outputs": [],
   "source": [
    "right_table = get_specific_element(url, 'table', 'generic-table')\n",
    "\n",
    "for row in right_table.find_all('tr'):\n",
    "    #kinuha island group kasi di sya kasama sa td\n",
    "\n",
    "    island = row.find_all('th', scope = 'row')\n",
    "    if len(island) > 0:\n",
    "    #     #finind ko yung laman ul para ilabas lahat ng mga list na nandun.\n",
    "        _region = row.find('ul').text\n",
    "        island_groups.append(island[0].find(text=True))\n",
    "        regions.append(_region+' ')\n",
    "\n",
    "\n",
    "        # SETUP FOR OUTPUT 2\n",
    "        links = row.find('ul')\n",
    "        for _url in links.find_all('a'):\n",
    "            _region_url = base_url + _url.get('href')\n",
    "            _txt = _url.get_text()\n",
    "            _region_name = _txt.split(' – ')[0].split(' ')[0]\n",
    "            REGIONS[_region_name] = _region_url"
   ]
  },
  {
   "cell_type": "code",
   "execution_count": 31,
   "metadata": {},
   "outputs": [],
   "source": [
    "df_output1 = pd.DataFrame(island_groups, columns=['Island group'])\n",
    "df_output1['Component regions'] = regions"
   ]
  },
  {
   "cell_type": "code",
   "execution_count": 32,
   "metadata": {},
   "outputs": [],
   "source": [
    "df_output1.to_csv('../Output/Output1.csv')"
   ]
  },
  {
   "cell_type": "markdown",
   "metadata": {},
   "source": [
    "---"
   ]
  },
  {
   "cell_type": "markdown",
   "metadata": {},
   "source": [
    "### Output 2: Region, Province Name, Type, Population (2015), Population (2010), Annual Population Growth Rat (2010 - 2015), Area (2007 in km2), Density (2015 per km2), City Count, Mun Count, Brgy Count"
   ]
  },
  {
   "cell_type": "code",
   "execution_count": 33,
   "metadata": {},
   "outputs": [],
   "source": [
    "# VARIABLES\n",
    "# REGIONS\n",
    "output2 = pd.DataFrame()\n",
    "\n",
    "# FOR OUTPUT 3\n",
    "output3 = pd.DataFrame()\n",
    "PROVINCES = {}\n",
    "\n",
    "# FOR OUTPUT 4\n",
    "MUNICIPALITIES = {}\n",
    "\n"
   ]
  },
  {
   "cell_type": "code",
   "execution_count": 34,
   "metadata": {},
   "outputs": [],
   "source": [
    "for name, link in REGIONS.items():\n",
    "    right_table = get_specific_element(link, 'table', 'sortable datatable')\n",
    "\n",
    "    # VARIABLE INITIALIZATION\n",
    "    Region = []\n",
    "    Province = []\n",
    "    Type = []\n",
    "    Population_2020 = []\n",
    "    Population_2015 = []\n",
    "    APGR_2015_2020 = []\n",
    "    Area_2013 = []\n",
    "    Density_2020 = []\n",
    "    City_count = []\n",
    "    Mun_count = []\n",
    "    Brgy_count = []\n",
    "\n",
    "\n",
    "\n",
    "    # VARIABLE INITIALIZATION for df_output3\n",
    "    df_output3 = None\n",
    "    o3_Province = []\n",
    "    o3_Municipality = []\n",
    "    o3_Type = []\n",
    "    o3_Population_2020 = []\n",
    "    o3_Population_2015 = []\n",
    "    o3_APGR_2015_2020 = []\n",
    "    o3_Area_2013 = []\n",
    "    o3_Density_2020 = []\n",
    "    o3_Brgy_count = []\n",
    "\n",
    "\n",
    "    for row in right_table.find_all(\"tr\"):\n",
    "        cells = row.find_all('td')\n",
    "        #kunin lahat ng \"a\" para makuha yung mga region name\n",
    "        province = row.find_all('a')\n",
    "\n",
    "\n",
    "\n",
    "\n",
    "        if len(province) > 0:\n",
    "            if len(cells) > 0:\n",
    "                Region.append(name)\n",
    "                Province.append(province[0].get_text())\n",
    "                Type.append(cells[0].get_text())\n",
    "                Population_2020.append(cells[1].get_text())\n",
    "                Population_2015.append(cells[2].get_text())\n",
    "                APGR_2015_2020.append(cells[3].get_text())\n",
    "                Area_2013.append(cells[4].get_text())\n",
    "                Density_2020.append(cells[5].get_text())\n",
    "\n",
    "                # SETUP FOR OUTPUT 3\n",
    "                if (cells[0].get_text()).lower() == 'province':\n",
    "                    for link in province:\n",
    "                        _province_url = base_url + link.get('href')\n",
    "                        # print(link.text)\n",
    "                        PROVINCES[link.text] = _province_url\n",
    "                else:\n",
    "                    # SETUP FOR OUTPUT 4\n",
    "                    for link in province:\n",
    "                        _province_url = base_url + link.get('href')\n",
    "                        # print(link.text)\n",
    "                        MUNICIPALITIES[(province[0].get_text())+'|'+link.text] = _province_url\n",
    "\n",
    "                    o3_Province.append(name)\n",
    "                    o3_Municipality.append(province[0].get_text())\n",
    "                    o3_Type.append(cells[0].get_text())\n",
    "                    o3_Population_2020.append(cells[1].get_text())\n",
    "                    o3_Population_2015.append(cells[2].get_text())\n",
    "                    o3_APGR_2015_2020.append(cells[3].get_text())\n",
    "                    o3_Area_2013.append(cells[4].get_text())\n",
    "                    o3_Density_2020.append(cells[5].get_text())\n",
    "                    o3_Brgy_count.append(cells[6].get_text())\n",
    "\n",
    "\n",
    "                # if name != 'NCR':\n",
    "                if len(cells) > 7:\n",
    "                    City_count.append(cells[6].get_text())\n",
    "                    Mun_count.append(cells[7].get_text())\n",
    "                    Brgy_count.append(cells[8].get_text())\n",
    "\n",
    "\n",
    "                else:\n",
    "                    City_count.append('-')\n",
    "                    Mun_count.append('-')\n",
    "                    Brgy_count.append(cells[6].get_text())\n",
    "\n",
    "\n",
    "\n",
    "\n",
    "    df_output2 = pd.DataFrame()\n",
    "    df_output2['Region'] = Region\n",
    "    df_output2['Province Name'] = Province\n",
    "    df_output2['Type'] = Type\n",
    "    df_output2['Population (2020)'] = Population_2020\n",
    "    df_output2['Population (2015)'] = Population_2015\n",
    "    df_output2['Annual Population Growth Rate (2015‑2020)'] = APGR_2015_2020\n",
    "    df_output2['Area (2013), in km2'] = Area_2013\n",
    "    df_output2['Density (2020), per km2'] = Density_2020\n",
    "\n",
    "    if len(City_count) > 0:\n",
    "        df_output2['City count'] = City_count\n",
    "\n",
    "    if len(Mun_count) > 0:\n",
    "        df_output2['Mun count'] = Mun_count\n",
    "\n",
    "\n",
    "    df_output3 = pd.DataFrame()\n",
    "    df_output3['Province'] = o3_Province\n",
    "    df_output3['Municipality Name'] = o3_Municipality\n",
    "    df_output3['Type'] = o3_Type\n",
    "    df_output3['Population (2020)'] = o3_Population_2020\n",
    "    df_output3['Population (2015)'] = o3_Population_2015\n",
    "    df_output3['Annual Population Growth Rate (2015‑2020)'] = o3_APGR_2015_2020\n",
    "    df_output3['Area (2013), in km2'] = o3_Area_2013\n",
    "    df_output3['Density (2020), per km2'] = o3_Density_2020\n",
    "\n",
    "    df_output3['Brgy count'] = o3_Brgy_count\n",
    "\n",
    "    output3 = output3.append(df_output3)\n",
    "\n",
    "    \n",
    "\n",
    "    df_output2['Brgy count'] = Brgy_count\n",
    "    output2 = output2.append(df_output2)"
   ]
  },
  {
   "cell_type": "code",
   "execution_count": 35,
   "metadata": {},
   "outputs": [],
   "source": [
    "# PROVINCES\n",
    "# len(PROVINCES)\n",
    "# len(MUNICIPALITIES)\n",
    "# MUNICIPALITIES\n",
    "# pd.DataFrame.from_dict(enumerate(MUNICIPALITIES))"
   ]
  },
  {
   "cell_type": "code",
   "execution_count": 36,
   "metadata": {},
   "outputs": [],
   "source": [
    "# print(output2)\n",
    "output2.to_csv(f'../Output/Output2.csv')"
   ]
  },
  {
   "cell_type": "code",
   "execution_count": 37,
   "metadata": {},
   "outputs": [],
   "source": [
    "# output2.describe()"
   ]
  },
  {
   "cell_type": "markdown",
   "metadata": {},
   "source": [
    "---"
   ]
  },
  {
   "cell_type": "markdown",
   "metadata": {},
   "source": [
    "### Output 3: Province, Municipality name, Type, Population (2015), Population (2010), Annual Population Growth Rate (2010 - 2015), Area (2007 in km2), Density (2015 per km2), Brgy Count"
   ]
  },
  {
   "cell_type": "code",
   "execution_count": 38,
   "metadata": {},
   "outputs": [],
   "source": [
    "# VARIABLES\n"
   ]
  },
  {
   "cell_type": "code",
   "execution_count": 39,
   "metadata": {},
   "outputs": [],
   "source": [
    "for i, (name,link) in enumerate(PROVINCES.items()):\n",
    "\n",
    "    right_table = get_specific_element(link, 'table', 'sortable datatable')\n",
    "\n",
    "    # VARIABLE INITIALIZATION\n",
    "    df_output3 = None\n",
    "    Province = []\n",
    "    Municipality = []\n",
    "    Type = []\n",
    "    Population_2020 = []\n",
    "    Population_2015 = []\n",
    "    APGR_2015_2020 = []\n",
    "    Area_2013 = []\n",
    "    Density_2020 = []\n",
    "    Brgy_count = []\n",
    "\n",
    "    # CITY / Municipality\n",
    "    Population_percentage_2020 = []\n",
    "    Change_2015_2020 = []\n",
    "\n",
    "    for row in right_table.find_all(\"tr\"):\n",
    "        cells = row.find_all('td')\n",
    "        municipality = row.find_all('a')\n",
    "\n",
    "\n",
    "        if len(municipality) > 0:\n",
    "\n",
    "            # SETUP FOR OUTPUT 4\n",
    "            for _link in municipality:\n",
    "                _municipality_url = base_url + _link.get('href')\n",
    "                MUNICIPALITIES[name+'|'+_link.text] = _municipality_url\n",
    "\n",
    "            if len(cells) > 0:\n",
    "\n",
    "                # PROVINCE\n",
    "                Province.append(name)\n",
    "                Municipality.append(municipality[0].get_text())\n",
    "                Type.append(cells[0].get_text())\n",
    "                Population_2020.append(cells[1].get_text())\n",
    "                Population_2015.append(cells[2].get_text())\n",
    "                APGR_2015_2020.append(cells[3].get_text())\n",
    "                Area_2013.append(cells[4].get_text())\n",
    "                Density_2020.append(cells[5].get_text())\n",
    "                Brgy_count.append(cells[6].get_text())\n",
    "\n",
    "\n",
    "\n",
    "    df_output3 = pd.DataFrame()\n",
    "    df_output3['Province'] = Province\n",
    "    df_output3['Municipality Name'] = Municipality\n",
    "    df_output3['Type'] = Type\n",
    "    df_output3['Population (2020)'] = Population_2020\n",
    "    df_output3['Population (2015)'] = Population_2015\n",
    "    df_output3['Annual Population Growth Rate (2015‑2020)'] = APGR_2015_2020\n",
    "    df_output3['Area (2013), in km2'] = Area_2013\n",
    "    df_output3['Density (2020), per km2'] = Density_2020\n",
    "\n",
    "    df_output3['Brgy count'] = Brgy_count\n",
    "\n",
    "    output3 = output3.append(df_output3)"
   ]
  },
  {
   "cell_type": "code",
   "execution_count": 40,
   "metadata": {},
   "outputs": [],
   "source": [
    "# MUNICIPALITIES\n",
    "# len(MUNICIPALITIES)\n",
    "# pd.DataFrame.from_dict(enumerate(MUNICIPALITIES))"
   ]
  },
  {
   "cell_type": "code",
   "execution_count": 41,
   "metadata": {},
   "outputs": [],
   "source": [
    "\n",
    "# output3.describe()\n",
    "# output3.nunique()"
   ]
  },
  {
   "cell_type": "code",
   "execution_count": 42,
   "metadata": {},
   "outputs": [],
   "source": [
    "\n",
    "    # PROVINCES\n",
    "    # REGIONS\n",
    "\n",
    "    # print(output3)\n",
    "    output3.to_csv(f'../Output/Output3.csv')\n",
    "    # output3.describe()\n",
    "\n",
    "\n",
    "    # for index,(name,link) in enumerate(PROVINCES.items()):\n",
    "    #     print(PROVINCES_TYPE[index])\n",
    "    #     print(name)"
   ]
  },
  {
   "cell_type": "markdown",
   "metadata": {},
   "source": [
    "---"
   ]
  },
  {
   "cell_type": "markdown",
   "metadata": {},
   "source": [
    "### Output 4: Municipality Name, Barangay Name, Population Percentage (2015), Population (2015), Population (2010), Change (2010 - 2015), Annual Population Growth Rate (2010 - 2015), Postal Code, Coastal/Landlocked, Marine Waterbodies, Coordinates, Estimated Elevation above sea level"
   ]
  },
  {
   "cell_type": "code",
   "execution_count": 227,
   "metadata": {},
   "outputs": [],
   "source": [
    "# output4 = pd.DataFrame()\n",
    "\n",
    "# len(MUNICIPALITIES)\n",
    "# MUNICIPALITIES\n",
    "\n",
    "# N = 9\n",
    "# limited_MUNICIPALITIES = dict(list(MUNICIPALITIES.items())[5: N])\n",
    "\n",
    "#! BUG: Multiple Doble yung rows\n",
    "#SKIPPED 24 = Cebu City\n",
    "# limited_MUNICIPALITIES = dict(list(MUNICIPALITIES.items())[24:25])\n",
    "# SKIPPED 29 = Zamboanga City\n",
    "# limited_MUNICIPALITIES = dict(list(MUNICIPALITIES.items())[29:31])\n",
    "# SKIPPED 35 = Butuan\n",
    "# limited_MUNICIPALITIES = dict(list(MUNICIPALITIES.items())[35:36])\n",
    "\n",
    "#! BUG: Table recognized as NONE\n",
    "# SKIPPED 36 = Adams\n",
    "# limited_MUNICIPALITIES = dict(list(MUNICIPALITIES.items())[36:37])\n",
    "\n",
    "limited_MUNICIPALITIES = dict(list(MUNICIPALITIES.items())[37:])\n",
    "# limited_MUNICIPALITIES"
   ]
  },
  {
   "cell_type": "code",
   "execution_count": 232,
   "metadata": {},
   "outputs": [
    {
     "ename": "AttributeError",
     "evalue": "'NoneType' object has no attribute 'find_all'",
     "output_type": "error",
     "traceback": [
      "\u001b[1;31m---------------------------------------------------------------------------\u001b[0m",
      "\u001b[1;31mAttributeError\u001b[0m                            Traceback (most recent call last)",
      "\u001b[1;32m~\\AppData\\Local\\Temp/ipykernel_4984/1658548876.py\u001b[0m in \u001b[0;36m<module>\u001b[1;34m\u001b[0m\n\u001b[0;32m     30\u001b[0m \u001b[1;33m\u001b[0m\u001b[0m\n\u001b[0;32m     31\u001b[0m \u001b[1;33m\u001b[0m\u001b[0m\n\u001b[1;32m---> 32\u001b[1;33m     \u001b[1;32mfor\u001b[0m \u001b[0mrow\u001b[0m \u001b[1;32min\u001b[0m \u001b[0mright_table\u001b[0m\u001b[1;33m.\u001b[0m\u001b[0mfind_all\u001b[0m\u001b[1;33m(\u001b[0m\u001b[1;34m\"tr\"\u001b[0m\u001b[1;33m)\u001b[0m\u001b[1;33m:\u001b[0m\u001b[1;33m\u001b[0m\u001b[1;33m\u001b[0m\u001b[0m\n\u001b[0m\u001b[0;32m     33\u001b[0m         \u001b[0mcells\u001b[0m \u001b[1;33m=\u001b[0m \u001b[0mrow\u001b[0m\u001b[1;33m.\u001b[0m\u001b[0mfind_all\u001b[0m\u001b[1;33m(\u001b[0m\u001b[1;34m'td'\u001b[0m\u001b[1;33m)\u001b[0m\u001b[1;33m\u001b[0m\u001b[1;33m\u001b[0m\u001b[0m\n\u001b[0;32m     34\u001b[0m         \u001b[0mbarangay\u001b[0m \u001b[1;33m=\u001b[0m \u001b[0mrow\u001b[0m\u001b[1;33m.\u001b[0m\u001b[0mfind_all\u001b[0m\u001b[1;33m(\u001b[0m\u001b[1;34m'a'\u001b[0m\u001b[1;33m)\u001b[0m\u001b[1;33m\u001b[0m\u001b[1;33m\u001b[0m\u001b[0m\n",
      "\u001b[1;31mAttributeError\u001b[0m: 'NoneType' object has no attribute 'find_all'"
     ]
    }
   ],
   "source": [
    "# for i, (name,link) in enumerate(MUNICIPALITIES.items()):\n",
    "for i, (name,link) in enumerate(limited_MUNICIPALITIES.items()):\n",
    "\n",
    "    # Get correct name since the format is REGION NAME|MUNICIPALITY NAME\n",
    "    municipality_name = name.split('|')[1]\n",
    "\n",
    "\n",
    "    # right_table = get_specific_element(link, 'table', 'sortable datatable')\n",
    "    right_table = get_specific_element(link, 'table', '', 'lguTable')\n",
    "    municipality_summary = get_specific_element(link, 'table', 'iBox')\n",
    "\n",
    "\n",
    "\n",
    "\n",
    "    # initialize blank lists\n",
    "    Municipality = []\n",
    "    Brgy = []\n",
    "    Population_per = []\n",
    "    Population_2020 = []\n",
    "    Population_2015 = []\n",
    "    Change_2015_2020 = []\n",
    "    APGR_2015_2020 = []\n",
    "    Postal = []\n",
    "    CoastalLandLocked = []\n",
    "    Marine = []\n",
    "    Coordinates = []\n",
    "    Sea_level = []\n",
    "\n",
    "\n",
    "\n",
    "\n",
    "    for row in right_table.find_all(\"tr\"):\n",
    "        cells = row.find_all('td')\n",
    "        barangay = row.find_all('a')\n",
    "\n",
    "        if len(barangay) > 0:\n",
    "            if len(cells) > 0:\n",
    "                Municipality.append(municipality_name)\n",
    "                Brgy.append(barangay[0].find(text=True))\n",
    "                Population_per.append(cells[0].find(text=True))\n",
    "                Population_2020.append(cells[1].find(text=True))\n",
    "                Population_2015.append(cells[2].find(text=True))\n",
    "                Change_2015_2020.append(cells[3].find(text=True))\n",
    "                APGR_2015_2020.append(cells[4].find(text=True))\n",
    "\n",
    "\n",
    "                # GET BARANGAY\n",
    "                for _link in barangay:\n",
    "                    _barangay_url = base_url + _link.get('href')\n",
    "\n",
    "                    brgy_summary = get_specific_element(_barangay_url, 'table', 'iBox')\n",
    "                    brgy_rows = brgy_summary.find_all('tr')\n",
    "\n",
    "\n",
    "                    haveSeaLevel = brgy_summary.find(text=re.compile(\"Estimated\"))\n",
    "                    if not haveSeaLevel:\n",
    "                        Sea_level.append(\"NULL\")\n",
    "\n",
    "                    havePostal = brgy_summary.find(text=re.compile(\"Postal\"))\n",
    "                    if not havePostal:\n",
    "                        Postal.append(\"NULL\")\n",
    "\n",
    "                    haveCoordinates = brgy_summary.find(text=re.compile(\"Coordinates\"))\n",
    "                    if not haveCoordinates:\n",
    "                        Coordinates.append(\"NULL\")\n",
    "\n",
    "\n",
    "                    for _row in brgy_rows:\n",
    "                        _h = _row.find('th')\n",
    "\n",
    "                        _summary_title = (_h.get_text()).casefold()\n",
    "\n",
    "                        if _summary_title == 'postal code'.casefold():\n",
    "                            Postal.append(_h.next_sibling.get_text())\n",
    "\n",
    "                        if _summary_title == 'coordinates'.casefold():\n",
    "                            Coordinates.append(_h.next_sibling.get_text())\n",
    "\n",
    "                        if _summary_title.split(' ')[0] == 'Estimated'.casefold():\n",
    "                            Sea_level.append(_h.next_sibling.get_text())\n",
    "\n",
    "\n",
    "\n",
    "                for _row in municipality_summary('tr'):\n",
    "                    _h = _row.find('th')\n",
    "                    _summary_title = (_h.get_text()).lower()\n",
    "\n",
    "                    if _summary_title == 'coastal/landlocked':\n",
    "                        CoastalLandLocked.append(_h.next_sibling.get_text())\n",
    "\n",
    "                    if _summary_title == 'marine waterbodies':\n",
    "                        Marine.append(_h.next_sibling.get_text())\n",
    "\n",
    "\n",
    "    #ialalgay na yung mga data sa dataframe\n",
    "    df_output4 = pd.DataFrame()\n",
    "    df_output4['Municipality Name'] = Municipality\n",
    "    df_output4['Barangay Name'] = Brgy\n",
    "    df_output4['Population percentage (2020)'] = Population_per\n",
    "    df_output4['Population (2020)'] = Population_2020\n",
    "    df_output4['Population (2015)'] = Population_2015\n",
    "    df_output4['Change (2015‑2020)'] = Change_2015_2020\n",
    "    df_output4['Annual Population Growth Rate (2015‑2020)'] = APGR_2015_2020\n",
    "    df_output4['Postal Code'] = Postal\n",
    "    df_output4['Coastal/Landlocked'] = CoastalLandLocked\n",
    "    df_output4['Marine Waterbodies'] = Marine\n",
    "    df_output4['Coordinates'] = Coordinates\n",
    "\n",
    "    df_output4['Estimated Elevation above sea level'] = Sea_level\n",
    "\n",
    "    output4 = output4.append(df_output4)"
   ]
  },
  {
   "cell_type": "code",
   "execution_count": 205,
   "metadata": {},
   "outputs": [],
   "source": [
    "# output4\n",
    "# output4.describe()"
   ]
  },
  {
   "cell_type": "code",
   "execution_count": 206,
   "metadata": {},
   "outputs": [],
   "source": [
    "output4.to_csv(f'../Output/Output4.csv')"
   ]
  }
 ],
 "metadata": {
  "interpreter": {
   "hash": "4ca308f307689ef36e9c827b7b0032d43021e0283c5add7131d9131bd98a5198"
  },
  "kernelspec": {
   "display_name": "Python 3.8.8 64-bit ('base': conda)",
   "language": "python",
   "name": "python3"
  },
  "language_info": {
   "codemirror_mode": {
    "name": "ipython",
    "version": 3
   },
   "file_extension": ".py",
   "mimetype": "text/x-python",
   "name": "python",
   "nbconvert_exporter": "python",
   "pygments_lexer": "ipython3",
   "version": "3.9.7"
  },
  "orig_nbformat": 4
 },
 "nbformat": 4,
 "nbformat_minor": 2
}
