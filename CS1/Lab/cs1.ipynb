{
 "cells": [
  {
   "cell_type": "markdown",
   "metadata": {},
   "source": [
    "# CASE STUDY 1 - GROUP 2\n",
    "### Members\n",
    "- Bautista, Millette\n",
    "- Dano, Jomari\n",
    "- Narzoles, John Peter\n",
    "- Roranes, Raven Rain\n",
    "- Siaotong, Danica"
   ]
  },
  {
   "cell_type": "markdown",
   "metadata": {},
   "source": [
    "---"
   ]
  },
  {
   "cell_type": "markdown",
   "metadata": {},
   "source": [
    "### SETUP"
   ]
  },
  {
   "cell_type": "code",
   "execution_count": 1,
   "metadata": {},
   "outputs": [],
   "source": [
    "import requests\n",
    "import pandas as pd\n",
    "from bs4 import BeautifulSoup\n",
    "\n",
    "\n",
    "base_url = \"https://philatlas.com/\""
   ]
  },
  {
   "cell_type": "markdown",
   "metadata": {},
   "source": [
    "---"
   ]
  },
  {
   "cell_type": "markdown",
   "metadata": {},
   "source": [
    "### FUNCTIONS"
   ]
  },
  {
   "cell_type": "code",
   "execution_count": 2,
   "metadata": {},
   "outputs": [],
   "source": [
    "# url = webpage\n",
    "# element = target element\n",
    "# element_class = class of target element\n",
    "def get_specific_element(url, element, element_class):\n",
    "    page = requests.get(url)\n",
    "    if page.status_code != 200:\n",
    "        return \"Error on accessing Webpage\"\n",
    "    soup = BeautifulSoup(page.content, 'html.parser')\n",
    "    return soup.find(element, class_=element_class)"
   ]
  },
  {
   "cell_type": "markdown",
   "metadata": {},
   "source": [
    "---"
   ]
  },
  {
   "cell_type": "markdown",
   "metadata": {},
   "source": [
    "### Output 1: Island Group, Region"
   ]
  },
  {
   "cell_type": "code",
   "execution_count": 48,
   "metadata": {},
   "outputs": [],
   "source": [
    "# VARIABLES\n",
    "\n",
    "# OUTPUT 1\n",
    "island_groups = []\n",
    "regions = []\n",
    "url = f\"{base_url}island-groups.html\"\n",
    "\n",
    "# OUTPUT 2\n",
    "REGIONS = {}"
   ]
  },
  {
   "cell_type": "code",
   "execution_count": 49,
   "metadata": {},
   "outputs": [],
   "source": [
    "right_table = get_specific_element(url, 'table', 'generic-table')\n",
    "\n",
    "for row in right_table.find_all('tr'):\n",
    "    #kinuha island group kasi di sya kasama sa td\n",
    "\n",
    "    island = row.find_all('th', scope = 'row')\n",
    "    if len(island) > 0:\n",
    "    #     #finind ko yung laman ul para ilabas lahat ng mga list na nandun.\n",
    "        _region = row.find('ul').text\n",
    "        island_groups.append(island[0].find(text=True))\n",
    "        regions.append(_region+' ')\n",
    "\n",
    "\n",
    "        # SETUP FOR OUTPUT 2\n",
    "        links = row.find('ul')\n",
    "        for _url in links.find_all('a'):\n",
    "            _region_url = base_url + _url.get('href')\n",
    "            _txt = _url.get_text()\n",
    "            _region_name = _txt.split(' – ')[0].split(' ')[0]\n",
    "            REGIONS[_region_name] = _region_url"
   ]
  },
  {
   "cell_type": "code",
   "execution_count": 50,
   "metadata": {},
   "outputs": [],
   "source": [
    "df_output1 = pd.DataFrame(island_groups, columns=['Island group'])\n",
    "df_output1['Component regions'] = regions"
   ]
  },
  {
   "cell_type": "code",
   "execution_count": 6,
   "metadata": {},
   "outputs": [],
   "source": [
    "df_output1.to_csv('../Output/Output1.csv')"
   ]
  },
  {
   "cell_type": "markdown",
   "metadata": {},
   "source": [
    "---"
   ]
  },
  {
   "cell_type": "markdown",
   "metadata": {},
   "source": [
    "### Output 2: Region, Province Name, Type, Population (2015), Population (2010), Annual Population Growth Rat (2010 - 2015), Area (2007 in km2), Density (2015 per km2), City Count, Mun Count, Brgy Count"
   ]
  },
  {
   "cell_type": "markdown",
   "metadata": {},
   "source": []
  },
  {
   "cell_type": "code",
   "execution_count": 103,
   "metadata": {},
   "outputs": [],
   "source": [
    "# VARIABLES\n",
    "# REGIONS\n",
    "output2 = pd.DataFrame()\n",
    "\n",
    "# FOR OUTPUT 3\n",
    "output3 = pd.DataFrame()\n",
    "PROVINCES = {}\n",
    "\n",
    "# FOR OUTPUT 4\n",
    "MUNICIPALITIES = {}\n",
    "\n",
    "\n",
    "test2 = {}"
   ]
  },
  {
   "cell_type": "code",
   "execution_count": 104,
   "metadata": {},
   "outputs": [],
   "source": [
    "for name, link in REGIONS.items():\n",
    "    right_table = get_specific_element(link, 'table', 'sortable datatable')\n",
    "    right_table.find_all(\"tr\")\n",
    "\n",
    "    # VARIABLE INITIALIZATION\n",
    "    Region = []\n",
    "    Province = []\n",
    "    Type = []\n",
    "    Population_2020 = []\n",
    "    Population_2015 = []\n",
    "    APGR_2015_2020 = []\n",
    "    Area_2013 = []\n",
    "    Density_2020 = []\n",
    "    City_count = []\n",
    "    Mun_count = []\n",
    "    Brgy_count = []\n",
    "\n",
    "\n",
    "\n",
    "    # VARIABLE INITIALIZATION for df_output3\n",
    "    df_output3 = None\n",
    "    o3_Province = []\n",
    "    o3_Municipality = []\n",
    "    o3_Type = []\n",
    "    o3_Population_2020 = []\n",
    "    o3_Population_2015 = []\n",
    "    o3_APGR_2015_2020 = []\n",
    "    o3_Area_2013 = []\n",
    "    o3_Density_2020 = []\n",
    "    o3_Brgy_count = []\n",
    "\n",
    "\n",
    "    for row in right_table.find_all(\"tr\"):\n",
    "        cells = row.find_all('td')\n",
    "        #kunin lahat ng \"a\" para makuha yung mga region name\n",
    "        province = row.find_all('a')\n",
    "\n",
    "\n",
    "\n",
    "\n",
    "        if len(province) > 0:\n",
    "            if len(cells) > 0:\n",
    "                Region.append(name)\n",
    "                Province.append(province[0].find(text=True))\n",
    "                Type.append(cells[0].find(text=True))\n",
    "                Population_2020.append(cells[1].find(text=True))\n",
    "                Population_2015.append(cells[2].find(text=True))\n",
    "                APGR_2015_2020.append(cells[3].find(text=True))\n",
    "                Area_2013.append(cells[4].find(text=True))\n",
    "                Density_2020.append(cells[5].find(text=True))\n",
    "\n",
    "                # SETUP FOR OUTPUT 3\n",
    "                if (cells[0].find(text=True)).lower() == 'province':\n",
    "                    for link in province:\n",
    "                        _province_url = base_url + link.get('href')\n",
    "                        # print(link.text)\n",
    "                        PROVINCES[link.text] = _province_url\n",
    "                else:\n",
    "                    # SETUP FOR OUTPUT 4\n",
    "                    for link in province:\n",
    "                        _province_url = base_url + link.get('href')\n",
    "                        # print(link.text)\n",
    "                        MUNICIPALITIES[(province[0].find(text=True))+'|'+link.text] = _province_url\n",
    "\n",
    "                    o3_Province.append(name)\n",
    "                    o3_Municipality.append(province[0].find(text=True))\n",
    "                    o3_Type.append(cells[0].find(text=True))\n",
    "                    o3_Population_2020.append(cells[1].find(text=True))\n",
    "                    o3_Population_2015.append(cells[2].find(text=True))\n",
    "                    o3_APGR_2015_2020.append(cells[3].find(text=True))\n",
    "                    o3_Area_2013.append(cells[4].find(text=True))\n",
    "                    o3_Density_2020.append(cells[5].find(text=True))\n",
    "                    o3_Brgy_count.append(cells[6].find(text=True))\n",
    "\n",
    "\n",
    "                # if name != 'NCR':\n",
    "                if len(cells) > 7:\n",
    "                    City_count.append(cells[6].find(text=True))\n",
    "                    Mun_count.append(cells[7].find(text=True))\n",
    "                    Brgy_count.append(cells[8].find(text=True))\n",
    "\n",
    "\n",
    "                else:\n",
    "                    City_count.append('-')\n",
    "                    Mun_count.append('-')\n",
    "                    Brgy_count.append(cells[6].find(text=True))\n",
    "\n",
    "\n",
    "\n",
    "\n",
    "    df_output2 = pd.DataFrame()\n",
    "    df_output2['Region'] = Region\n",
    "    df_output2['Province Name'] = Province\n",
    "    df_output2['Type'] = Type\n",
    "    df_output2['Population (2020)'] = Population_2020\n",
    "    df_output2['Population (2015)'] = Population_2015\n",
    "    df_output2['Annual Population Growth Rate (2015‑2020)'] = APGR_2015_2020\n",
    "    df_output2['Area (2013), in km2'] = Area_2013\n",
    "    df_output2['Density (2020), per km2'] = Density_2020\n",
    "\n",
    "    if len(City_count) > 0:\n",
    "        df_output2['City count'] = City_count\n",
    "\n",
    "    if len(Mun_count) > 0:\n",
    "        df_output2['Mun count'] = Mun_count\n",
    "\n",
    "\n",
    "    df_output3 = pd.DataFrame()\n",
    "    df_output3['Province'] = o3_Province\n",
    "    df_output3['Municipality Name'] = o3_Municipality\n",
    "    df_output3['Type'] = o3_Type\n",
    "    df_output3['Population (2020)'] = o3_Population_2020\n",
    "    df_output3['Population (2015)'] = o3_Population_2015\n",
    "    df_output3['Annual Population Growth Rate (2015‑2020)'] = o3_APGR_2015_2020\n",
    "    df_output3['Area (2013), in km2'] = o3_Area_2013\n",
    "    df_output3['Density (2020), per km2'] = o3_Density_2020\n",
    "\n",
    "    df_output3['Brgy count'] = o3_Brgy_count\n",
    "\n",
    "    output3 = output3.append(df_output3)\n",
    "\n",
    "    \n",
    "\n",
    "    df_output2['Brgy count'] = Brgy_count\n",
    "    output2 = output2.append(df_output2)"
   ]
  },
  {
   "cell_type": "code",
   "execution_count": 105,
   "metadata": {},
   "outputs": [
    {
     "data": {
      "text/html": [
       "<div>\n",
       "<style scoped>\n",
       "    .dataframe tbody tr th:only-of-type {\n",
       "        vertical-align: middle;\n",
       "    }\n",
       "\n",
       "    .dataframe tbody tr th {\n",
       "        vertical-align: top;\n",
       "    }\n",
       "\n",
       "    .dataframe thead th {\n",
       "        text-align: right;\n",
       "    }\n",
       "</style>\n",
       "<table border=\"1\" class=\"dataframe\">\n",
       "  <thead>\n",
       "    <tr style=\"text-align: right;\">\n",
       "      <th></th>\n",
       "      <th>Province</th>\n",
       "      <th>Municipality Name</th>\n",
       "      <th>Type</th>\n",
       "      <th>Population (2020)</th>\n",
       "      <th>Population (2015)</th>\n",
       "      <th>Annual Population Growth Rate (2015‑2020)</th>\n",
       "      <th>Area (2013), in km2</th>\n",
       "      <th>Density (2020), per km2</th>\n",
       "      <th>Brgy count</th>\n",
       "    </tr>\n",
       "  </thead>\n",
       "  <tbody>\n",
       "    <tr>\n",
       "      <th>count</th>\n",
       "      <td>36</td>\n",
       "      <td>36</td>\n",
       "      <td>36</td>\n",
       "      <td>36</td>\n",
       "      <td>36</td>\n",
       "      <td>36</td>\n",
       "      <td>36</td>\n",
       "      <td>36</td>\n",
       "      <td>36</td>\n",
       "    </tr>\n",
       "    <tr>\n",
       "      <th>unique</th>\n",
       "      <td>13</td>\n",
       "      <td>36</td>\n",
       "      <td>2</td>\n",
       "      <td>36</td>\n",
       "      <td>36</td>\n",
       "      <td>35</td>\n",
       "      <td>36</td>\n",
       "      <td>36</td>\n",
       "      <td>15</td>\n",
       "    </tr>\n",
       "    <tr>\n",
       "      <th>top</th>\n",
       "      <td>NCR</td>\n",
       "      <td>Angeles</td>\n",
       "      <td>city (</td>\n",
       "      <td>462,928</td>\n",
       "      <td>411,634</td>\n",
       "      <td>0.45%</td>\n",
       "      <td>63.37</td>\n",
       "      <td>7,305</td>\n",
       "      <td>–</td>\n",
       "    </tr>\n",
       "    <tr>\n",
       "      <th>freq</th>\n",
       "      <td>17</td>\n",
       "      <td>1</td>\n",
       "      <td>35</td>\n",
       "      <td>1</td>\n",
       "      <td>1</td>\n",
       "      <td>2</td>\n",
       "      <td>1</td>\n",
       "      <td>1</td>\n",
       "      <td>19</td>\n",
       "    </tr>\n",
       "  </tbody>\n",
       "</table>\n",
       "</div>"
      ],
      "text/plain": [
       "       Province Municipality Name    Type Population (2020) Population (2015)  \\\n",
       "count        36                36      36                36                36   \n",
       "unique       13                36       2                36                36   \n",
       "top         NCR           Angeles  city (           462,928           411,634   \n",
       "freq         17                 1      35                 1                 1   \n",
       "\n",
       "       Annual Population Growth Rate (2015‑2020) Area (2013), in km2  \\\n",
       "count                                         36                  36   \n",
       "unique                                        35                  36   \n",
       "top                                        0.45%               63.37   \n",
       "freq                                           2                   1   \n",
       "\n",
       "       Density (2020), per km2 Brgy count  \n",
       "count                       36         36  \n",
       "unique                      36         15  \n",
       "top                      7,305          –  \n",
       "freq                         1         19  "
      ]
     },
     "execution_count": 105,
     "metadata": {},
     "output_type": "execute_result"
    }
   ],
   "source": [
    "# PROVINCES\n",
    "# len(PROVINCES)\n",
    "# len(MUNICIPALITIES)\n",
    "# MUNICIPALITIES\n",
    "# pd.DataFrame.from_dict(enumerate(MUNICIPALITIES))"
   ]
  },
  {
   "cell_type": "code",
   "execution_count": 106,
   "metadata": {},
   "outputs": [],
   "source": [
    "# print(output2)\n",
    "output2.to_csv(f'../Output/Output2.csv')"
   ]
  },
  {
   "cell_type": "code",
   "execution_count": 56,
   "metadata": {},
   "outputs": [],
   "source": [
    "# output2.describe()"
   ]
  },
  {
   "cell_type": "markdown",
   "metadata": {},
   "source": [
    "---"
   ]
  },
  {
   "cell_type": "markdown",
   "metadata": {},
   "source": [
    "### Output 3: Province, Municipality name, Type, Population (2015), Population (2010), Annual Population Growth Rate (2010 - 2015), Area (2007 in km2), Density (2015 per km2), Brgy Count"
   ]
  },
  {
   "cell_type": "code",
   "execution_count": 69,
   "metadata": {},
   "outputs": [],
   "source": [
    "# VARIABLES\n"
   ]
  },
  {
   "cell_type": "code",
   "execution_count": 107,
   "metadata": {},
   "outputs": [],
   "source": [
    "for i, (name,link) in enumerate(PROVINCES.items()):\n",
    "\n",
    "    right_table = get_specific_element(link, 'table', 'sortable datatable')\n",
    "    right_table.find_all(\"tr\")\n",
    "\n",
    "    # VARIABLE INITIALIZATION\n",
    "    df_output3 = None\n",
    "    Province = []\n",
    "    Municipality = []\n",
    "    Type = []\n",
    "    Population_2020 = []\n",
    "    Population_2015 = []\n",
    "    APGR_2015_2020 = []\n",
    "    Area_2013 = []\n",
    "    Density_2020 = []\n",
    "    Brgy_count = []\n",
    "\n",
    "    # CITY / Municipality\n",
    "    Population_percentage_2020 = []\n",
    "    Change_2015_2020 = []\n",
    "\n",
    "    for row in right_table.find_all(\"tr\"):\n",
    "        cells = row.find_all('td')\n",
    "        municipality = row.find_all('a')\n",
    "\n",
    "\n",
    "        if len(municipality) > 0:\n",
    "\n",
    "            # SETUP FOR OUTPUT 4\n",
    "            for _link in municipality:\n",
    "                _municipality_url = base_url + _link.get('href')\n",
    "                MUNICIPALITIES[name+'|'+_link.text] = _municipality_url\n",
    "\n",
    "            if len(cells) > 0:\n",
    "\n",
    "                # PROVINCE\n",
    "                Province.append(name)\n",
    "                Municipality.append(municipality[0].find(text=True))\n",
    "                Type.append(cells[0].find(text=True))\n",
    "                Population_2020.append(cells[1].find(text=True))\n",
    "                Population_2015.append(cells[2].find(text=True))\n",
    "                APGR_2015_2020.append(cells[3].find(text=True))\n",
    "                Area_2013.append(cells[4].find(text=True))\n",
    "                Density_2020.append(cells[5].find(text=True))\n",
    "                Brgy_count.append(cells[6].find(text=True))\n",
    "\n",
    "\n",
    "\n",
    "    df_output3 = pd.DataFrame()\n",
    "    df_output3['Province'] = Province\n",
    "    df_output3['Municipality Name'] = Municipality\n",
    "    df_output3['Type'] = Type\n",
    "    df_output3['Population (2020)'] = Population_2020\n",
    "    df_output3['Population (2015)'] = Population_2015\n",
    "    df_output3['Annual Population Growth Rate (2015‑2020)'] = APGR_2015_2020\n",
    "    df_output3['Area (2013), in km2'] = Area_2013\n",
    "    df_output3['Density (2020), per km2'] = Density_2020\n",
    "\n",
    "    df_output3['Brgy count'] = Brgy_count\n",
    "\n",
    "    output3 = output3.append(df_output3)"
   ]
  },
  {
   "cell_type": "code",
   "execution_count": 108,
   "metadata": {},
   "outputs": [
    {
     "data": {
      "text/plain": [
       "1521"
      ]
     },
     "execution_count": 108,
     "metadata": {},
     "output_type": "execute_result"
    }
   ],
   "source": [
    "# MUNICIPALITIES\n",
    "# len(MUNICIPALITIES)\n",
    "# pd.DataFrame.from_dict(enumerate(MUNICIPALITIES))"
   ]
  },
  {
   "cell_type": "code",
   "execution_count": 109,
   "metadata": {},
   "outputs": [
    {
     "data": {
      "text/html": [
       "<div>\n",
       "<style scoped>\n",
       "    .dataframe tbody tr th:only-of-type {\n",
       "        vertical-align: middle;\n",
       "    }\n",
       "\n",
       "    .dataframe tbody tr th {\n",
       "        vertical-align: top;\n",
       "    }\n",
       "\n",
       "    .dataframe thead th {\n",
       "        text-align: right;\n",
       "    }\n",
       "</style>\n",
       "<table border=\"1\" class=\"dataframe\">\n",
       "  <thead>\n",
       "    <tr style=\"text-align: right;\">\n",
       "      <th></th>\n",
       "      <th>Province</th>\n",
       "      <th>Municipality Name</th>\n",
       "      <th>Type</th>\n",
       "      <th>Population (2020)</th>\n",
       "      <th>Population (2015)</th>\n",
       "      <th>Annual Population Growth Rate (2015‑2020)</th>\n",
       "      <th>Area (2013), in km2</th>\n",
       "      <th>Density (2020), per km2</th>\n",
       "      <th>Brgy count</th>\n",
       "    </tr>\n",
       "  </thead>\n",
       "  <tbody>\n",
       "    <tr>\n",
       "      <th>count</th>\n",
       "      <td>1521</td>\n",
       "      <td>1521</td>\n",
       "      <td>1521</td>\n",
       "      <td>1521</td>\n",
       "      <td>1521</td>\n",
       "      <td>1521</td>\n",
       "      <td>1521</td>\n",
       "      <td>1521</td>\n",
       "      <td>1521</td>\n",
       "    </tr>\n",
       "    <tr>\n",
       "      <th>unique</th>\n",
       "      <td>88</td>\n",
       "      <td>1309</td>\n",
       "      <td>4</td>\n",
       "      <td>1508</td>\n",
       "      <td>1511</td>\n",
       "      <td>492</td>\n",
       "      <td>1481</td>\n",
       "      <td>754</td>\n",
       "      <td>97</td>\n",
       "    </tr>\n",
       "    <tr>\n",
       "      <th>top</th>\n",
       "      <td>Cebu</td>\n",
       "      <td>San Isidro</td>\n",
       "      <td>municipality</td>\n",
       "      <td>36,911</td>\n",
       "      <td>8,573</td>\n",
       "      <td>1.01%</td>\n",
       "      <td>57.46</td>\n",
       "      <td>62</td>\n",
       "      <td>14</td>\n",
       "    </tr>\n",
       "    <tr>\n",
       "      <th>freq</th>\n",
       "      <td>50</td>\n",
       "      <td>9</td>\n",
       "      <td>1347</td>\n",
       "      <td>2</td>\n",
       "      <td>2</td>\n",
       "      <td>14</td>\n",
       "      <td>3</td>\n",
       "      <td>10</td>\n",
       "      <td>78</td>\n",
       "    </tr>\n",
       "  </tbody>\n",
       "</table>\n",
       "</div>"
      ],
      "text/plain": [
       "       Province Municipality Name          Type Population (2020)  \\\n",
       "count      1521              1521          1521              1521   \n",
       "unique       88              1309             4              1508   \n",
       "top        Cebu        San Isidro  municipality            36,911   \n",
       "freq         50                 9          1347                 2   \n",
       "\n",
       "       Population (2015) Annual Population Growth Rate (2015‑2020)  \\\n",
       "count               1521                                      1521   \n",
       "unique              1511                                       492   \n",
       "top                8,573                                     1.01%   \n",
       "freq                   2                                        14   \n",
       "\n",
       "       Area (2013), in km2 Density (2020), per km2 Brgy count  \n",
       "count                 1521                    1521       1521  \n",
       "unique                1481                     754         97  \n",
       "top                  57.46                      62         14  \n",
       "freq                     3                      10         78  "
      ]
     },
     "execution_count": 109,
     "metadata": {},
     "output_type": "execute_result"
    }
   ],
   "source": [
    "\n",
    "# output3.describe()\n",
    "# output3.nunique()"
   ]
  },
  {
   "cell_type": "code",
   "execution_count": 131,
   "metadata": {},
   "outputs": [],
   "source": [
    "\n",
    "    # PROVINCES\n",
    "    # REGIONS\n",
    "\n",
    "    # print(output3)\n",
    "    output3.to_csv(f'../Output/Output3.csv')\n",
    "    # output3.describe()\n",
    "\n",
    "\n",
    "    # for index,(name,link) in enumerate(PROVINCES.items()):\n",
    "    #     print(PROVINCES_TYPE[index])\n",
    "    #     print(name)"
   ]
  },
  {
   "cell_type": "markdown",
   "metadata": {},
   "source": [
    "---"
   ]
  },
  {
   "cell_type": "markdown",
   "metadata": {},
   "source": [
    "### Output 4: Municipality Name, Barangay Name, Population Percentage (2015), Population (2015), Population (2010), Change (2010 - 2015), Annual Population Growth Rate (2010 - 2015), Postal Code, Coastal/Landlocked, Marine Waterbodies, Coordinates, Estimated Elevation above sea level"
   ]
  }
 ],
 "metadata": {
  "interpreter": {
   "hash": "4ca308f307689ef36e9c827b7b0032d43021e0283c5add7131d9131bd98a5198"
  },
  "kernelspec": {
   "display_name": "Python 3.8.8 64-bit ('base': conda)",
   "language": "python",
   "name": "python3"
  },
  "language_info": {
   "codemirror_mode": {
    "name": "ipython",
    "version": 3
   },
   "file_extension": ".py",
   "mimetype": "text/x-python",
   "name": "python",
   "nbconvert_exporter": "python",
   "pygments_lexer": "ipython3",
   "version": "3.9.7"
  },
  "orig_nbformat": 4
 },
 "nbformat": 4,
 "nbformat_minor": 2
}
