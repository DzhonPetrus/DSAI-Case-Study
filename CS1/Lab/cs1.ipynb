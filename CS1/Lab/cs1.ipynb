{
 "cells": [
  {
   "cell_type": "markdown",
   "metadata": {},
   "source": [
    "# CASE STUDY 1 - GROUP 2\n",
    "### Members\n",
    "- Bautista, Millette\n",
    "- Dano, Jomari\n",
    "- Narzoles, John Peter\n",
    "- Roranes, Raven Rain\n",
    "- Siaotong, Danica"
   ]
  },
  {
   "cell_type": "markdown",
   "metadata": {},
   "source": [
    "---"
   ]
  },
  {
   "cell_type": "markdown",
   "metadata": {},
   "source": [
    "### SETUP"
   ]
  },
  {
   "cell_type": "code",
   "execution_count": 75,
   "metadata": {},
   "outputs": [],
   "source": [
    "import requests\n",
    "from requests.adapters import HTTPAdapter\n",
    "from requests.packages.urllib3.util.retry import Retry\n",
    "import pandas as pd\n",
    "from bs4 import BeautifulSoup\n",
    "import re\n",
    "\n",
    "\n",
    "base_url = \"https://philatlas.com/\""
   ]
  },
  {
   "cell_type": "markdown",
   "metadata": {},
   "source": [
    "---"
   ]
  },
  {
   "cell_type": "markdown",
   "metadata": {},
   "source": [
    "### FUNCTIONS"
   ]
  },
  {
   "cell_type": "code",
   "execution_count": 28,
   "metadata": {},
   "outputs": [],
   "source": [
    "def requests_retry_session(\n",
    "    retries=5,\n",
    "    backoff_factor=0.3,\n",
    "    status_forcelist=(500, 502, 504),\n",
    "    session=None,\n",
    "):\n",
    "    session = session or requests.Session()\n",
    "    retry = Retry(\n",
    "        total=retries,\n",
    "        read=retries,\n",
    "        connect=retries,\n",
    "        backoff_factor=backoff_factor,\n",
    "        status_forcelist=status_forcelist,\n",
    "    )\n",
    "    adapter = HTTPAdapter(max_retries=retry)\n",
    "    session.mount('http://', adapter)\n",
    "    session.mount('https://', adapter)\n",
    "    return session\n",
    "\n",
    "\n",
    "# url = webpage\n",
    "# element = target element\n",
    "# element_class = class of target element\n",
    "def get_specific_element(url, element, element_class):\n",
    "    # page = requests.get(url)\n",
    "    page = requests_retry_session().get(url)\n",
    "    if page.status_code != 200:\n",
    "        return \"Error on accessing Webpage\"\n",
    "    soup = BeautifulSoup(page.content, 'html.parser')\n",
    "    return soup.find(element, class_=element_class)"
   ]
  },
  {
   "cell_type": "markdown",
   "metadata": {},
   "source": [
    "---"
   ]
  },
  {
   "cell_type": "markdown",
   "metadata": {},
   "source": [
    "### Output 1: Island Group, Region"
   ]
  },
  {
   "cell_type": "code",
   "execution_count": 29,
   "metadata": {},
   "outputs": [],
   "source": [
    "# VARIABLES\n",
    "\n",
    "# OUTPUT 1\n",
    "island_groups = []\n",
    "regions = []\n",
    "url = f\"{base_url}island-groups.html\"\n",
    "\n",
    "# OUTPUT 2\n",
    "REGIONS = {}"
   ]
  },
  {
   "cell_type": "code",
   "execution_count": 30,
   "metadata": {},
   "outputs": [],
   "source": [
    "right_table = get_specific_element(url, 'table', 'generic-table')\n",
    "\n",
    "for row in right_table.find_all('tr'):\n",
    "    #kinuha island group kasi di sya kasama sa td\n",
    "\n",
    "    island = row.find_all('th', scope = 'row')\n",
    "    if len(island) > 0:\n",
    "    #     #finind ko yung laman ul para ilabas lahat ng mga list na nandun.\n",
    "        _region = row.find('ul').text\n",
    "        island_groups.append(island[0].find(text=True))\n",
    "        regions.append(_region+' ')\n",
    "\n",
    "\n",
    "        # SETUP FOR OUTPUT 2\n",
    "        links = row.find('ul')\n",
    "        for _url in links.find_all('a'):\n",
    "            _region_url = base_url + _url.get('href')\n",
    "            _txt = _url.get_text()\n",
    "            _region_name = _txt.split(' – ')[0].split(' ')[0]\n",
    "            REGIONS[_region_name] = _region_url"
   ]
  },
  {
   "cell_type": "code",
   "execution_count": 31,
   "metadata": {},
   "outputs": [],
   "source": [
    "df_output1 = pd.DataFrame(island_groups, columns=['Island group'])\n",
    "df_output1['Component regions'] = regions"
   ]
  },
  {
   "cell_type": "code",
   "execution_count": 32,
   "metadata": {},
   "outputs": [],
   "source": [
    "df_output1.to_csv('../Output/Output1.csv')"
   ]
  },
  {
   "cell_type": "markdown",
   "metadata": {},
   "source": [
    "---"
   ]
  },
  {
   "cell_type": "markdown",
   "metadata": {},
   "source": [
    "### Output 2: Region, Province Name, Type, Population (2015), Population (2010), Annual Population Growth Rat (2010 - 2015), Area (2007 in km2), Density (2015 per km2), City Count, Mun Count, Brgy Count"
   ]
  },
  {
   "cell_type": "code",
   "execution_count": 33,
   "metadata": {},
   "outputs": [],
   "source": [
    "# VARIABLES\n",
    "# REGIONS\n",
    "output2 = pd.DataFrame()\n",
    "\n",
    "# FOR OUTPUT 3\n",
    "output3 = pd.DataFrame()\n",
    "PROVINCES = {}\n",
    "\n",
    "# FOR OUTPUT 4\n",
    "MUNICIPALITIES = {}\n",
    "\n"
   ]
  },
  {
   "cell_type": "code",
   "execution_count": 34,
   "metadata": {},
   "outputs": [],
   "source": [
    "for name, link in REGIONS.items():\n",
    "    right_table = get_specific_element(link, 'table', 'sortable datatable')\n",
    "\n",
    "    # VARIABLE INITIALIZATION\n",
    "    Region = []\n",
    "    Province = []\n",
    "    Type = []\n",
    "    Population_2020 = []\n",
    "    Population_2015 = []\n",
    "    APGR_2015_2020 = []\n",
    "    Area_2013 = []\n",
    "    Density_2020 = []\n",
    "    City_count = []\n",
    "    Mun_count = []\n",
    "    Brgy_count = []\n",
    "\n",
    "\n",
    "\n",
    "    # VARIABLE INITIALIZATION for df_output3\n",
    "    df_output3 = None\n",
    "    o3_Province = []\n",
    "    o3_Municipality = []\n",
    "    o3_Type = []\n",
    "    o3_Population_2020 = []\n",
    "    o3_Population_2015 = []\n",
    "    o3_APGR_2015_2020 = []\n",
    "    o3_Area_2013 = []\n",
    "    o3_Density_2020 = []\n",
    "    o3_Brgy_count = []\n",
    "\n",
    "\n",
    "    for row in right_table.find_all(\"tr\"):\n",
    "        cells = row.find_all('td')\n",
    "        #kunin lahat ng \"a\" para makuha yung mga region name\n",
    "        province = row.find_all('a')\n",
    "\n",
    "\n",
    "\n",
    "\n",
    "        if len(province) > 0:\n",
    "            if len(cells) > 0:\n",
    "                Region.append(name)\n",
    "                Province.append(province[0].get_text())\n",
    "                Type.append(cells[0].get_text())\n",
    "                Population_2020.append(cells[1].get_text())\n",
    "                Population_2015.append(cells[2].get_text())\n",
    "                APGR_2015_2020.append(cells[3].get_text())\n",
    "                Area_2013.append(cells[4].get_text())\n",
    "                Density_2020.append(cells[5].get_text())\n",
    "\n",
    "                # SETUP FOR OUTPUT 3\n",
    "                if (cells[0].get_text()).lower() == 'province':\n",
    "                    for link in province:\n",
    "                        _province_url = base_url + link.get('href')\n",
    "                        # print(link.text)\n",
    "                        PROVINCES[link.text] = _province_url\n",
    "                else:\n",
    "                    # SETUP FOR OUTPUT 4\n",
    "                    for link in province:\n",
    "                        _province_url = base_url + link.get('href')\n",
    "                        # print(link.text)\n",
    "                        MUNICIPALITIES[(province[0].get_text())+'|'+link.text] = _province_url\n",
    "\n",
    "                    o3_Province.append(name)\n",
    "                    o3_Municipality.append(province[0].get_text())\n",
    "                    o3_Type.append(cells[0].get_text())\n",
    "                    o3_Population_2020.append(cells[1].get_text())\n",
    "                    o3_Population_2015.append(cells[2].get_text())\n",
    "                    o3_APGR_2015_2020.append(cells[3].get_text())\n",
    "                    o3_Area_2013.append(cells[4].get_text())\n",
    "                    o3_Density_2020.append(cells[5].get_text())\n",
    "                    o3_Brgy_count.append(cells[6].get_text())\n",
    "\n",
    "\n",
    "                # if name != 'NCR':\n",
    "                if len(cells) > 7:\n",
    "                    City_count.append(cells[6].get_text())\n",
    "                    Mun_count.append(cells[7].get_text())\n",
    "                    Brgy_count.append(cells[8].get_text())\n",
    "\n",
    "\n",
    "                else:\n",
    "                    City_count.append('-')\n",
    "                    Mun_count.append('-')\n",
    "                    Brgy_count.append(cells[6].get_text())\n",
    "\n",
    "\n",
    "\n",
    "\n",
    "    df_output2 = pd.DataFrame()\n",
    "    df_output2['Region'] = Region\n",
    "    df_output2['Province Name'] = Province\n",
    "    df_output2['Type'] = Type\n",
    "    df_output2['Population (2020)'] = Population_2020\n",
    "    df_output2['Population (2015)'] = Population_2015\n",
    "    df_output2['Annual Population Growth Rate (2015‑2020)'] = APGR_2015_2020\n",
    "    df_output2['Area (2013), in km2'] = Area_2013\n",
    "    df_output2['Density (2020), per km2'] = Density_2020\n",
    "\n",
    "    if len(City_count) > 0:\n",
    "        df_output2['City count'] = City_count\n",
    "\n",
    "    if len(Mun_count) > 0:\n",
    "        df_output2['Mun count'] = Mun_count\n",
    "\n",
    "\n",
    "    df_output3 = pd.DataFrame()\n",
    "    df_output3['Province'] = o3_Province\n",
    "    df_output3['Municipality Name'] = o3_Municipality\n",
    "    df_output3['Type'] = o3_Type\n",
    "    df_output3['Population (2020)'] = o3_Population_2020\n",
    "    df_output3['Population (2015)'] = o3_Population_2015\n",
    "    df_output3['Annual Population Growth Rate (2015‑2020)'] = o3_APGR_2015_2020\n",
    "    df_output3['Area (2013), in km2'] = o3_Area_2013\n",
    "    df_output3['Density (2020), per km2'] = o3_Density_2020\n",
    "\n",
    "    df_output3['Brgy count'] = o3_Brgy_count\n",
    "\n",
    "    output3 = output3.append(df_output3)\n",
    "\n",
    "    \n",
    "\n",
    "    df_output2['Brgy count'] = Brgy_count\n",
    "    output2 = output2.append(df_output2)"
   ]
  },
  {
   "cell_type": "code",
   "execution_count": 35,
   "metadata": {},
   "outputs": [],
   "source": [
    "# PROVINCES\n",
    "# len(PROVINCES)\n",
    "# len(MUNICIPALITIES)\n",
    "# MUNICIPALITIES\n",
    "# pd.DataFrame.from_dict(enumerate(MUNICIPALITIES))"
   ]
  },
  {
   "cell_type": "code",
   "execution_count": 36,
   "metadata": {},
   "outputs": [],
   "source": [
    "# print(output2)\n",
    "output2.to_csv(f'../Output/Output2.csv')"
   ]
  },
  {
   "cell_type": "code",
   "execution_count": 37,
   "metadata": {},
   "outputs": [],
   "source": [
    "# output2.describe()"
   ]
  },
  {
   "cell_type": "markdown",
   "metadata": {},
   "source": [
    "---"
   ]
  },
  {
   "cell_type": "markdown",
   "metadata": {},
   "source": [
    "### Output 3: Province, Municipality name, Type, Population (2015), Population (2010), Annual Population Growth Rate (2010 - 2015), Area (2007 in km2), Density (2015 per km2), Brgy Count"
   ]
  },
  {
   "cell_type": "code",
   "execution_count": 38,
   "metadata": {},
   "outputs": [],
   "source": [
    "# VARIABLES\n"
   ]
  },
  {
   "cell_type": "code",
   "execution_count": 39,
   "metadata": {},
   "outputs": [],
   "source": [
    "for i, (name,link) in enumerate(PROVINCES.items()):\n",
    "\n",
    "    right_table = get_specific_element(link, 'table', 'sortable datatable')\n",
    "\n",
    "    # VARIABLE INITIALIZATION\n",
    "    df_output3 = None\n",
    "    Province = []\n",
    "    Municipality = []\n",
    "    Type = []\n",
    "    Population_2020 = []\n",
    "    Population_2015 = []\n",
    "    APGR_2015_2020 = []\n",
    "    Area_2013 = []\n",
    "    Density_2020 = []\n",
    "    Brgy_count = []\n",
    "\n",
    "    # CITY / Municipality\n",
    "    Population_percentage_2020 = []\n",
    "    Change_2015_2020 = []\n",
    "\n",
    "    for row in right_table.find_all(\"tr\"):\n",
    "        cells = row.find_all('td')\n",
    "        municipality = row.find_all('a')\n",
    "\n",
    "\n",
    "        if len(municipality) > 0:\n",
    "\n",
    "            # SETUP FOR OUTPUT 4\n",
    "            for _link in municipality:\n",
    "                _municipality_url = base_url + _link.get('href')\n",
    "                MUNICIPALITIES[name+'|'+_link.text] = _municipality_url\n",
    "\n",
    "            if len(cells) > 0:\n",
    "\n",
    "                # PROVINCE\n",
    "                Province.append(name)\n",
    "                Municipality.append(municipality[0].get_text())\n",
    "                Type.append(cells[0].get_text())\n",
    "                Population_2020.append(cells[1].get_text())\n",
    "                Population_2015.append(cells[2].get_text())\n",
    "                APGR_2015_2020.append(cells[3].get_text())\n",
    "                Area_2013.append(cells[4].get_text())\n",
    "                Density_2020.append(cells[5].get_text())\n",
    "                Brgy_count.append(cells[6].get_text())\n",
    "\n",
    "\n",
    "\n",
    "    df_output3 = pd.DataFrame()\n",
    "    df_output3['Province'] = Province\n",
    "    df_output3['Municipality Name'] = Municipality\n",
    "    df_output3['Type'] = Type\n",
    "    df_output3['Population (2020)'] = Population_2020\n",
    "    df_output3['Population (2015)'] = Population_2015\n",
    "    df_output3['Annual Population Growth Rate (2015‑2020)'] = APGR_2015_2020\n",
    "    df_output3['Area (2013), in km2'] = Area_2013\n",
    "    df_output3['Density (2020), per km2'] = Density_2020\n",
    "\n",
    "    df_output3['Brgy count'] = Brgy_count\n",
    "\n",
    "    output3 = output3.append(df_output3)"
   ]
  },
  {
   "cell_type": "code",
   "execution_count": 40,
   "metadata": {},
   "outputs": [],
   "source": [
    "# MUNICIPALITIES\n",
    "# len(MUNICIPALITIES)\n",
    "# pd.DataFrame.from_dict(enumerate(MUNICIPALITIES))"
   ]
  },
  {
   "cell_type": "code",
   "execution_count": 41,
   "metadata": {},
   "outputs": [],
   "source": [
    "\n",
    "# output3.describe()\n",
    "# output3.nunique()"
   ]
  },
  {
   "cell_type": "code",
   "execution_count": 42,
   "metadata": {},
   "outputs": [],
   "source": [
    "\n",
    "    # PROVINCES\n",
    "    # REGIONS\n",
    "\n",
    "    # print(output3)\n",
    "    output3.to_csv(f'../Output/Output3.csv')\n",
    "    # output3.describe()\n",
    "\n",
    "\n",
    "    # for index,(name,link) in enumerate(PROVINCES.items()):\n",
    "    #     print(PROVINCES_TYPE[index])\n",
    "    #     print(name)"
   ]
  },
  {
   "cell_type": "markdown",
   "metadata": {},
   "source": [
    "---"
   ]
  },
  {
   "cell_type": "markdown",
   "metadata": {},
   "source": [
    "### Output 4: Municipality Name, Barangay Name, Population Percentage (2015), Population (2015), Population (2010), Change (2010 - 2015), Annual Population Growth Rate (2010 - 2015), Postal Code, Coastal/Landlocked, Marine Waterbodies, Coordinates, Estimated Elevation above sea level"
   ]
  },
  {
   "cell_type": "code",
   "execution_count": 88,
   "metadata": {},
   "outputs": [],
   "source": [
    "# output4 = pd.DataFrame()\n",
    "\n",
    "# len(MUNICIPALITIES)\n",
    "# MUNICIPALITIES\n",
    "\n",
    "# N = 9\n",
    "# limited_MUNICIPALITIES = dict(list(MUNICIPALITIES.items())[5: N])\n",
    "limited_MUNICIPALITIES = dict(list(MUNICIPALITIES.items())[9:])\n",
    "# limited_MUNICIPALITIES"
   ]
  },
  {
   "cell_type": "code",
   "execution_count": 94,
   "metadata": {},
   "outputs": [
    {
     "ename": "KeyboardInterrupt",
     "evalue": "",
     "output_type": "error",
     "traceback": [
      "\u001b[1;31m---------------------------------------------------------------------------\u001b[0m",
      "\u001b[1;31mKeyboardInterrupt\u001b[0m                         Traceback (most recent call last)",
      "\u001b[1;32m~\\AppData\\Local\\Temp/ipykernel_4984/773183843.py\u001b[0m in \u001b[0;36m<module>\u001b[1;34m\u001b[0m\n\u001b[0;32m     46\u001b[0m                     \u001b[0m_barangay_url\u001b[0m \u001b[1;33m=\u001b[0m \u001b[0mbase_url\u001b[0m \u001b[1;33m+\u001b[0m \u001b[0m_link\u001b[0m\u001b[1;33m.\u001b[0m\u001b[0mget\u001b[0m\u001b[1;33m(\u001b[0m\u001b[1;34m'href'\u001b[0m\u001b[1;33m)\u001b[0m\u001b[1;33m\u001b[0m\u001b[1;33m\u001b[0m\u001b[0m\n\u001b[0;32m     47\u001b[0m \u001b[1;33m\u001b[0m\u001b[0m\n\u001b[1;32m---> 48\u001b[1;33m                     \u001b[0mbrgy_summary\u001b[0m \u001b[1;33m=\u001b[0m \u001b[0mget_specific_element\u001b[0m\u001b[1;33m(\u001b[0m\u001b[0m_barangay_url\u001b[0m\u001b[1;33m,\u001b[0m \u001b[1;34m'table'\u001b[0m\u001b[1;33m,\u001b[0m \u001b[1;34m'iBox'\u001b[0m\u001b[1;33m)\u001b[0m\u001b[1;33m\u001b[0m\u001b[1;33m\u001b[0m\u001b[0m\n\u001b[0m\u001b[0;32m     49\u001b[0m                     \u001b[0mbrgy_rows\u001b[0m \u001b[1;33m=\u001b[0m \u001b[0mbrgy_summary\u001b[0m\u001b[1;33m.\u001b[0m\u001b[0mfind_all\u001b[0m\u001b[1;33m(\u001b[0m\u001b[1;34m'tr'\u001b[0m\u001b[1;33m)\u001b[0m\u001b[1;33m\u001b[0m\u001b[1;33m\u001b[0m\u001b[0m\n\u001b[0;32m     50\u001b[0m \u001b[1;33m\u001b[0m\u001b[0m\n",
      "\u001b[1;32m~\\AppData\\Local\\Temp/ipykernel_4984/4279000594.py\u001b[0m in \u001b[0;36mget_specific_element\u001b[1;34m(url, element, element_class)\u001b[0m\n\u001b[0;32m     24\u001b[0m \u001b[1;32mdef\u001b[0m \u001b[0mget_specific_element\u001b[0m\u001b[1;33m(\u001b[0m\u001b[0murl\u001b[0m\u001b[1;33m,\u001b[0m \u001b[0melement\u001b[0m\u001b[1;33m,\u001b[0m \u001b[0melement_class\u001b[0m\u001b[1;33m)\u001b[0m\u001b[1;33m:\u001b[0m\u001b[1;33m\u001b[0m\u001b[1;33m\u001b[0m\u001b[0m\n\u001b[0;32m     25\u001b[0m     \u001b[1;31m# page = requests.get(url)\u001b[0m\u001b[1;33m\u001b[0m\u001b[1;33m\u001b[0m\u001b[0m\n\u001b[1;32m---> 26\u001b[1;33m     \u001b[0mpage\u001b[0m \u001b[1;33m=\u001b[0m \u001b[0mrequests_retry_session\u001b[0m\u001b[1;33m(\u001b[0m\u001b[1;33m)\u001b[0m\u001b[1;33m.\u001b[0m\u001b[0mget\u001b[0m\u001b[1;33m(\u001b[0m\u001b[0murl\u001b[0m\u001b[1;33m)\u001b[0m\u001b[1;33m\u001b[0m\u001b[1;33m\u001b[0m\u001b[0m\n\u001b[0m\u001b[0;32m     27\u001b[0m     \u001b[1;32mif\u001b[0m \u001b[0mpage\u001b[0m\u001b[1;33m.\u001b[0m\u001b[0mstatus_code\u001b[0m \u001b[1;33m!=\u001b[0m \u001b[1;36m200\u001b[0m\u001b[1;33m:\u001b[0m\u001b[1;33m\u001b[0m\u001b[1;33m\u001b[0m\u001b[0m\n\u001b[0;32m     28\u001b[0m         \u001b[1;32mreturn\u001b[0m \u001b[1;34m\"Error on accessing Webpage\"\u001b[0m\u001b[1;33m\u001b[0m\u001b[1;33m\u001b[0m\u001b[0m\n",
      "\u001b[1;32m~\\anaconda3\\lib\\site-packages\\requests\\sessions.py\u001b[0m in \u001b[0;36mget\u001b[1;34m(self, url, **kwargs)\u001b[0m\n\u001b[0;32m    553\u001b[0m \u001b[1;33m\u001b[0m\u001b[0m\n\u001b[0;32m    554\u001b[0m         \u001b[0mkwargs\u001b[0m\u001b[1;33m.\u001b[0m\u001b[0msetdefault\u001b[0m\u001b[1;33m(\u001b[0m\u001b[1;34m'allow_redirects'\u001b[0m\u001b[1;33m,\u001b[0m \u001b[1;32mTrue\u001b[0m\u001b[1;33m)\u001b[0m\u001b[1;33m\u001b[0m\u001b[1;33m\u001b[0m\u001b[0m\n\u001b[1;32m--> 555\u001b[1;33m         \u001b[1;32mreturn\u001b[0m \u001b[0mself\u001b[0m\u001b[1;33m.\u001b[0m\u001b[0mrequest\u001b[0m\u001b[1;33m(\u001b[0m\u001b[1;34m'GET'\u001b[0m\u001b[1;33m,\u001b[0m \u001b[0murl\u001b[0m\u001b[1;33m,\u001b[0m \u001b[1;33m**\u001b[0m\u001b[0mkwargs\u001b[0m\u001b[1;33m)\u001b[0m\u001b[1;33m\u001b[0m\u001b[1;33m\u001b[0m\u001b[0m\n\u001b[0m\u001b[0;32m    556\u001b[0m \u001b[1;33m\u001b[0m\u001b[0m\n\u001b[0;32m    557\u001b[0m     \u001b[1;32mdef\u001b[0m \u001b[0moptions\u001b[0m\u001b[1;33m(\u001b[0m\u001b[0mself\u001b[0m\u001b[1;33m,\u001b[0m \u001b[0murl\u001b[0m\u001b[1;33m,\u001b[0m \u001b[1;33m**\u001b[0m\u001b[0mkwargs\u001b[0m\u001b[1;33m)\u001b[0m\u001b[1;33m:\u001b[0m\u001b[1;33m\u001b[0m\u001b[1;33m\u001b[0m\u001b[0m\n",
      "\u001b[1;32m~\\anaconda3\\lib\\site-packages\\requests\\sessions.py\u001b[0m in \u001b[0;36mrequest\u001b[1;34m(self, method, url, params, data, headers, cookies, files, auth, timeout, allow_redirects, proxies, hooks, stream, verify, cert, json)\u001b[0m\n\u001b[0;32m    540\u001b[0m         }\n\u001b[0;32m    541\u001b[0m         \u001b[0msend_kwargs\u001b[0m\u001b[1;33m.\u001b[0m\u001b[0mupdate\u001b[0m\u001b[1;33m(\u001b[0m\u001b[0msettings\u001b[0m\u001b[1;33m)\u001b[0m\u001b[1;33m\u001b[0m\u001b[1;33m\u001b[0m\u001b[0m\n\u001b[1;32m--> 542\u001b[1;33m         \u001b[0mresp\u001b[0m \u001b[1;33m=\u001b[0m \u001b[0mself\u001b[0m\u001b[1;33m.\u001b[0m\u001b[0msend\u001b[0m\u001b[1;33m(\u001b[0m\u001b[0mprep\u001b[0m\u001b[1;33m,\u001b[0m \u001b[1;33m**\u001b[0m\u001b[0msend_kwargs\u001b[0m\u001b[1;33m)\u001b[0m\u001b[1;33m\u001b[0m\u001b[1;33m\u001b[0m\u001b[0m\n\u001b[0m\u001b[0;32m    543\u001b[0m \u001b[1;33m\u001b[0m\u001b[0m\n\u001b[0;32m    544\u001b[0m         \u001b[1;32mreturn\u001b[0m \u001b[0mresp\u001b[0m\u001b[1;33m\u001b[0m\u001b[1;33m\u001b[0m\u001b[0m\n",
      "\u001b[1;32m~\\anaconda3\\lib\\site-packages\\requests\\sessions.py\u001b[0m in \u001b[0;36msend\u001b[1;34m(self, request, **kwargs)\u001b[0m\n\u001b[0;32m    653\u001b[0m \u001b[1;33m\u001b[0m\u001b[0m\n\u001b[0;32m    654\u001b[0m         \u001b[1;31m# Send the request\u001b[0m\u001b[1;33m\u001b[0m\u001b[1;33m\u001b[0m\u001b[0m\n\u001b[1;32m--> 655\u001b[1;33m         \u001b[0mr\u001b[0m \u001b[1;33m=\u001b[0m \u001b[0madapter\u001b[0m\u001b[1;33m.\u001b[0m\u001b[0msend\u001b[0m\u001b[1;33m(\u001b[0m\u001b[0mrequest\u001b[0m\u001b[1;33m,\u001b[0m \u001b[1;33m**\u001b[0m\u001b[0mkwargs\u001b[0m\u001b[1;33m)\u001b[0m\u001b[1;33m\u001b[0m\u001b[1;33m\u001b[0m\u001b[0m\n\u001b[0m\u001b[0;32m    656\u001b[0m \u001b[1;33m\u001b[0m\u001b[0m\n\u001b[0;32m    657\u001b[0m         \u001b[1;31m# Total elapsed time of the request (approximately)\u001b[0m\u001b[1;33m\u001b[0m\u001b[1;33m\u001b[0m\u001b[0m\n",
      "\u001b[1;32m~\\anaconda3\\lib\\site-packages\\requests\\adapters.py\u001b[0m in \u001b[0;36msend\u001b[1;34m(self, request, stream, timeout, verify, cert, proxies)\u001b[0m\n\u001b[0;32m    437\u001b[0m         \u001b[1;32mtry\u001b[0m\u001b[1;33m:\u001b[0m\u001b[1;33m\u001b[0m\u001b[1;33m\u001b[0m\u001b[0m\n\u001b[0;32m    438\u001b[0m             \u001b[1;32mif\u001b[0m \u001b[1;32mnot\u001b[0m \u001b[0mchunked\u001b[0m\u001b[1;33m:\u001b[0m\u001b[1;33m\u001b[0m\u001b[1;33m\u001b[0m\u001b[0m\n\u001b[1;32m--> 439\u001b[1;33m                 resp = conn.urlopen(\n\u001b[0m\u001b[0;32m    440\u001b[0m                     \u001b[0mmethod\u001b[0m\u001b[1;33m=\u001b[0m\u001b[0mrequest\u001b[0m\u001b[1;33m.\u001b[0m\u001b[0mmethod\u001b[0m\u001b[1;33m,\u001b[0m\u001b[1;33m\u001b[0m\u001b[1;33m\u001b[0m\u001b[0m\n\u001b[0;32m    441\u001b[0m                     \u001b[0murl\u001b[0m\u001b[1;33m=\u001b[0m\u001b[0murl\u001b[0m\u001b[1;33m,\u001b[0m\u001b[1;33m\u001b[0m\u001b[1;33m\u001b[0m\u001b[0m\n",
      "\u001b[1;32m~\\anaconda3\\lib\\site-packages\\urllib3\\connectionpool.py\u001b[0m in \u001b[0;36murlopen\u001b[1;34m(self, method, url, body, headers, retries, redirect, assert_same_host, timeout, pool_timeout, release_conn, chunked, body_pos, **response_kw)\u001b[0m\n\u001b[0;32m    697\u001b[0m \u001b[1;33m\u001b[0m\u001b[0m\n\u001b[0;32m    698\u001b[0m             \u001b[1;31m# Make the request on the httplib connection object.\u001b[0m\u001b[1;33m\u001b[0m\u001b[1;33m\u001b[0m\u001b[0m\n\u001b[1;32m--> 699\u001b[1;33m             httplib_response = self._make_request(\n\u001b[0m\u001b[0;32m    700\u001b[0m                 \u001b[0mconn\u001b[0m\u001b[1;33m,\u001b[0m\u001b[1;33m\u001b[0m\u001b[1;33m\u001b[0m\u001b[0m\n\u001b[0;32m    701\u001b[0m                 \u001b[0mmethod\u001b[0m\u001b[1;33m,\u001b[0m\u001b[1;33m\u001b[0m\u001b[1;33m\u001b[0m\u001b[0m\n",
      "\u001b[1;32m~\\anaconda3\\lib\\site-packages\\urllib3\\connectionpool.py\u001b[0m in \u001b[0;36m_make_request\u001b[1;34m(self, conn, method, url, timeout, chunked, **httplib_request_kw)\u001b[0m\n\u001b[0;32m    443\u001b[0m                     \u001b[1;31m# Python 3 (including for exceptions like SystemExit).\u001b[0m\u001b[1;33m\u001b[0m\u001b[1;33m\u001b[0m\u001b[0m\n\u001b[0;32m    444\u001b[0m                     \u001b[1;31m# Otherwise it looks like a bug in the code.\u001b[0m\u001b[1;33m\u001b[0m\u001b[1;33m\u001b[0m\u001b[0m\n\u001b[1;32m--> 445\u001b[1;33m                     \u001b[0msix\u001b[0m\u001b[1;33m.\u001b[0m\u001b[0mraise_from\u001b[0m\u001b[1;33m(\u001b[0m\u001b[0me\u001b[0m\u001b[1;33m,\u001b[0m \u001b[1;32mNone\u001b[0m\u001b[1;33m)\u001b[0m\u001b[1;33m\u001b[0m\u001b[1;33m\u001b[0m\u001b[0m\n\u001b[0m\u001b[0;32m    446\u001b[0m         \u001b[1;32mexcept\u001b[0m \u001b[1;33m(\u001b[0m\u001b[0mSocketTimeout\u001b[0m\u001b[1;33m,\u001b[0m \u001b[0mBaseSSLError\u001b[0m\u001b[1;33m,\u001b[0m \u001b[0mSocketError\u001b[0m\u001b[1;33m)\u001b[0m \u001b[1;32mas\u001b[0m \u001b[0me\u001b[0m\u001b[1;33m:\u001b[0m\u001b[1;33m\u001b[0m\u001b[1;33m\u001b[0m\u001b[0m\n\u001b[0;32m    447\u001b[0m             \u001b[0mself\u001b[0m\u001b[1;33m.\u001b[0m\u001b[0m_raise_timeout\u001b[0m\u001b[1;33m(\u001b[0m\u001b[0merr\u001b[0m\u001b[1;33m=\u001b[0m\u001b[0me\u001b[0m\u001b[1;33m,\u001b[0m \u001b[0murl\u001b[0m\u001b[1;33m=\u001b[0m\u001b[0murl\u001b[0m\u001b[1;33m,\u001b[0m \u001b[0mtimeout_value\u001b[0m\u001b[1;33m=\u001b[0m\u001b[0mread_timeout\u001b[0m\u001b[1;33m)\u001b[0m\u001b[1;33m\u001b[0m\u001b[1;33m\u001b[0m\u001b[0m\n",
      "\u001b[1;32m~\\anaconda3\\lib\\site-packages\\urllib3\\packages\\six.py\u001b[0m in \u001b[0;36mraise_from\u001b[1;34m(value, from_value)\u001b[0m\n",
      "\u001b[1;32m~\\anaconda3\\lib\\site-packages\\urllib3\\connectionpool.py\u001b[0m in \u001b[0;36m_make_request\u001b[1;34m(self, conn, method, url, timeout, chunked, **httplib_request_kw)\u001b[0m\n\u001b[0;32m    438\u001b[0m                 \u001b[1;31m# Python 3\u001b[0m\u001b[1;33m\u001b[0m\u001b[1;33m\u001b[0m\u001b[0m\n\u001b[0;32m    439\u001b[0m                 \u001b[1;32mtry\u001b[0m\u001b[1;33m:\u001b[0m\u001b[1;33m\u001b[0m\u001b[1;33m\u001b[0m\u001b[0m\n\u001b[1;32m--> 440\u001b[1;33m                     \u001b[0mhttplib_response\u001b[0m \u001b[1;33m=\u001b[0m \u001b[0mconn\u001b[0m\u001b[1;33m.\u001b[0m\u001b[0mgetresponse\u001b[0m\u001b[1;33m(\u001b[0m\u001b[1;33m)\u001b[0m\u001b[1;33m\u001b[0m\u001b[1;33m\u001b[0m\u001b[0m\n\u001b[0m\u001b[0;32m    441\u001b[0m                 \u001b[1;32mexcept\u001b[0m \u001b[0mBaseException\u001b[0m \u001b[1;32mas\u001b[0m \u001b[0me\u001b[0m\u001b[1;33m:\u001b[0m\u001b[1;33m\u001b[0m\u001b[1;33m\u001b[0m\u001b[0m\n\u001b[0;32m    442\u001b[0m                     \u001b[1;31m# Remove the TypeError from the exception chain in\u001b[0m\u001b[1;33m\u001b[0m\u001b[1;33m\u001b[0m\u001b[0m\n",
      "\u001b[1;32m~\\anaconda3\\lib\\http\\client.py\u001b[0m in \u001b[0;36mgetresponse\u001b[1;34m(self)\u001b[0m\n\u001b[0;32m   1369\u001b[0m         \u001b[1;32mtry\u001b[0m\u001b[1;33m:\u001b[0m\u001b[1;33m\u001b[0m\u001b[1;33m\u001b[0m\u001b[0m\n\u001b[0;32m   1370\u001b[0m             \u001b[1;32mtry\u001b[0m\u001b[1;33m:\u001b[0m\u001b[1;33m\u001b[0m\u001b[1;33m\u001b[0m\u001b[0m\n\u001b[1;32m-> 1371\u001b[1;33m                 \u001b[0mresponse\u001b[0m\u001b[1;33m.\u001b[0m\u001b[0mbegin\u001b[0m\u001b[1;33m(\u001b[0m\u001b[1;33m)\u001b[0m\u001b[1;33m\u001b[0m\u001b[1;33m\u001b[0m\u001b[0m\n\u001b[0m\u001b[0;32m   1372\u001b[0m             \u001b[1;32mexcept\u001b[0m \u001b[0mConnectionError\u001b[0m\u001b[1;33m:\u001b[0m\u001b[1;33m\u001b[0m\u001b[1;33m\u001b[0m\u001b[0m\n\u001b[0;32m   1373\u001b[0m                 \u001b[0mself\u001b[0m\u001b[1;33m.\u001b[0m\u001b[0mclose\u001b[0m\u001b[1;33m(\u001b[0m\u001b[1;33m)\u001b[0m\u001b[1;33m\u001b[0m\u001b[1;33m\u001b[0m\u001b[0m\n",
      "\u001b[1;32m~\\anaconda3\\lib\\http\\client.py\u001b[0m in \u001b[0;36mbegin\u001b[1;34m(self)\u001b[0m\n\u001b[0;32m    317\u001b[0m         \u001b[1;31m# read until we get a non-100 response\u001b[0m\u001b[1;33m\u001b[0m\u001b[1;33m\u001b[0m\u001b[0m\n\u001b[0;32m    318\u001b[0m         \u001b[1;32mwhile\u001b[0m \u001b[1;32mTrue\u001b[0m\u001b[1;33m:\u001b[0m\u001b[1;33m\u001b[0m\u001b[1;33m\u001b[0m\u001b[0m\n\u001b[1;32m--> 319\u001b[1;33m             \u001b[0mversion\u001b[0m\u001b[1;33m,\u001b[0m \u001b[0mstatus\u001b[0m\u001b[1;33m,\u001b[0m \u001b[0mreason\u001b[0m \u001b[1;33m=\u001b[0m \u001b[0mself\u001b[0m\u001b[1;33m.\u001b[0m\u001b[0m_read_status\u001b[0m\u001b[1;33m(\u001b[0m\u001b[1;33m)\u001b[0m\u001b[1;33m\u001b[0m\u001b[1;33m\u001b[0m\u001b[0m\n\u001b[0m\u001b[0;32m    320\u001b[0m             \u001b[1;32mif\u001b[0m \u001b[0mstatus\u001b[0m \u001b[1;33m!=\u001b[0m \u001b[0mCONTINUE\u001b[0m\u001b[1;33m:\u001b[0m\u001b[1;33m\u001b[0m\u001b[1;33m\u001b[0m\u001b[0m\n\u001b[0;32m    321\u001b[0m                 \u001b[1;32mbreak\u001b[0m\u001b[1;33m\u001b[0m\u001b[1;33m\u001b[0m\u001b[0m\n",
      "\u001b[1;32m~\\anaconda3\\lib\\http\\client.py\u001b[0m in \u001b[0;36m_read_status\u001b[1;34m(self)\u001b[0m\n\u001b[0;32m    278\u001b[0m \u001b[1;33m\u001b[0m\u001b[0m\n\u001b[0;32m    279\u001b[0m     \u001b[1;32mdef\u001b[0m \u001b[0m_read_status\u001b[0m\u001b[1;33m(\u001b[0m\u001b[0mself\u001b[0m\u001b[1;33m)\u001b[0m\u001b[1;33m:\u001b[0m\u001b[1;33m\u001b[0m\u001b[1;33m\u001b[0m\u001b[0m\n\u001b[1;32m--> 280\u001b[1;33m         \u001b[0mline\u001b[0m \u001b[1;33m=\u001b[0m \u001b[0mstr\u001b[0m\u001b[1;33m(\u001b[0m\u001b[0mself\u001b[0m\u001b[1;33m.\u001b[0m\u001b[0mfp\u001b[0m\u001b[1;33m.\u001b[0m\u001b[0mreadline\u001b[0m\u001b[1;33m(\u001b[0m\u001b[0m_MAXLINE\u001b[0m \u001b[1;33m+\u001b[0m \u001b[1;36m1\u001b[0m\u001b[1;33m)\u001b[0m\u001b[1;33m,\u001b[0m \u001b[1;34m\"iso-8859-1\"\u001b[0m\u001b[1;33m)\u001b[0m\u001b[1;33m\u001b[0m\u001b[1;33m\u001b[0m\u001b[0m\n\u001b[0m\u001b[0;32m    281\u001b[0m         \u001b[1;32mif\u001b[0m \u001b[0mlen\u001b[0m\u001b[1;33m(\u001b[0m\u001b[0mline\u001b[0m\u001b[1;33m)\u001b[0m \u001b[1;33m>\u001b[0m \u001b[0m_MAXLINE\u001b[0m\u001b[1;33m:\u001b[0m\u001b[1;33m\u001b[0m\u001b[1;33m\u001b[0m\u001b[0m\n\u001b[0;32m    282\u001b[0m             \u001b[1;32mraise\u001b[0m \u001b[0mLineTooLong\u001b[0m\u001b[1;33m(\u001b[0m\u001b[1;34m\"status line\"\u001b[0m\u001b[1;33m)\u001b[0m\u001b[1;33m\u001b[0m\u001b[1;33m\u001b[0m\u001b[0m\n",
      "\u001b[1;32m~\\anaconda3\\lib\\socket.py\u001b[0m in \u001b[0;36mreadinto\u001b[1;34m(self, b)\u001b[0m\n\u001b[0;32m    702\u001b[0m         \u001b[1;32mwhile\u001b[0m \u001b[1;32mTrue\u001b[0m\u001b[1;33m:\u001b[0m\u001b[1;33m\u001b[0m\u001b[1;33m\u001b[0m\u001b[0m\n\u001b[0;32m    703\u001b[0m             \u001b[1;32mtry\u001b[0m\u001b[1;33m:\u001b[0m\u001b[1;33m\u001b[0m\u001b[1;33m\u001b[0m\u001b[0m\n\u001b[1;32m--> 704\u001b[1;33m                 \u001b[1;32mreturn\u001b[0m \u001b[0mself\u001b[0m\u001b[1;33m.\u001b[0m\u001b[0m_sock\u001b[0m\u001b[1;33m.\u001b[0m\u001b[0mrecv_into\u001b[0m\u001b[1;33m(\u001b[0m\u001b[0mb\u001b[0m\u001b[1;33m)\u001b[0m\u001b[1;33m\u001b[0m\u001b[1;33m\u001b[0m\u001b[0m\n\u001b[0m\u001b[0;32m    705\u001b[0m             \u001b[1;32mexcept\u001b[0m \u001b[0mtimeout\u001b[0m\u001b[1;33m:\u001b[0m\u001b[1;33m\u001b[0m\u001b[1;33m\u001b[0m\u001b[0m\n\u001b[0;32m    706\u001b[0m                 \u001b[0mself\u001b[0m\u001b[1;33m.\u001b[0m\u001b[0m_timeout_occurred\u001b[0m \u001b[1;33m=\u001b[0m \u001b[1;32mTrue\u001b[0m\u001b[1;33m\u001b[0m\u001b[1;33m\u001b[0m\u001b[0m\n",
      "\u001b[1;32m~\\anaconda3\\lib\\ssl.py\u001b[0m in \u001b[0;36mrecv_into\u001b[1;34m(self, buffer, nbytes, flags)\u001b[0m\n\u001b[0;32m   1239\u001b[0m                   \u001b[1;34m\"non-zero flags not allowed in calls to recv_into() on %s\"\u001b[0m \u001b[1;33m%\u001b[0m\u001b[1;33m\u001b[0m\u001b[1;33m\u001b[0m\u001b[0m\n\u001b[0;32m   1240\u001b[0m                   self.__class__)\n\u001b[1;32m-> 1241\u001b[1;33m             \u001b[1;32mreturn\u001b[0m \u001b[0mself\u001b[0m\u001b[1;33m.\u001b[0m\u001b[0mread\u001b[0m\u001b[1;33m(\u001b[0m\u001b[0mnbytes\u001b[0m\u001b[1;33m,\u001b[0m \u001b[0mbuffer\u001b[0m\u001b[1;33m)\u001b[0m\u001b[1;33m\u001b[0m\u001b[1;33m\u001b[0m\u001b[0m\n\u001b[0m\u001b[0;32m   1242\u001b[0m         \u001b[1;32melse\u001b[0m\u001b[1;33m:\u001b[0m\u001b[1;33m\u001b[0m\u001b[1;33m\u001b[0m\u001b[0m\n\u001b[0;32m   1243\u001b[0m             \u001b[1;32mreturn\u001b[0m \u001b[0msuper\u001b[0m\u001b[1;33m(\u001b[0m\u001b[1;33m)\u001b[0m\u001b[1;33m.\u001b[0m\u001b[0mrecv_into\u001b[0m\u001b[1;33m(\u001b[0m\u001b[0mbuffer\u001b[0m\u001b[1;33m,\u001b[0m \u001b[0mnbytes\u001b[0m\u001b[1;33m,\u001b[0m \u001b[0mflags\u001b[0m\u001b[1;33m)\u001b[0m\u001b[1;33m\u001b[0m\u001b[1;33m\u001b[0m\u001b[0m\n",
      "\u001b[1;32m~\\anaconda3\\lib\\ssl.py\u001b[0m in \u001b[0;36mread\u001b[1;34m(self, len, buffer)\u001b[0m\n\u001b[0;32m   1097\u001b[0m         \u001b[1;32mtry\u001b[0m\u001b[1;33m:\u001b[0m\u001b[1;33m\u001b[0m\u001b[1;33m\u001b[0m\u001b[0m\n\u001b[0;32m   1098\u001b[0m             \u001b[1;32mif\u001b[0m \u001b[0mbuffer\u001b[0m \u001b[1;32mis\u001b[0m \u001b[1;32mnot\u001b[0m \u001b[1;32mNone\u001b[0m\u001b[1;33m:\u001b[0m\u001b[1;33m\u001b[0m\u001b[1;33m\u001b[0m\u001b[0m\n\u001b[1;32m-> 1099\u001b[1;33m                 \u001b[1;32mreturn\u001b[0m \u001b[0mself\u001b[0m\u001b[1;33m.\u001b[0m\u001b[0m_sslobj\u001b[0m\u001b[1;33m.\u001b[0m\u001b[0mread\u001b[0m\u001b[1;33m(\u001b[0m\u001b[0mlen\u001b[0m\u001b[1;33m,\u001b[0m \u001b[0mbuffer\u001b[0m\u001b[1;33m)\u001b[0m\u001b[1;33m\u001b[0m\u001b[1;33m\u001b[0m\u001b[0m\n\u001b[0m\u001b[0;32m   1100\u001b[0m             \u001b[1;32melse\u001b[0m\u001b[1;33m:\u001b[0m\u001b[1;33m\u001b[0m\u001b[1;33m\u001b[0m\u001b[0m\n\u001b[0;32m   1101\u001b[0m                 \u001b[1;32mreturn\u001b[0m \u001b[0mself\u001b[0m\u001b[1;33m.\u001b[0m\u001b[0m_sslobj\u001b[0m\u001b[1;33m.\u001b[0m\u001b[0mread\u001b[0m\u001b[1;33m(\u001b[0m\u001b[0mlen\u001b[0m\u001b[1;33m)\u001b[0m\u001b[1;33m\u001b[0m\u001b[1;33m\u001b[0m\u001b[0m\n",
      "\u001b[1;31mKeyboardInterrupt\u001b[0m: "
     ]
    }
   ],
   "source": [
    "# for i, (name,link) in enumerate(MUNICIPALITIES.items()):\n",
    "for i, (name,link) in enumerate(limited_MUNICIPALITIES.items()):\n",
    "\n",
    "    # Get correct name since the format is REGION NAME|MUNICIPALITY NAME\n",
    "    municipality_name = name.split('|')[1]\n",
    "\n",
    "\n",
    "    right_table = get_specific_element(link, 'table', 'sortable datatable')\n",
    "    municipality_summary = get_specific_element(link, 'table', 'iBox')\n",
    "\n",
    "\n",
    "    # initialize blank lists\n",
    "    Municipality = []\n",
    "    Brgy = []\n",
    "    Population_per = []\n",
    "    Population_2020 = []\n",
    "    Population_2015 = []\n",
    "    Change_2015_2020 = []\n",
    "    APGR_2015_2020 = []\n",
    "    Postal = []\n",
    "    CoastalLandLocked = []\n",
    "    Marine = []\n",
    "    Coordinates = []\n",
    "    Sea_level = []\n",
    "\n",
    "\n",
    "\n",
    "\n",
    "    for row in right_table.find_all(\"tr\"):\n",
    "        cells = row.find_all('td')\n",
    "        barangay = row.find_all('a')\n",
    "\n",
    "        if len(barangay) > 0:\n",
    "            if len(cells) > 0:\n",
    "                Municipality.append(municipality_name)\n",
    "                Brgy.append(barangay[0].find(text=True))\n",
    "                Population_per.append(cells[0].find(text=True))\n",
    "                Population_2020.append(cells[1].find(text=True))\n",
    "                Population_2015.append(cells[2].find(text=True))\n",
    "                Change_2015_2020.append(cells[3].find(text=True))\n",
    "                APGR_2015_2020.append(cells[4].find(text=True))\n",
    "\n",
    "\n",
    "                # GET BARANGAY\n",
    "                for _link in barangay:\n",
    "                    _barangay_url = base_url + _link.get('href')\n",
    "\n",
    "                    brgy_summary = get_specific_element(_barangay_url, 'table', 'iBox')\n",
    "                    brgy_rows = brgy_summary.find_all('tr')\n",
    "\n",
    "\n",
    "                    haveSeaLevel = brgy_summary.find(text=re.compile(\"Estimated\"))\n",
    "                    if not haveSeaLevel:\n",
    "                        Sea_level.append(\"NULL\")\n",
    "\n",
    "                    havePostal = brgy_summary.find(text=re.compile(\"Postal\"))\n",
    "                    if not havePostal:\n",
    "                        Postal.append(\"NULL\")\n",
    "\n",
    "\n",
    "                    for _row in brgy_rows:\n",
    "                        _th = _row.find_all('th')\n",
    "                        for _h in _th:\n",
    "\n",
    "                            _summary_title = (_h.get_text()).casefold()\n",
    "\n",
    "                            if _summary_title == 'postal code'.casefold():\n",
    "                                Postal.append(_h.next_sibling.get_text())\n",
    "\n",
    "                            if _summary_title == 'coordinates'.casefold():\n",
    "                                Coordinates.append(_h.next_sibling.get_text())\n",
    "\n",
    "                            if _summary_title.split(' ')[0] == 'Estimated'.casefold():\n",
    "                                Sea_level.append(_h.next_sibling.get_text())\n",
    "\n",
    "\n",
    "\n",
    "                for _row in municipality_summary('tr'):\n",
    "                    _th = _row.find_all('th')\n",
    "                    for _h in _th:\n",
    "                        _summary_title = (_h.get_text()).lower()\n",
    "\n",
    "                        if _summary_title == 'coastal/landlocked':\n",
    "                            CoastalLandLocked.append(_h.next_sibling.get_text())\n",
    "\n",
    "                        if _summary_title == 'marine waterbodies':\n",
    "                            Marine.append(_h.next_sibling.get_text())\n",
    "\n",
    "\n",
    "    #ialalgay na yung mga data sa dataframe\n",
    "    df_output4 = pd.DataFrame()\n",
    "    df_output4['Municipality Name'] = Municipality\n",
    "    df_output4['Barangay Name'] = Brgy\n",
    "    df_output4['Population percentage (2020)'] = Population_per\n",
    "    df_output4['Population (2020)'] = Population_2020\n",
    "    df_output4['Population (2015)'] = Population_2015\n",
    "    df_output4['Change (2015‑2020)'] = Change_2015_2020\n",
    "    df_output4['Annual Population Growth Rate (2015‑2020)'] = APGR_2015_2020\n",
    "\n",
    "    if len(Postal) == 0:\n",
    "        Postal = ['NULL'] * len(Brgy)\n",
    "\n",
    "    df_output4['Postal Code'] = Postal\n",
    "\n",
    "    df_output4['Coastal/Landlocked'] = CoastalLandLocked\n",
    "    df_output4['Marine Waterbodies'] = Marine\n",
    "    df_output4['Coordinates'] = Coordinates\n",
    "\n",
    "    if len(Sea_level) == 0:\n",
    "        Sea_level = ['NULL'] * len(Brgy)\n",
    "    df_output4['Estimated Elevation above sea level'] = Sea_level\n",
    "\n",
    "    output4 = output4.append(df_output4)"
   ]
  },
  {
   "cell_type": "code",
   "execution_count": 96,
   "metadata": {},
   "outputs": [],
   "source": [
    "# output4\n",
    "# output4.describe()"
   ]
  },
  {
   "cell_type": "code",
   "execution_count": 45,
   "metadata": {},
   "outputs": [],
   "source": [
    "output4.to_csv(f'../Output/Output4.csv')"
   ]
  }
 ],
 "metadata": {
  "interpreter": {
   "hash": "4ca308f307689ef36e9c827b7b0032d43021e0283c5add7131d9131bd98a5198"
  },
  "kernelspec": {
   "display_name": "Python 3.8.8 64-bit ('base': conda)",
   "language": "python",
   "name": "python3"
  },
  "language_info": {
   "codemirror_mode": {
    "name": "ipython",
    "version": 3
   },
   "file_extension": ".py",
   "mimetype": "text/x-python",
   "name": "python",
   "nbconvert_exporter": "python",
   "pygments_lexer": "ipython3",
   "version": "3.9.7"
  },
  "orig_nbformat": 4
 },
 "nbformat": 4,
 "nbformat_minor": 2
}
