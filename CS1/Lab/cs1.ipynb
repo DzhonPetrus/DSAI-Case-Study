{
 "cells": [
  {
   "cell_type": "markdown",
   "metadata": {},
   "source": [
    "# CASE STUDY 1 - GROUP 2\n",
    "### Members\n",
    "- Bautista, Millette\n",
    "- Dano, Jomari\n",
    "- Narzoles, John Peter\n",
    "- Roranes, Raven Rain\n",
    "- Siaotong, Danica"
   ]
  },
  {
   "cell_type": "markdown",
   "metadata": {},
   "source": [
    "---"
   ]
  },
  {
   "cell_type": "markdown",
   "metadata": {},
   "source": [
    "### SETUP"
   ]
  },
  {
   "cell_type": "code",
   "execution_count": 3,
   "metadata": {},
   "outputs": [],
   "source": [
    "import requests\n",
    "import pandas as pd\n",
    "from bs4 import BeautifulSoup\n",
    "\n",
    "\n",
    "base_url = \"https://philatlas.com/\""
   ]
  },
  {
   "cell_type": "markdown",
   "metadata": {},
   "source": [
    "---"
   ]
  },
  {
   "cell_type": "markdown",
   "metadata": {},
   "source": [
    "### FUNCTIONS"
   ]
  },
  {
   "cell_type": "code",
   "execution_count": 4,
   "metadata": {},
   "outputs": [],
   "source": [
    "# url = webpage\n",
    "# element = target element\n",
    "# element_class = class of target element\n",
    "def get_specific_element(url, element, element_class):\n",
    "    page = requests.get(url)\n",
    "    if page.status_code != 200:\n",
    "        return \"Error on accessing Webpage\"\n",
    "    soup = BeautifulSoup(page.content, 'html.parser')\n",
    "    return soup.find(element, class_=element_class)"
   ]
  },
  {
   "cell_type": "markdown",
   "metadata": {},
   "source": [
    "---"
   ]
  },
  {
   "cell_type": "markdown",
   "metadata": {},
   "source": [
    "### Output 1: Island Group, Region"
   ]
  },
  {
   "cell_type": "code",
   "execution_count": 248,
   "metadata": {},
   "outputs": [],
   "source": [
    "# VARIABLES\n",
    "\n",
    "# OUTPUT 1\n",
    "island_groups = []\n",
    "regions = []\n",
    "url = f\"{base_url}island-groups.html\"\n",
    "\n",
    "# OUTPUT 2\n",
    "REGIONS = {}"
   ]
  },
  {
   "cell_type": "code",
   "execution_count": 249,
   "metadata": {},
   "outputs": [],
   "source": [
    "right_table = get_specific_element(url, 'table', 'generic-table')\n",
    "\n",
    "for row in right_table.find_all('tr'):\n",
    "    #kinuha island group kasi di sya kasama sa td\n",
    "\n",
    "    island = row.find_all('th', scope = 'row')\n",
    "    if len(island) > 0:\n",
    "    #     #finind ko yung laman ul para ilabas lahat ng mga list na nandun.\n",
    "        _region = row.find('ul').text\n",
    "        island_groups.append(island[0].find(text=True))\n",
    "        regions.append(_region+' ')\n",
    "\n",
    "\n",
    "        # SETUP FOR OUTPUT 2\n",
    "        links = row.find('ul')\n",
    "        for _url in links.find_all('a'):\n",
    "            _region_url = base_url + _url.get('href')\n",
    "            _txt = _url.get_text()\n",
    "            _region_name = _txt.split(' – ')[0].split(' ')[0]\n",
    "            REGIONS[_region_name] = _region_url"
   ]
  },
  {
   "cell_type": "code",
   "execution_count": 250,
   "metadata": {},
   "outputs": [],
   "source": [
    "df_output1 = pd.DataFrame(island_groups, columns=['Island group'])\n",
    "df_output1['Component regions'] = regions"
   ]
  },
  {
   "cell_type": "code",
   "execution_count": 252,
   "metadata": {},
   "outputs": [],
   "source": [
    "df_output1.to_csv('../Output/Output1.csv')"
   ]
  },
  {
   "cell_type": "markdown",
   "metadata": {},
   "source": [
    "---"
   ]
  },
  {
   "cell_type": "markdown",
   "metadata": {},
   "source": [
    "### Output 2: Region, Province Name, Type, Population (2015), Population (2010), Annual Population Growth Rat (2010 - 2015), Area (2007 in km2), Density (2015 per km2), City Count, Mun Count, Brgy Count"
   ]
  },
  {
   "cell_type": "code",
   "execution_count": 221,
   "metadata": {},
   "outputs": [],
   "source": [
    "# VARIABLES\n",
    "# REGIONS\n",
    "output2 = pd.DataFrame()\n",
    "\n",
    "# FOR OUTPUT 3\n",
    "PROVINCES = {}"
   ]
  },
  {
   "cell_type": "code",
   "execution_count": 222,
   "metadata": {},
   "outputs": [],
   "source": [
    "for name, link in REGIONS.items():\n",
    "    right_table = get_specific_element(link, 'table', 'sortable datatable')\n",
    "    right_table.find_all(\"tr\")\n",
    "\n",
    "    # VARIABLE INITIALIZATION\n",
    "    Region = []\n",
    "    Province = []\n",
    "    Type = []\n",
    "    Population_2020 = []\n",
    "    Population_2015 = []\n",
    "    APGR_2015_2020 = []\n",
    "    Area_2013 = []\n",
    "    Density_2020 = []\n",
    "    City_count = []\n",
    "    Mun_count = []\n",
    "    Brgy_count = []\n",
    "\n",
    "    for row in right_table.find_all(\"tr\"):\n",
    "        cells = row.find_all('td')\n",
    "        #kunin lahat ng \"a\" para makuha yung mga region name\n",
    "        province = row.find_all('a')\n",
    "\n",
    "\n",
    "\n",
    "\n",
    "\n",
    "        # SETUP FOR OUTPUT 3\n",
    "        for link in province:\n",
    "            _province_url = base_url + link.get('href')\n",
    "            # print(link.text)\n",
    "            PROVINCES[link.text] = _province_url\n",
    "\n",
    "\n",
    "\n",
    "\n",
    "\n",
    "        if len(province) > 0:\n",
    "            if len(cells) > 0:\n",
    "                Region.append(name)\n",
    "                Province.append(province[0].find(text=True))\n",
    "                Type.append(cells[0].find(text=True))\n",
    "                Population_2020.append(cells[1].find(text=True))\n",
    "                Population_2015.append(cells[2].find(text=True))\n",
    "                APGR_2015_2020.append(cells[3].find(text=True))\n",
    "                Area_2013.append(cells[4].find(text=True))\n",
    "                Density_2020.append(cells[5].find(text=True))\n",
    "\n",
    "                if name != 'NCR':\n",
    "                    City_count.append(cells[6].find(text=True))\n",
    "                    Mun_count.append(cells[7].find(text=True))\n",
    "                    Brgy_count.append(cells[8].find(text=True))\n",
    "                else:\n",
    "                    Brgy_count.append(cells[6].find(text=True))\n",
    "\n",
    "\n",
    "    # df_output2 = pd.DataFrame(name, columns = ['Region'])\n",
    "    df_output2 = pd.DataFrame()\n",
    "    df_output2['Region'] = Region\n",
    "    df_output2['Province Name'] = Province\n",
    "    df_output2['Type'] = Type\n",
    "    df_output2['Population (2020)'] = Population_2020\n",
    "    df_output2['Population (2015)'] = Population_2015\n",
    "    df_output2['Annual Population Growth Rate (2015‑2020)'] = APGR_2015_2020\n",
    "    df_output2['Area (2013), in km2'] = Area_2013\n",
    "    df_output2['Density (2020), per km2'] = Density_2020\n",
    "\n",
    "    if name != 'NCR':\n",
    "        df_output2['City count'] = City_count\n",
    "        df_output2['Mun count'] = Mun_count\n",
    "\n",
    "    df_output2['Brgy count'] = Brgy_count\n",
    "\n",
    "    output2 = output2.append(df_output2)"
   ]
  },
  {
   "cell_type": "code",
   "execution_count": 253,
   "metadata": {},
   "outputs": [],
   "source": [
    "# print(output2)\n",
    "output2.to_csv(f'../Output/Output2.csv')"
   ]
  },
  {
   "cell_type": "markdown",
   "metadata": {},
   "source": [
    "---"
   ]
  },
  {
   "cell_type": "markdown",
   "metadata": {},
   "source": [
    "### Output 3: Province, Municipality name, Type, Population (2015), Population (2010), Annual Population Growth Rate (2010 - 2015), Area (2007 in km2), Density (2015 per km2), Brgy Count"
   ]
  },
  {
   "cell_type": "code",
   "execution_count": 283,
   "metadata": {},
   "outputs": [],
   "source": [
    "# VARIABLES\n",
    "output3 = pd.DataFrame()\n",
    "\n",
    "\n",
    "# FOR OUTPUT 4\n",
    "BARANGAYS = {}"
   ]
  },
  {
   "cell_type": "code",
   "execution_count": 284,
   "metadata": {},
   "outputs": [],
   "source": [
    "for i, (name,link) in enumerate(PROVINCES.items()):\n",
    "\n",
    "    right_table = get_specific_element(link, 'table', 'sortable datatable')\n",
    "    right_table.find_all(\"tr\")\n",
    "\n",
    "    # VARIABLE INITIALIZATION\n",
    "    df_output3 = None\n",
    "    Province = []\n",
    "    Municipality = []\n",
    "    Type = []\n",
    "    Population_2020 = []\n",
    "    Population_2015 = []\n",
    "    APGR_2015_2020 = []\n",
    "    Area_2013 = []\n",
    "    Density_2020 = []\n",
    "    Brgy_count = []\n",
    "\n",
    "    for row in right_table.find_all(\"tr\"):\n",
    "        cells = row.find_all('td')\n",
    "        municipality_name = row.find_all('a')\n",
    "\n",
    "\n",
    "        if len(municipality_name) > 0:\n",
    "            if len(cells) > 0:\n",
    "                if len(cells) > 5:\n",
    "                    Province.append(name)\n",
    "                    Municipality.append(municipality_name[0].find(text=True))\n",
    "                    Type.append(cells[0].find(text=True))\n",
    "                    Population_2020.append(cells[1].find(text=True))\n",
    "                    Population_2015.append(cells[2].find(text=True))\n",
    "                    APGR_2015_2020.append(cells[3].find(text=True))\n",
    "                    Area_2013.append(cells[4].find(text=True))\n",
    "                    Density_2020.append(cells[5].find(text=True))\n",
    "                    Brgy_count.append(cells[6].find(text=True))\n",
    "\n",
    "\n",
    "    df_output3 = pd.DataFrame()\n",
    "    df_output3['Province'] = Province\n",
    "    df_output3['Municipality Name'] = Municipality\n",
    "    df_output3['Type'] = Type\n",
    "    df_output3['Population (2020)'] = Population_2020\n",
    "    df_output3['Population (2015)'] = Population_2015\n",
    "    df_output3['Annual Population Growth Rate (2015‑2020)'] = APGR_2015_2020\n",
    "    df_output3['Area (2013), in km2'] = Area_2013\n",
    "    df_output3['Density (2020), per km2'] = Density_2020\n",
    "\n",
    "    df_output3['Brgy count'] = Brgy_count\n",
    "\n",
    "    output3 = output3.append(df_output3)"
   ]
  },
  {
   "cell_type": "code",
   "execution_count": 285,
   "metadata": {},
   "outputs": [
    {
     "data": {
      "text/html": [
       "<div>\n",
       "<style scoped>\n",
       "    .dataframe tbody tr th:only-of-type {\n",
       "        vertical-align: middle;\n",
       "    }\n",
       "\n",
       "    .dataframe tbody tr th {\n",
       "        vertical-align: top;\n",
       "    }\n",
       "\n",
       "    .dataframe thead th {\n",
       "        text-align: right;\n",
       "    }\n",
       "</style>\n",
       "<table border=\"1\" class=\"dataframe\">\n",
       "  <thead>\n",
       "    <tr style=\"text-align: right;\">\n",
       "      <th></th>\n",
       "      <th>Province</th>\n",
       "      <th>Municipality Name</th>\n",
       "      <th>Type</th>\n",
       "      <th>Population (2020)</th>\n",
       "      <th>Population (2015)</th>\n",
       "      <th>Annual Population Growth Rate (2015‑2020)</th>\n",
       "      <th>Area (2013), in km2</th>\n",
       "      <th>Density (2020), per km2</th>\n",
       "      <th>Brgy count</th>\n",
       "    </tr>\n",
       "  </thead>\n",
       "  <tbody>\n",
       "    <tr>\n",
       "      <th>count</th>\n",
       "      <td>1489</td>\n",
       "      <td>1489</td>\n",
       "      <td>1489</td>\n",
       "      <td>1489</td>\n",
       "      <td>1489</td>\n",
       "      <td>1489</td>\n",
       "      <td>1489</td>\n",
       "      <td>1489</td>\n",
       "      <td>1489</td>\n",
       "    </tr>\n",
       "    <tr>\n",
       "      <th>unique</th>\n",
       "      <td>79</td>\n",
       "      <td>1280</td>\n",
       "      <td>7</td>\n",
       "      <td>1477</td>\n",
       "      <td>1480</td>\n",
       "      <td>493</td>\n",
       "      <td>1451</td>\n",
       "      <td>725</td>\n",
       "      <td>96</td>\n",
       "    </tr>\n",
       "    <tr>\n",
       "      <th>top</th>\n",
       "      <td>Cebu</td>\n",
       "      <td>San Isidro</td>\n",
       "      <td>municipality</td>\n",
       "      <td>19,297</td>\n",
       "      <td>25,212</td>\n",
       "      <td>1.01%</td>\n",
       "      <td>57.46</td>\n",
       "      <td>62</td>\n",
       "      <td>14</td>\n",
       "    </tr>\n",
       "    <tr>\n",
       "      <th>freq</th>\n",
       "      <td>50</td>\n",
       "      <td>9</td>\n",
       "      <td>1347</td>\n",
       "      <td>2</td>\n",
       "      <td>2</td>\n",
       "      <td>13</td>\n",
       "      <td>3</td>\n",
       "      <td>10</td>\n",
       "      <td>78</td>\n",
       "    </tr>\n",
       "  </tbody>\n",
       "</table>\n",
       "</div>"
      ],
      "text/plain": [
       "       Province Municipality Name          Type Population (2020)  \\\n",
       "count      1489              1489          1489              1489   \n",
       "unique       79              1280             7              1477   \n",
       "top        Cebu        San Isidro  municipality            19,297   \n",
       "freq         50                 9          1347                 2   \n",
       "\n",
       "       Population (2015) Annual Population Growth Rate (2015‑2020)  \\\n",
       "count               1489                                      1489   \n",
       "unique              1480                                       493   \n",
       "top               25,212                                     1.01%   \n",
       "freq                   2                                        13   \n",
       "\n",
       "       Area (2013), in km2 Density (2020), per km2 Brgy count  \n",
       "count                 1489                    1489       1489  \n",
       "unique                1451                     725         96  \n",
       "top                  57.46                      62         14  \n",
       "freq                     3                      10         78  "
      ]
     },
     "execution_count": 285,
     "metadata": {},
     "output_type": "execute_result"
    }
   ],
   "source": [
    "\n",
    "output3.describe()"
   ]
  },
  {
   "cell_type": "code",
   "execution_count": 286,
   "metadata": {},
   "outputs": [],
   "source": [
    "\n",
    "    # PROVINCES\n",
    "    # REGIONS\n",
    "\n",
    "    # print(output3)\n",
    "    output3.to_csv(f'../Output/Output3.csv')\n",
    "    # output3.describe()\n",
    "\n",
    "\n",
    "    # for index,(name,link) in enumerate(PROVINCES.items()):\n",
    "    #     print(PROVINCES_TYPE[index])\n",
    "    #     print(name)"
   ]
  },
  {
   "cell_type": "markdown",
   "metadata": {},
   "source": [
    "---"
   ]
  },
  {
   "cell_type": "markdown",
   "metadata": {},
   "source": [
    "### Output 4: Municipality Name, Barangay Name, Population Percentage (2015), Population (2015), Population (2010), Change (2010 - 2015), Annual Population Growth Rate (2010 - 2015), Postal Code, Coastal/Landlocked, Marine Waterbodies, Coordinates, Estimated Elevation above sea level"
   ]
  }
 ],
 "metadata": {
  "interpreter": {
   "hash": "4ca308f307689ef36e9c827b7b0032d43021e0283c5add7131d9131bd98a5198"
  },
  "kernelspec": {
   "display_name": "Python 3.8.8 64-bit ('base': conda)",
   "language": "python",
   "name": "python3"
  },
  "language_info": {
   "codemirror_mode": {
    "name": "ipython",
    "version": 3
   },
   "file_extension": ".py",
   "mimetype": "text/x-python",
   "name": "python",
   "nbconvert_exporter": "python",
   "pygments_lexer": "ipython3",
   "version": "3.8.8"
  },
  "orig_nbformat": 4
 },
 "nbformat": 4,
 "nbformat_minor": 2
}
